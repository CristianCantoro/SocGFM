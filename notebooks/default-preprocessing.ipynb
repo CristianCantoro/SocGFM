{
 "cells": [
  {
   "cell_type": "code",
   "execution_count": 1,
   "metadata": {
    "collapsed": true,
    "pycharm": {
     "name": "#%%\n"
    }
   },
   "outputs": [
    {
     "name": "stdout",
     "output_type": "stream",
     "text": [
      "Cloning into 'coordinatedActivity'...\r\n",
      "remote: Enumerating objects: 907, done.\u001B[K\r\n",
      "remote: Counting objects: 100% (385/385), done.\u001B[K\r\n",
      "remote: Compressing objects: 100% (241/241), done.\u001B[K\r\n",
      "remote: Total 907 (delta 266), reused 251 (delta 143), pack-reused 522\u001B[K\r\n",
      "Receiving objects: 100% (907/907), 2.39 MiB | 3.71 MiB/s, done.\r\n",
      "Resolving deltas: 100% (601/601), done.\r\n"
     ]
    }
   ],
   "source": [
    "!git clone https://github.com/ValeriaPante/coordinatedActivity/"
   ]
  },
  {
   "cell_type": "code",
   "execution_count": 1,
   "outputs": [
    {
     "name": "stderr",
     "output_type": "stream",
     "text": [
      "[nltk_data] Downloading package stopwords to /home/minici/nltk_data...\n",
      "[nltk_data]   Package stopwords is already up-to-date!\n"
     ]
    }
   ],
   "source": [
    "import pathlib\n",
    "import pandas as pd\n",
    "import numpy as np\n",
    "import networkx as nx\n",
    "\n",
    "from coordinatedActivity import coRetweet, coURL, hashtagSeq, textSimilarity, fastRetweet\n"
   ],
   "metadata": {
    "collapsed": false,
    "pycharm": {
     "name": "#%%\n"
    }
   }
  },
  {
   "cell_type": "code",
   "execution_count": 2,
   "outputs": [],
   "source": [
    "DATASET_NAME = 'UAE_sample'\n",
    "\n",
    "CONTROL_FILE_IDX, IO_FILE_IDX = 0, 1\n",
    "filename_dict = {'UAE_sample': ['control_driver_tweets_uae_082019.jsonl', 'uae_082019_tweets_csv_unhashed.csv']}\n",
    "base_dir = pathlib.Path.cwd().parent\n",
    "data_dir = base_dir / 'data' / 'raw'\n"
   ],
   "metadata": {
    "collapsed": false,
    "pycharm": {
     "name": "#%%\n"
    }
   }
  },
  {
   "cell_type": "code",
   "execution_count": 15,
   "outputs": [],
   "source": [
    "io_df = pd.read_csv(data_dir / DATASET_NAME / filename_dict[DATASET_NAME][IO_FILE_IDX], sep=\",\")\n",
    "control_df = pd.read_json(data_dir / DATASET_NAME / filename_dict[DATASET_NAME][CONTROL_FILE_IDX], lines=True)\n"
   ],
   "metadata": {
    "collapsed": false,
    "pycharm": {
     "name": "#%%\n"
    }
   }
  },
  {
   "cell_type": "markdown",
   "source": [
    "#### CoRetweet Network construction"
   ],
   "metadata": {
    "collapsed": false,
    "pycharm": {
     "name": "#%% md\n"
    }
   }
  },
  {
   "cell_type": "code",
   "execution_count": 25,
   "outputs": [],
   "source": [
    "control, treated = control_df.copy(), io_df.copy()\n",
    "control_column_names = ['id', 'user', 'retweeted_status']\n",
    "treated_column_names = ['userid', 'tweetid', 'retweet_tweetid']\n",
    "control = control[control_column_names]\n",
    "treated = treated[treated_column_names]\n"
   ],
   "metadata": {
    "collapsed": false,
    "pycharm": {
     "name": "#%%\n"
    }
   }
  },
  {
   "cell_type": "code",
   "execution_count": 26,
   "outputs": [],
   "source": [
    "coRetweet_network = coRetweet.coRetweet(control, treated)\n"
   ],
   "metadata": {
    "collapsed": false,
    "pycharm": {
     "name": "#%%\n"
    }
   }
  },
  {
   "cell_type": "code",
   "execution_count": 27,
   "outputs": [
    {
     "name": "stdout",
     "output_type": "stream",
     "text": [
      "CoRetweet network has 4320 nodes and 315393 edges\n"
     ]
    }
   ],
   "source": [
    "print(f'CoRetweet network has {coRetweet_network.number_of_nodes()} nodes and {coRetweet_network.number_of_edges()} edges')"
   ],
   "metadata": {
    "collapsed": false,
    "pycharm": {
     "name": "#%%\n"
    }
   }
  },
  {
   "cell_type": "markdown",
   "source": [
    "#### CoURL Network construction"
   ],
   "metadata": {
    "collapsed": false,
    "pycharm": {
     "name": "#%% md\n"
    }
   }
  },
  {
   "cell_type": "code",
   "execution_count": 28,
   "outputs": [],
   "source": [
    "control, treated = control_df.copy(), io_df.copy()\n",
    "control_column_names = ['user', 'entities', 'id']\n",
    "treated_column_names = ['tweetid', 'userid', 'urls']\n",
    "control = control[control_column_names]\n",
    "treated = treated[treated_column_names]\n"
   ],
   "metadata": {
    "collapsed": false,
    "pycharm": {
     "name": "#%%\n"
    }
   }
  },
  {
   "cell_type": "code",
   "execution_count": 29,
   "outputs": [],
   "source": [
    "coURL_network = coURL.coURL(control, treated)\n"
   ],
   "metadata": {
    "collapsed": false,
    "pycharm": {
     "name": "#%%\n"
    }
   }
  },
  {
   "cell_type": "code",
   "execution_count": 30,
   "outputs": [
    {
     "name": "stdout",
     "output_type": "stream",
     "text": [
      "CoURL network has 6112 nodes and 414276 edges\n"
     ]
    }
   ],
   "source": [
    "print(f'CoURL network has {coURL_network.number_of_nodes()} nodes and {coURL_network.number_of_edges()} edges')\n"
   ],
   "metadata": {
    "collapsed": false,
    "pycharm": {
     "name": "#%%\n"
    }
   }
  },
  {
   "cell_type": "markdown",
   "source": [
    "#### FastRetweet Network construction"
   ],
   "metadata": {
    "collapsed": false,
    "pycharm": {
     "name": "#%% md\n"
    }
   }
  },
  {
   "cell_type": "code",
   "execution_count": 12,
   "outputs": [],
   "source": [
    "control, treated = control_df.copy(), io_df.copy()\n",
    "control_column_names =  ['user', 'retweeted_status', 'id']\n",
    "treated_column_names = ['tweetid', 'userid', 'retweet_tweetid', 'retweet_userid']\n",
    "control = control[control_column_names]\n",
    "treated = treated[treated_column_names]\n"
   ],
   "metadata": {
    "collapsed": false,
    "pycharm": {
     "name": "#%%\n"
    }
   }
  },
  {
   "cell_type": "code",
   "execution_count": 6,
   "outputs": [
    {
     "ename": "AttributeError",
     "evalue": "Can only use .dt accessor with datetimelike values",
     "output_type": "error",
     "traceback": [
      "\u001B[0;31m---------------------------------------------------------------------------\u001B[0m",
      "\u001B[0;31mAttributeError\u001B[0m                            Traceback (most recent call last)",
      "Cell \u001B[0;32mIn[6], line 1\u001B[0m\n\u001B[0;32m----> 1\u001B[0m fastRetweet_network \u001B[38;5;241m=\u001B[39m fastRetweet\u001B[38;5;241m.\u001B[39mfastRetweet(control_df, io_df)\n",
      "File \u001B[0;32m/mnt/nas/minici/SocGFM/notebooks/coordinatedActivity/fastRetweet.py:46\u001B[0m, in \u001B[0;36mfastRetweet\u001B[0;34m(control, treated, timeInterval)\u001B[0m\n\u001B[1;32m     43\u001B[0m treated[\u001B[38;5;124m'\u001B[39m\u001B[38;5;124mtweet_timestamp\u001B[39m\u001B[38;5;124m'\u001B[39m] \u001B[38;5;241m=\u001B[39m treated[\u001B[38;5;124m'\u001B[39m\u001B[38;5;124mtweetid\u001B[39m\u001B[38;5;124m'\u001B[39m]\u001B[38;5;241m.\u001B[39mapply(\u001B[38;5;28;01mlambda\u001B[39;00m x: get_tweet_timestamp(\u001B[38;5;28mint\u001B[39m(x)))\n\u001B[1;32m     44\u001B[0m treated[\u001B[38;5;124m'\u001B[39m\u001B[38;5;124mretweet_timestamp\u001B[39m\u001B[38;5;124m'\u001B[39m] \u001B[38;5;241m=\u001B[39m treated[\u001B[38;5;124m'\u001B[39m\u001B[38;5;124mretweet_tweetid\u001B[39m\u001B[38;5;124m'\u001B[39m]\u001B[38;5;241m.\u001B[39mapply(\u001B[38;5;28;01mlambda\u001B[39;00m x: get_tweet_timestamp(\u001B[38;5;28mint\u001B[39m(x)))\n\u001B[0;32m---> 46\u001B[0m treated[\u001B[38;5;124m'\u001B[39m\u001B[38;5;124mdelta\u001B[39m\u001B[38;5;124m'\u001B[39m] \u001B[38;5;241m=\u001B[39m (treated[\u001B[38;5;124m'\u001B[39m\u001B[38;5;124mtweet_timestamp\u001B[39m\u001B[38;5;124m'\u001B[39m] \u001B[38;5;241m-\u001B[39m treated[\u001B[38;5;124m'\u001B[39m\u001B[38;5;124mretweet_timestamp\u001B[39m\u001B[38;5;124m'\u001B[39m])\u001B[38;5;241m.\u001B[39mdt\u001B[38;5;241m.\u001B[39mseconds\n\u001B[1;32m     47\u001B[0m control[\u001B[38;5;124m'\u001B[39m\u001B[38;5;124mdelta\u001B[39m\u001B[38;5;124m'\u001B[39m] \u001B[38;5;241m=\u001B[39m (control[\u001B[38;5;124m'\u001B[39m\u001B[38;5;124mtweet_timestamp\u001B[39m\u001B[38;5;124m'\u001B[39m] \u001B[38;5;241m-\u001B[39m control[\u001B[38;5;124m'\u001B[39m\u001B[38;5;124mretweet_timestamp\u001B[39m\u001B[38;5;124m'\u001B[39m])\u001B[38;5;241m.\u001B[39mdt\u001B[38;5;241m.\u001B[39mseconds\n\u001B[1;32m     49\u001B[0m cumulative \u001B[38;5;241m=\u001B[39m pd\u001B[38;5;241m.\u001B[39mconcat(\n\u001B[1;32m     50\u001B[0m     [treated[[\u001B[38;5;124m'\u001B[39m\u001B[38;5;124muserid\u001B[39m\u001B[38;5;124m'\u001B[39m, \u001B[38;5;124m'\u001B[39m\u001B[38;5;124mretweet_userid\u001B[39m\u001B[38;5;124m'\u001B[39m, \u001B[38;5;124m'\u001B[39m\u001B[38;5;124mdelta\u001B[39m\u001B[38;5;124m'\u001B[39m]], control[[\u001B[38;5;124m'\u001B[39m\u001B[38;5;124muserid\u001B[39m\u001B[38;5;124m'\u001B[39m, \u001B[38;5;124m'\u001B[39m\u001B[38;5;124mretweet_userid\u001B[39m\u001B[38;5;124m'\u001B[39m, \u001B[38;5;124m'\u001B[39m\u001B[38;5;124mdelta\u001B[39m\u001B[38;5;124m'\u001B[39m]]])\n",
      "File \u001B[0;32m~/anaconda3/envs/gfm_io/lib/python3.12/site-packages/pandas/core/generic.py:6296\u001B[0m, in \u001B[0;36mNDFrame.__getattr__\u001B[0;34m(self, name)\u001B[0m\n\u001B[1;32m   6289\u001B[0m \u001B[38;5;28;01mif\u001B[39;00m (\n\u001B[1;32m   6290\u001B[0m     name \u001B[38;5;129;01mnot\u001B[39;00m \u001B[38;5;129;01min\u001B[39;00m \u001B[38;5;28mself\u001B[39m\u001B[38;5;241m.\u001B[39m_internal_names_set\n\u001B[1;32m   6291\u001B[0m     \u001B[38;5;129;01mand\u001B[39;00m name \u001B[38;5;129;01mnot\u001B[39;00m \u001B[38;5;129;01min\u001B[39;00m \u001B[38;5;28mself\u001B[39m\u001B[38;5;241m.\u001B[39m_metadata\n\u001B[1;32m   6292\u001B[0m     \u001B[38;5;129;01mand\u001B[39;00m name \u001B[38;5;129;01mnot\u001B[39;00m \u001B[38;5;129;01min\u001B[39;00m \u001B[38;5;28mself\u001B[39m\u001B[38;5;241m.\u001B[39m_accessors\n\u001B[1;32m   6293\u001B[0m     \u001B[38;5;129;01mand\u001B[39;00m \u001B[38;5;28mself\u001B[39m\u001B[38;5;241m.\u001B[39m_info_axis\u001B[38;5;241m.\u001B[39m_can_hold_identifiers_and_holds_name(name)\n\u001B[1;32m   6294\u001B[0m ):\n\u001B[1;32m   6295\u001B[0m     \u001B[38;5;28;01mreturn\u001B[39;00m \u001B[38;5;28mself\u001B[39m[name]\n\u001B[0;32m-> 6296\u001B[0m \u001B[38;5;28;01mreturn\u001B[39;00m \u001B[38;5;28mobject\u001B[39m\u001B[38;5;241m.\u001B[39m\u001B[38;5;21m__getattribute__\u001B[39m(\u001B[38;5;28mself\u001B[39m, name)\n",
      "File \u001B[0;32m~/anaconda3/envs/gfm_io/lib/python3.12/site-packages/pandas/core/accessor.py:224\u001B[0m, in \u001B[0;36mCachedAccessor.__get__\u001B[0;34m(self, obj, cls)\u001B[0m\n\u001B[1;32m    221\u001B[0m \u001B[38;5;28;01mif\u001B[39;00m obj \u001B[38;5;129;01mis\u001B[39;00m \u001B[38;5;28;01mNone\u001B[39;00m:\n\u001B[1;32m    222\u001B[0m     \u001B[38;5;66;03m# we're accessing the attribute of the class, i.e., Dataset.geo\u001B[39;00m\n\u001B[1;32m    223\u001B[0m     \u001B[38;5;28;01mreturn\u001B[39;00m \u001B[38;5;28mself\u001B[39m\u001B[38;5;241m.\u001B[39m_accessor\n\u001B[0;32m--> 224\u001B[0m accessor_obj \u001B[38;5;241m=\u001B[39m \u001B[38;5;28mself\u001B[39m\u001B[38;5;241m.\u001B[39m_accessor(obj)\n\u001B[1;32m    225\u001B[0m \u001B[38;5;66;03m# Replace the property with the accessor object. Inspired by:\u001B[39;00m\n\u001B[1;32m    226\u001B[0m \u001B[38;5;66;03m# https://www.pydanny.com/cached-property.html\u001B[39;00m\n\u001B[1;32m    227\u001B[0m \u001B[38;5;66;03m# We need to use object.__setattr__ because we overwrite __setattr__ on\u001B[39;00m\n\u001B[1;32m    228\u001B[0m \u001B[38;5;66;03m# NDFrame\u001B[39;00m\n\u001B[1;32m    229\u001B[0m \u001B[38;5;28mobject\u001B[39m\u001B[38;5;241m.\u001B[39m\u001B[38;5;21m__setattr__\u001B[39m(obj, \u001B[38;5;28mself\u001B[39m\u001B[38;5;241m.\u001B[39m_name, accessor_obj)\n",
      "File \u001B[0;32m~/anaconda3/envs/gfm_io/lib/python3.12/site-packages/pandas/core/indexes/accessors.py:643\u001B[0m, in \u001B[0;36mCombinedDatetimelikeProperties.__new__\u001B[0;34m(cls, data)\u001B[0m\n\u001B[1;32m    640\u001B[0m \u001B[38;5;28;01melif\u001B[39;00m \u001B[38;5;28misinstance\u001B[39m(data\u001B[38;5;241m.\u001B[39mdtype, PeriodDtype):\n\u001B[1;32m    641\u001B[0m     \u001B[38;5;28;01mreturn\u001B[39;00m PeriodProperties(data, orig)\n\u001B[0;32m--> 643\u001B[0m \u001B[38;5;28;01mraise\u001B[39;00m \u001B[38;5;167;01mAttributeError\u001B[39;00m(\u001B[38;5;124m\"\u001B[39m\u001B[38;5;124mCan only use .dt accessor with datetimelike values\u001B[39m\u001B[38;5;124m\"\u001B[39m)\n",
      "\u001B[0;31mAttributeError\u001B[0m: Can only use .dt accessor with datetimelike values"
     ]
    }
   ],
   "source": [
    "fastRetweet_network = fastRetweet.fastRetweet(control_df, io_df)\n"
   ],
   "metadata": {
    "collapsed": false,
    "pycharm": {
     "name": "#%%\n"
    }
   }
  },
  {
   "cell_type": "markdown",
   "source": [
    "#### FastRetweet Network construction"
   ],
   "metadata": {
    "collapsed": false,
    "pycharm": {
     "name": "#%% md\n"
    }
   }
  },
  {
   "cell_type": "code",
   "execution_count": 22,
   "outputs": [],
   "source": [
    "control, treated = control_df.copy(), io_df.copy()\n",
    "control_column_names =  ['retweeted_status', 'user', 'in_reply_to_status_id', 'full_text', 'id']\n",
    "treated_column_names = ['retweet_tweetid', 'userid', 'in_reply_to_tweetid', 'quoted_tweet_tweetid', 'tweet_text', 'tweetid']\n",
    "control = control[control_column_names]\n",
    "treated = treated[treated_column_names]\n"
   ],
   "metadata": {
    "collapsed": false,
    "pycharm": {
     "name": "#%%\n"
    }
   }
  },
  {
   "cell_type": "code",
   "execution_count": 23,
   "outputs": [
    {
     "ename": "NameError",
     "evalue": "name 'i' is not defined",
     "output_type": "error",
     "traceback": [
      "\u001B[0;31m---------------------------------------------------------------------------\u001B[0m",
      "\u001B[0;31mNameError\u001B[0m                                 Traceback (most recent call last)",
      "Cell \u001B[0;32mIn[23], line 1\u001B[0m\n\u001B[0;32m----> 1\u001B[0m hashtag_network \u001B[38;5;241m=\u001B[39m hashtagSeq\u001B[38;5;241m.\u001B[39mhashSeq(control, treated, minHashtags\u001B[38;5;241m=\u001B[39m\u001B[38;5;241m5\u001B[39m)\n",
      "File \u001B[0;32m/mnt/nas/minici/SocGFM/notebooks/coordinatedActivity/hashtagSeq.py:99\u001B[0m, in \u001B[0;36mhashSeq\u001B[0;34m(***failed resolving arguments***)\u001B[0m\n\u001B[1;32m     96\u001B[0m cum[\u001B[38;5;124m'\u001B[39m\u001B[38;5;124mhashtag_seq\u001B[39m\u001B[38;5;124m'\u001B[39m] \u001B[38;5;241m=\u001B[39m [\u001B[38;5;124m'\u001B[39m\u001B[38;5;124m__\u001B[39m\u001B[38;5;124m'\u001B[39m\u001B[38;5;241m.\u001B[39mjoin([tag\u001B[38;5;241m.\u001B[39mstrip(\u001B[38;5;124m\"\u001B[39m\u001B[38;5;124m#\u001B[39m\u001B[38;5;124m\"\u001B[39m) \u001B[38;5;28;01mfor\u001B[39;00m tag \u001B[38;5;129;01min\u001B[39;00m tweet\u001B[38;5;241m.\u001B[39msplit() \u001B[38;5;28;01mif\u001B[39;00m tag\u001B[38;5;241m.\u001B[39mstartswith(\u001B[38;5;124m\"\u001B[39m\u001B[38;5;124m#\u001B[39m\u001B[38;5;124m\"\u001B[39m)]) \u001B[38;5;28;01mfor\u001B[39;00m tweet \u001B[38;5;129;01min\u001B[39;00m\n\u001B[1;32m     97\u001B[0m                       cum[\u001B[38;5;124m'\u001B[39m\u001B[38;5;124mcontentText\u001B[39m\u001B[38;5;124m'\u001B[39m]\u001B[38;5;241m.\u001B[39mvalues\u001B[38;5;241m.\u001B[39mastype(\u001B[38;5;28mstr\u001B[39m)]\n\u001B[1;32m     98\u001B[0m cum\u001B[38;5;241m.\u001B[39mdrop(\u001B[38;5;124m'\u001B[39m\u001B[38;5;124mcontentText\u001B[39m\u001B[38;5;124m'\u001B[39m, axis\u001B[38;5;241m=\u001B[39m\u001B[38;5;241m1\u001B[39m, inplace\u001B[38;5;241m=\u001B[39m\u001B[38;5;28;01mTrue\u001B[39;00m)\n\u001B[0;32m---> 99\u001B[0m cum \u001B[38;5;241m=\u001B[39m cum[[\u001B[38;5;124m'\u001B[39m\u001B[38;5;124mtwitterAuthorScreenname\u001B[39m\u001B[38;5;124m'\u001B[39m, \u001B[38;5;124m'\u001B[39m\u001B[38;5;124mhashtag_seq\u001B[39m\u001B[38;5;124m'\u001B[39m]]\u001B[38;5;241m.\u001B[39mloc[\n\u001B[1;32m    100\u001B[0m     cum[\u001B[38;5;124m'\u001B[39m\u001B[38;5;124mhashtag_seq\u001B[39m\u001B[38;5;124m'\u001B[39m]\u001B[38;5;241m.\u001B[39mapply(\u001B[38;5;28;01mlambda\u001B[39;00m x: \u001B[38;5;28mlen\u001B[39m(x\u001B[38;5;241m.\u001B[39msplit(\u001B[38;5;124m'\u001B[39m\u001B[38;5;124m__\u001B[39m\u001B[38;5;124m'\u001B[39m))) \u001B[38;5;241m>\u001B[39m\u001B[38;5;241m=\u001B[39m i]\n\u001B[1;32m    102\u001B[0m cum\u001B[38;5;241m.\u001B[39mdrop_duplicates(inplace\u001B[38;5;241m=\u001B[39m\u001B[38;5;28;01mTrue\u001B[39;00m)\n\u001B[1;32m    104\u001B[0m temp \u001B[38;5;241m=\u001B[39m cum\u001B[38;5;241m.\u001B[39mgroupby(\u001B[38;5;124m'\u001B[39m\u001B[38;5;124mhashtag_seq\u001B[39m\u001B[38;5;124m'\u001B[39m, as_index\u001B[38;5;241m=\u001B[39m\u001B[38;5;28;01mFalse\u001B[39;00m)\u001B[38;5;241m.\u001B[39mcount()\n",
      "\u001B[0;31mNameError\u001B[0m: name 'i' is not defined"
     ]
    }
   ],
   "source": [
    "hashtag_network = hashtagSeq.hashSeq(control, treated, minHashtags=5)\n"
   ],
   "metadata": {
    "collapsed": false,
    "pycharm": {
     "name": "#%%\n"
    }
   }
  },
  {
   "cell_type": "markdown",
   "source": [
    "#### Fuse networks"
   ],
   "metadata": {
    "collapsed": false,
    "pycharm": {
     "name": "#%% md\n"
    }
   }
  },
  {
   "cell_type": "code",
   "execution_count": 31,
   "outputs": [],
   "source": [
    "fused_network = nx.compose(coRetweet_network, coURL_network)\n"
   ],
   "metadata": {
    "collapsed": false,
    "pycharm": {
     "name": "#%%\n"
    }
   }
  },
  {
   "cell_type": "code",
   "execution_count": 32,
   "outputs": [
    {
     "name": "stdout",
     "output_type": "stream",
     "text": [
      "CoURL network has 6577 nodes and 518006 edges\n"
     ]
    }
   ],
   "source": [
    "print(f'CoURL network has {fused_network.number_of_nodes()} nodes and {fused_network.number_of_edges()} edges')"
   ],
   "metadata": {
    "collapsed": false,
    "pycharm": {
     "name": "#%%\n"
    }
   }
  },
  {
   "cell_type": "code",
   "execution_count": 33,
   "outputs": [
    {
     "name": "stdout",
     "output_type": "stream",
     "text": [
      "nodes: 5711 edges: 509469\n"
     ]
    }
   ],
   "source": [
    "connected_components_ordered_list = sorted(nx.connected_components(fused_network), key=len, reverse=True)\n",
    "fused_network_lcc = nx.Graph(fused_network.subgraph(connected_components_ordered_list[0]))\n",
    "fused_network_lcc.remove_edges_from(nx.selfloop_edges(fused_network_lcc))\n",
    "print(f'nodes: {fused_network_lcc.number_of_nodes()} edges: {fused_network_lcc.number_of_edges()}')\n"
   ],
   "metadata": {
    "collapsed": false,
    "pycharm": {
     "name": "#%%\n"
    }
   }
  },
  {
   "cell_type": "code",
   "execution_count": 56,
   "outputs": [],
   "source": [
    "# Remap nodes\n",
    "noderemapping = {nodeid: i for i, nodeid in enumerate(fused_network_lcc.nodes())}\n",
    "noderemapping_rev = {v: k for k,v in noderemapping.items()}\n",
    "node_labels = np.zeros(len(noderemapping))\n",
    "all_io_users = set(io_df.userid.astype(str).values.tolist())\n",
    "for nodeid in noderemapping_rev:\n",
    "    raw_nodeid = noderemapping_rev[nodeid]\n",
    "    node_labels[nodeid] = 1 if raw_nodeid in all_io_users else 0\n"
   ],
   "metadata": {
    "collapsed": false,
    "pycharm": {
     "name": "#%%\n"
    }
   }
  },
  {
   "cell_type": "code",
   "execution_count": null,
   "outputs": [],
   "source": [],
   "metadata": {
    "collapsed": false,
    "pycharm": {
     "name": "#%%\n"
    }
   }
  }
 ],
 "metadata": {
  "kernelspec": {
   "display_name": "Python 3",
   "language": "python",
   "name": "python3"
  },
  "language_info": {
   "codemirror_mode": {
    "name": "ipython",
    "version": 2
   },
   "file_extension": ".py",
   "mimetype": "text/x-python",
   "name": "python",
   "nbconvert_exporter": "python",
   "pygments_lexer": "ipython2",
   "version": "2.7.6"
  }
 },
 "nbformat": 4,
 "nbformat_minor": 0
}