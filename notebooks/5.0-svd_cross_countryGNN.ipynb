{
 "cells": [
  {
   "cell_type": "code",
   "execution_count": 1,
   "outputs": [],
   "source": [
    "import sys\n",
    "sys.path.append('../src')\n",
    "\n",
    "import os\n",
    "import networkx as nx\n",
    "import numpy as np\n",
    "import scipy.sparse as sp\n",
    "from tqdm.notebook import tqdm\n",
    "from sklearn.decomposition import TruncatedSVD\n",
    "from sklearn.model_selection import train_test_split\n",
    "from sklearn.metrics import roc_auc_score\n",
    "\n",
    "from my_utils import set_seed, setup_env\n",
    "from data_loader import create_data_loader\n",
    "from model_eval import eval_pred\n"
   ],
   "metadata": {
    "collapsed": false,
    "pycharm": {
     "name": "#%%\n"
    }
   }
  },
  {
   "cell_type": "code",
   "execution_count": 2,
   "outputs": [],
   "source": [
    "# Hyper parameters\n",
    "seed = 0\n",
    "device_id = '1'\n",
    "dataset_name = 'UAE_sample'\n",
    "num_splits = 20\n",
    "train_few_shot_samples = 10\n",
    "val_few_shot_samples = 10\n",
    "test_perc = 0.2\n",
    "overwrite_data = False\n"
   ],
   "metadata": {
    "collapsed": false,
    "pycharm": {
     "name": "#%%\n"
    }
   }
  },
  {
   "cell_type": "code",
   "execution_count": 3,
   "outputs": [
    {
     "name": "stdout",
     "output_type": "stream",
     "text": [
      "[ Using Seed : 0 ]\n",
      "/mnt/nas/minici/SocGFM/data/processed/UAE_sample/seed_0_num_splits_20/train_10_val_10_test_0.2\n"
     ]
    }
   ],
   "source": [
    "# set seed for reproducibility\n",
    "set_seed(seed)\n",
    "# set device\n",
    "os.environ['CUDA_VISIBLE_DEVICES'] = device_id\n",
    "device, base_dir, interim_data_dir, data_dir = setup_env(device_id, dataset_name, seed, num_splits,\n",
    "                                                         train_few_shot_samples, val_few_shot_samples,\n",
    "                                                          test_perc)\n",
    "print(data_dir)\n",
    "# Create data loader for datasets\n",
    "datasets = create_data_loader(dataset_name, base_dir, data_dir,\n",
    "                              hyper_params={'overwrite_data': overwrite_data,\n",
    "                                            'train_few_shot_samples': train_few_shot_samples,\n",
    "                                            'val_few_shot_samples': val_few_shot_samples,\n",
    "                                            'test_perc': test_perc,\n",
    "                                            'seed': seed,\n",
    "                                            'num_splits': num_splits,\n",
    "                                            },\n",
    "                              device=device)\n",
    "# Remap nodeIDs\n",
    "node_ids_list = list(datasets['graph'].nodes())\n",
    "# Relabel each node from 0 to N-1\n",
    "node_remapping = {node_ids_list[i]: i for i in range(len(node_ids_list))}\n",
    "datasets['graph'] = nx.relabel_nodes(datasets['graph'], node_remapping)\n"
   ],
   "metadata": {
    "collapsed": false,
    "pycharm": {
     "name": "#%%\n"
    }
   }
  },
  {
   "cell_type": "markdown",
   "source": [
    "# Load pre-training dataset"
   ],
   "metadata": {
    "collapsed": false,
    "pycharm": {
     "name": "#%% md\n"
    }
   }
  },
  {
   "cell_type": "code",
   "execution_count": 4,
   "outputs": [
    {
     "name": "stdout",
     "output_type": "stream",
     "text": [
      "/mnt/nas/minici/SocGFM/data/processed/cuba\n"
     ]
    }
   ],
   "source": [
    "# Hyper parameters\n",
    "PRETRAINING_DATASET_NAME = 'cuba'\n",
    "hidden_dim = 64\n",
    "# Constants\n",
    "GRAPH_FILENAME, USER_LABELS_FILENAME = 'fused_network.gml', 'fused_network_node_labels.npy'\n",
    "NODE_FEATURES = 'svd_node_features.npy'\n",
    "\n",
    "pretraining_data_dir = base_dir / 'data' / 'processed' / PRETRAINING_DATASET_NAME\n",
    "print(pretraining_data_dir)\n",
    "\n",
    "# Read network and user labels\n",
    "pretraining_dataset = nx.read_graphml(pretraining_data_dir / GRAPH_FILENAME)\n",
    "pretraining_user_labels = np.load(pretraining_data_dir / USER_LABELS_FILENAME)\n",
    "# Remap nodeIDs\n",
    "node_ids_list = list(pretraining_dataset.nodes())\n",
    "# Relabel each node from 0 to N-1\n",
    "node_remapping = {node_ids_list[i]: i for i in range(len(node_ids_list))}\n",
    "pretraining_dataset = nx.relabel_nodes(pretraining_dataset, node_remapping)\n"
   ],
   "metadata": {
    "collapsed": false,
    "pycharm": {
     "name": "#%%\n"
    }
   }
  },
  {
   "cell_type": "code",
   "execution_count": 5,
   "outputs": [],
   "source": [
    "from sknetwork.embedding import SVD\n",
    "def get_svd_features(graph, saving_path, hidden_dim):\n",
    "    if saving_path.exists():\n",
    "        return np.load(saving_path)\n",
    "    else:\n",
    "        # Step 2. Compute Singular Value Decomposition of the adjacency matrix\n",
    "        svd = SVD(hidden_dim)\n",
    "        adj_matrix = nx.to_numpy_array(graph)\n",
    "        node_features =  svd.fit_transform(adj_matrix)\n",
    "        np.save(file=saving_path, arr=node_features)\n",
    "        return node_features\n",
    "\n",
    "pretraining_svd_embeddings = get_svd_features(pretraining_dataset, pretraining_data_dir / NODE_FEATURES, hidden_dim)\n"
   ],
   "metadata": {
    "collapsed": false,
    "pycharm": {
     "name": "#%%\n"
    }
   }
  },
  {
   "cell_type": "markdown",
   "source": [
    "#### Extract SVD features from target country"
   ],
   "metadata": {
    "collapsed": false,
    "pycharm": {
     "name": "#%% md\n"
    }
   }
  },
  {
   "cell_type": "code",
   "execution_count": 6,
   "outputs": [],
   "source": [
    "target_svd_embeddings = get_svd_features(datasets['graph'], data_dir.parent.parent / NODE_FEATURES, hidden_dim)\n"
   ],
   "metadata": {
    "collapsed": false,
    "pycharm": {
     "name": "#%%\n"
    }
   }
  },
  {
   "cell_type": "markdown",
   "source": [
    "#### train a random forest"
   ],
   "metadata": {
    "collapsed": false,
    "pycharm": {
     "name": "#%% md\n"
    }
   }
  },
  {
   "cell_type": "code",
   "execution_count": 28,
   "outputs": [
    {
     "data": {
      "text/plain": "RandomForestClassifier()",
      "text/html": "<style>#sk-container-id-3 {color: black;}#sk-container-id-3 pre{padding: 0;}#sk-container-id-3 div.sk-toggleable {background-color: white;}#sk-container-id-3 label.sk-toggleable__label {cursor: pointer;display: block;width: 100%;margin-bottom: 0;padding: 0.3em;box-sizing: border-box;text-align: center;}#sk-container-id-3 label.sk-toggleable__label-arrow:before {content: \"▸\";float: left;margin-right: 0.25em;color: #696969;}#sk-container-id-3 label.sk-toggleable__label-arrow:hover:before {color: black;}#sk-container-id-3 div.sk-estimator:hover label.sk-toggleable__label-arrow:before {color: black;}#sk-container-id-3 div.sk-toggleable__content {max-height: 0;max-width: 0;overflow: hidden;text-align: left;background-color: #f0f8ff;}#sk-container-id-3 div.sk-toggleable__content pre {margin: 0.2em;color: black;border-radius: 0.25em;background-color: #f0f8ff;}#sk-container-id-3 input.sk-toggleable__control:checked~div.sk-toggleable__content {max-height: 200px;max-width: 100%;overflow: auto;}#sk-container-id-3 input.sk-toggleable__control:checked~label.sk-toggleable__label-arrow:before {content: \"▾\";}#sk-container-id-3 div.sk-estimator input.sk-toggleable__control:checked~label.sk-toggleable__label {background-color: #d4ebff;}#sk-container-id-3 div.sk-label input.sk-toggleable__control:checked~label.sk-toggleable__label {background-color: #d4ebff;}#sk-container-id-3 input.sk-hidden--visually {border: 0;clip: rect(1px 1px 1px 1px);clip: rect(1px, 1px, 1px, 1px);height: 1px;margin: -1px;overflow: hidden;padding: 0;position: absolute;width: 1px;}#sk-container-id-3 div.sk-estimator {font-family: monospace;background-color: #f0f8ff;border: 1px dotted black;border-radius: 0.25em;box-sizing: border-box;margin-bottom: 0.5em;}#sk-container-id-3 div.sk-estimator:hover {background-color: #d4ebff;}#sk-container-id-3 div.sk-parallel-item::after {content: \"\";width: 100%;border-bottom: 1px solid gray;flex-grow: 1;}#sk-container-id-3 div.sk-label:hover label.sk-toggleable__label {background-color: #d4ebff;}#sk-container-id-3 div.sk-serial::before {content: \"\";position: absolute;border-left: 1px solid gray;box-sizing: border-box;top: 0;bottom: 0;left: 50%;z-index: 0;}#sk-container-id-3 div.sk-serial {display: flex;flex-direction: column;align-items: center;background-color: white;padding-right: 0.2em;padding-left: 0.2em;position: relative;}#sk-container-id-3 div.sk-item {position: relative;z-index: 1;}#sk-container-id-3 div.sk-parallel {display: flex;align-items: stretch;justify-content: center;background-color: white;position: relative;}#sk-container-id-3 div.sk-item::before, #sk-container-id-3 div.sk-parallel-item::before {content: \"\";position: absolute;border-left: 1px solid gray;box-sizing: border-box;top: 0;bottom: 0;left: 50%;z-index: -1;}#sk-container-id-3 div.sk-parallel-item {display: flex;flex-direction: column;z-index: 1;position: relative;background-color: white;}#sk-container-id-3 div.sk-parallel-item:first-child::after {align-self: flex-end;width: 50%;}#sk-container-id-3 div.sk-parallel-item:last-child::after {align-self: flex-start;width: 50%;}#sk-container-id-3 div.sk-parallel-item:only-child::after {width: 0;}#sk-container-id-3 div.sk-dashed-wrapped {border: 1px dashed gray;margin: 0 0.4em 0.5em 0.4em;box-sizing: border-box;padding-bottom: 0.4em;background-color: white;}#sk-container-id-3 div.sk-label label {font-family: monospace;font-weight: bold;display: inline-block;line-height: 1.2em;}#sk-container-id-3 div.sk-label-container {text-align: center;}#sk-container-id-3 div.sk-container {/* jupyter's `normalize.less` sets `[hidden] { display: none; }` but bootstrap.min.css set `[hidden] { display: none !important; }` so we also need the `!important` here to be able to override the default hidden behavior on the sphinx rendered scikit-learn.org. See: https://github.com/scikit-learn/scikit-learn/issues/21755 */display: inline-block !important;position: relative;}#sk-container-id-3 div.sk-text-repr-fallback {display: none;}</style><div id=\"sk-container-id-3\" class=\"sk-top-container\"><div class=\"sk-text-repr-fallback\"><pre>RandomForestClassifier()</pre><b>In a Jupyter environment, please rerun this cell to show the HTML representation or trust the notebook. <br />On GitHub, the HTML representation is unable to render, please try loading this page with nbviewer.org.</b></div><div class=\"sk-container\" hidden><div class=\"sk-item\"><div class=\"sk-estimator sk-toggleable\"><input class=\"sk-toggleable__control sk-hidden--visually\" id=\"sk-estimator-id-3\" type=\"checkbox\" checked><label for=\"sk-estimator-id-3\" class=\"sk-toggleable__label sk-toggleable__label-arrow\">RandomForestClassifier</label><div class=\"sk-toggleable__content\"><pre>RandomForestClassifier()</pre></div></div></div></div></div>"
     },
     "execution_count": 28,
     "metadata": {},
     "output_type": "execute_result"
    }
   ],
   "source": [
    "from sklearn.ensemble import RandomForestClassifier\n",
    "\n",
    "SCALING = True\n",
    "if SCALING:\n",
    "    # from sklearn.preprocessing import RobustScaler\n",
    "    # scaled_pretraining_svd_embeddings = RobustScaler().fit_transform(pretraining_svd_embeddings)\n",
    "    from sklearn.preprocessing import QuantileTransformer\n",
    "    scaled_pretraining_svd_embeddings = QuantileTransformer(n_quantiles=1000).fit_transform(pretraining_svd_embeddings)\n",
    "else:\n",
    "    scaled_pretraining_svd_embeddings = np.copy(pretraining_svd_embeddings)\n",
    "\n",
    "rf_random = RandomForestClassifier()\n",
    "rf_random.fit(scaled_pretraining_svd_embeddings, pretraining_user_labels)\n"
   ],
   "metadata": {
    "collapsed": false,
    "pycharm": {
     "name": "#%%\n"
    }
   }
  },
  {
   "cell_type": "markdown",
   "source": [
    "#### test the classifier on the target dataset"
   ],
   "metadata": {
    "collapsed": false,
    "pycharm": {
     "name": "#%% md\n"
    }
   }
  },
  {
   "cell_type": "code",
   "execution_count": 30,
   "outputs": [
    {
     "data": {
      "text/plain": "data split:   0%|          | 0/20 [00:00<?, ?it/s]",
      "application/vnd.jupyter.widget-view+json": {
       "version_major": 2,
       "version_minor": 0,
       "model_id": "bcdd5174e6434426b65e4432af6a9f6e"
      }
     },
     "metadata": {},
     "output_type": "display_data"
    },
    {
     "name": "stdout",
     "output_type": "stream",
     "text": [
      "Test accuracy: 0.4598+-0.0\n",
      "Test precision: 0.0+-0.0\n",
      "Test f1_macro: 0.315+-0.0\n",
      "Test f1_micro: 0.4598+-0.0\n"
     ]
    }
   ],
   "source": [
    "SCALING = True\n",
    "if SCALING:\n",
    "    # from sklearn.preprocessing import RobustScaler\n",
    "    # scaled_target_svd_embeddings = RobustScaler().fit_transform(target_svd_embeddings)\n",
    "    from sklearn.preprocessing import QuantileTransformer\n",
    "    scaled_target_svd_embeddings = QuantileTransformer(n_quantiles=1000).fit_transform(target_svd_embeddings)\n",
    "else:\n",
    "    scaled_target_svd_embeddings = np.copy(target_svd_embeddings)\n",
    "\n",
    "from model_eval import eval_pred, TestLogMetrics\n",
    "\n",
    "test_logger = TestLogMetrics(num_splits, ['accuracy', 'precision', 'f1_macro', 'f1_micro'])\n",
    "for run_id in tqdm(range(num_splits), 'data split'):\n",
    "    # Since this is an unsupervised baseline, we merge training and validation\n",
    "    # unsupervised_mask = np.logical_or(datasets['splits'][run_id]['train'], datasets['splits'][run_id]['val'])\n",
    "    # Select the best threshold according to the eval on train+val sets\n",
    "    # best_val_threshold = get_best_threshold(datasets['labels'], predicted_labels_list, unsupervised_mask, metric_to_optimize)\n",
    "    # val_metrics = eval_pred(datasets['labels'], predicted_labels_list[best_val_threshold], unsupervised_mask)\n",
    "    # Compute test statistics\n",
    "    test_metrics = eval_pred(datasets['labels'], rf_random.predict(scaled_target_svd_embeddings),\n",
    "                             datasets['splits'][run_id]['test'])\n",
    "    for metric_name in test_metrics:\n",
    "        test_logger.update(metric_name, run_id, test_metrics[metric_name])\n",
    "\n",
    "for metric_name in test_logger.test_metrics_dict:\n",
    "    avg_val, std_val = test_logger.get_metric_stats(metric_name)\n",
    "    print(f'Test {metric_name}: {avg_val}+-{std_val}')\n",
    "\n"
   ],
   "metadata": {
    "collapsed": false,
    "pycharm": {
     "name": "#%%\n"
    }
   }
  },
  {
   "cell_type": "markdown",
   "source": [
    "## Train a GCN on the pretraining dataset"
   ],
   "metadata": {
    "collapsed": false,
    "pycharm": {
     "name": "#%% md\n"
    }
   }
  },
  {
   "cell_type": "code",
   "execution_count": 7,
   "outputs": [],
   "source": [
    "SCALING = True\n",
    "if SCALING:\n",
    "    # from sklearn.preprocessing import RobustScaler\n",
    "    # scaled_pretraining_svd_embeddings = RobustScaler().fit_transform(pretraining_svd_embeddings)\n",
    "    from sklearn.preprocessing import QuantileTransformer\n",
    "    scaled_pretraining_svd_embeddings = QuantileTransformer(n_quantiles=1000).fit_transform(pretraining_svd_embeddings)\n",
    "    scaled_target_svd_embeddings = QuantileTransformer(n_quantiles=1000).fit_transform(target_svd_embeddings)\n",
    "else:\n",
    "    scaled_pretraining_svd_embeddings = np.copy(pretraining_svd_embeddings)\n",
    "    scaled_target_svd_embeddings = np.copy(target_svd_embeddings)\n"
   ],
   "metadata": {
    "collapsed": false,
    "pycharm": {
     "name": "#%%\n"
    }
   }
  },
  {
   "cell_type": "code",
   "execution_count": 120,
   "outputs": [],
   "source": [
    "# Alternative feature extractor based on node centrality\n",
    "pretraining_node_embeddings = np.load(pretraining_data_dir / 'centrality_node_features.npy', allow_pickle=True)\n",
    "target_node_embeddings = np.load(data_dir.parent.parent / 'centrality_node_features.npy', allow_pickle=True)\n"
   ],
   "metadata": {
    "collapsed": false,
    "pycharm": {
     "name": "#%%\n"
    }
   }
  },
  {
   "cell_type": "code",
   "execution_count": 128,
   "outputs": [
    {
     "name": "stdout",
     "output_type": "stream",
     "text": [
      "building Data object\n",
      "Validate Data object\n"
     ]
    },
    {
     "data": {
      "text/plain": "True"
     },
     "execution_count": 128,
     "metadata": {},
     "output_type": "execute_result"
    }
   ],
   "source": [
    "import torch\n",
    "from torch_geometric.data import Data\n",
    "\n",
    "pretraining_edge_index = torch.tensor(np.array(pretraining_dataset.edges()), dtype=torch.long)\n",
    "pretraining_x = torch.tensor(pretraining_node_embeddings.astype(float), dtype=torch.float)\n",
    "\n",
    "print('building Data object')\n",
    "dataset = Data(x=pretraining_x,\n",
    "               edge_index=pretraining_edge_index.t().contiguous(),\n",
    "               y=torch.tensor(pretraining_user_labels, dtype=torch.float))\n",
    "print('Validate Data object')\n",
    "dataset.validate(raise_on_error=True)\n"
   ],
   "metadata": {
    "collapsed": false,
    "pycharm": {
     "name": "#%%\n"
    }
   }
  },
  {
   "cell_type": "code",
   "execution_count": 141,
   "outputs": [],
   "source": [
    "import torch\n",
    "from torch_geometric.nn import GCNConv\n",
    "\n",
    "class GCN(torch.nn.Module):\n",
    "    def __init__(self, num_node_features, hidden_dim, layer_norm=True, dropout_perc=0.2):\n",
    "        super().__init__()\n",
    "        self.conv1 = GCNConv(num_node_features, hidden_dim)\n",
    "        self.conv2 = GCNConv(hidden_dim, 1)\n",
    "        self.inner_activation = torch.nn.ReLU()\n",
    "        self.output_activation = torch.nn.Sigmoid()\n",
    "        self.dropout = torch.nn.Dropout(dropout_perc)\n",
    "        self.layer_norm = layer_norm\n",
    "        if layer_norm:\n",
    "            self.layern_norm1 = torch.nn.LayerNorm(hidden_dim, elementwise_affine = True)\n",
    "\n",
    "    def forward(self, data):\n",
    "        x, edge_index = data.x, data.edge_index\n",
    "        x = self.conv1(x, edge_index)\n",
    "        x = self.inner_activation(x)\n",
    "        if self.layer_norm:\n",
    "            x = self.layern_norm1(x)\n",
    "        x = self.dropout(x)\n",
    "        x = self.conv2(x, edge_index)\n",
    "        return self.output_activation(x)\n"
   ],
   "metadata": {
    "collapsed": false,
    "pycharm": {
     "name": "#%%\n"
    }
   }
  },
  {
   "cell_type": "code",
   "execution_count": 148,
   "outputs": [],
   "source": [
    "# Sample validation examples for model selection\n",
    "val_perc = 0.2\n",
    "train_idxs, val_idxs = train_test_split(range(len(pretraining_user_labels)), test_size=val_perc, random_state=seed, stratify=pretraining_user_labels)\n",
    "val_mask = np.full(shape=pretraining_user_labels.shape, fill_value=False)\n",
    "val_mask[val_idxs] = True\n"
   ],
   "metadata": {
    "collapsed": false,
    "pycharm": {
     "name": "#%%\n"
    }
   }
  },
  {
   "cell_type": "code",
   "execution_count": 150,
   "outputs": [
    {
     "data": {
      "text/plain": "  0%|          | 0/1000 [00:00<?, ?it/s]",
      "application/vnd.jupyter.widget-view+json": {
       "version_major": 2,
       "version_minor": 0,
       "model_id": "70a9ae73af0a4ca48bac5f5424137ade"
      }
     },
     "metadata": {},
     "output_type": "display_data"
    },
    {
     "name": "stdout",
     "output_type": "stream",
     "text": [
      "[Epoch: 0] tr: 0.52 val: 0.36\n",
      "[Epoch: 1] tr: 0.51 val: 0.36\n",
      "[Epoch: 2] tr: 0.5 val: 0.36\n",
      "[Epoch: 3] tr: 0.49 val: 0.36\n",
      "[Epoch: 4] tr: 0.47 val: 0.36\n",
      "[Epoch: 5] tr: 0.46 val: 0.36\n",
      "[Epoch: 6] tr: 0.45 val: 0.36\n",
      "[Epoch: 7] tr: 0.44 val: 0.36\n",
      "[Epoch: 8] tr: 0.42 val: 0.36\n",
      "[Epoch: 9] tr: 0.41 val: 0.36\n",
      "[Epoch: 10] tr: 0.4 val: 0.36\n",
      "[Epoch: 11] tr: 0.39 val: 0.36\n",
      "[Epoch: 12] tr: 0.38 val: 0.36\n",
      "[Epoch: 13] tr: 0.37 val: 0.36\n",
      "[Epoch: 14] tr: 0.36 val: 0.36\n",
      "[Epoch: 15] tr: 0.35 val: 0.36\n",
      "[Epoch: 16] tr: 0.34 val: 0.36\n",
      "[Epoch: 17] tr: 0.33 val: 0.36\n",
      "[Epoch: 18] tr: 0.33 val: 0.36\n",
      "[Epoch: 19] tr: 0.32 val: 0.36\n",
      "[Epoch: 20] tr: 0.31 val: 0.36\n",
      "[Epoch: 21] tr: 0.3 val: 0.36\n",
      "[Epoch: 22] tr: 0.3 val: 0.36\n",
      "[Epoch: 23] tr: 0.29 val: 0.36\n",
      "[Epoch: 24] tr: 0.29 val: 0.36\n",
      "[Epoch: 25] tr: 0.28 val: 0.36\n",
      "[Epoch: 26] tr: 0.28 val: 0.36\n"
     ]
    }
   ],
   "source": [
    "from sklearn.metrics import roc_curve\n",
    "\n",
    "num_epochs = 1000\n",
    "hidden_dim_gcn = 3\n",
    "early_stopping_limit = 25\n",
    "device = torch.device('cuda' if torch.cuda.is_available() else 'cpu')\n",
    "model = GCN(pretraining_x.shape[1], hidden_dim_gcn, layer_norm=False, dropout_perc=0.0).to(device)\n",
    "dataset = dataset.to(device)\n",
    "optimizer = torch.optim.Adam(model.parameters(), lr=1e-2, weight_decay=5e-4)\n",
    "loss = torch.nn.BCELoss()\n",
    "\n",
    "model.train()\n",
    "tr_loss_list = []\n",
    "val_metric_list = []\n",
    "best_val_metric = -np.inf\n",
    "early_stopping_count = 0\n",
    "for epoch in tqdm(range(num_epochs)):\n",
    "    if early_stopping_count > early_stopping_limit:\n",
    "        break\n",
    "    model.train()\n",
    "    optimizer.zero_grad()\n",
    "    out = model(dataset)\n",
    "    tr_loss = loss(out.flatten()[train_idxs], dataset.y[train_idxs])\n",
    "    tr_loss_list.append(tr_loss.item())\n",
    "    tr_loss.backward()\n",
    "    optimizer.step()\n",
    "    # Validation step\n",
    "    model.eval()\n",
    "    if True:\n",
    "        with torch.no_grad():\n",
    "            val_pred = model(dataset).detach().cpu().numpy()\n",
    "            # pick best threshold\n",
    "            fpr, tpr, thresholds = roc_curve(pretraining_user_labels[val_mask], val_pred[val_mask])\n",
    "            best_threshold_idx = np.argmax(tpr-fpr)\n",
    "            best_threshold = thresholds[best_threshold_idx]\n",
    "            val_metrics = eval_pred(pretraining_user_labels, val_pred > best_threshold, val_mask)\n",
    "            val_metric_list.append(val_metrics['f1_macro'])\n",
    "            if val_metrics['f1_macro'] > best_val_metric:\n",
    "                best_val_metric = val_metrics['f1_macro']\n",
    "                early_stopping_count = 0\n",
    "            else:\n",
    "                early_stopping_count += 1\n",
    "    else:\n",
    "        with torch.no_grad():\n",
    "            val_pred = model(dataset).detach().cpu().numpy()\n",
    "            val_metrics = roc_auc_score(pretraining_user_labels[val_mask], val_pred[val_mask])\n",
    "            val_metric_list.append(val_metrics)\n",
    "            if val_metrics > best_val_metric:\n",
    "                best_val_metric = val_metrics\n",
    "                early_stopping_count = 0\n",
    "            else:\n",
    "                early_stopping_count += 1\n",
    "    print(f'[Epoch: {epoch}] tr: {round(tr_loss_list[-1], 2)} val: {round(val_metric_list[-1], 2)}')\n"
   ],
   "metadata": {
    "collapsed": false,
    "pycharm": {
     "name": "#%%\n"
    }
   }
  },
  {
   "cell_type": "markdown",
   "source": [
    "# Test the trained model on a different dataset"
   ],
   "metadata": {
    "collapsed": false,
    "pycharm": {
     "name": "#%% md\n"
    }
   }
  },
  {
   "cell_type": "code",
   "execution_count": 151,
   "outputs": [
    {
     "name": "stdout",
     "output_type": "stream",
     "text": [
      "building target Data object\n",
      "Validate target Data object\n"
     ]
    },
    {
     "data": {
      "text/plain": "Data(x=[5711, 3], edge_index=[2, 509469], y=[5711])"
     },
     "execution_count": 151,
     "metadata": {},
     "output_type": "execute_result"
    }
   ],
   "source": [
    "import torch\n",
    "from torch_geometric.data import Data\n",
    "\n",
    "target_edge_index = torch.tensor(np.array(datasets['graph'].edges()), dtype=torch.long)\n",
    "target_x = torch.tensor(target_node_embeddings.astype(float), dtype=torch.float)\n",
    "\n",
    "print('building target Data object')\n",
    "target_dataset = Data(x=target_x,\n",
    "               edge_index=target_edge_index.t().contiguous(),\n",
    "               y=torch.tensor(datasets['labels'], dtype=torch.float))\n",
    "print('Validate target Data object')\n",
    "target_dataset.validate(raise_on_error=True)\n",
    "target_dataset.to(device)\n"
   ],
   "metadata": {
    "collapsed": false,
    "pycharm": {
     "name": "#%%\n"
    }
   }
  },
  {
   "cell_type": "code",
   "execution_count": 152,
   "outputs": [
    {
     "data": {
      "text/plain": "data split:   0%|          | 0/20 [00:00<?, ?it/s]",
      "application/vnd.jupyter.widget-view+json": {
       "version_major": 2,
       "version_minor": 0,
       "model_id": "88e60f2a953f4e44a509b134909aae90"
      }
     },
     "metadata": {},
     "output_type": "display_data"
    },
    {
     "name": "stderr",
     "output_type": "stream",
     "text": [
      "/home/minici/anaconda3/envs/gfm_io/lib/python3.12/site-packages/sklearn/metrics/_classification.py:1469: UndefinedMetricWarning: Precision is ill-defined and being set to 0.0 due to no predicted samples. Use `zero_division` parameter to control this behavior.\n",
      "  _warn_prf(average, modifier, msg_start, len(result))\n",
      "/home/minici/anaconda3/envs/gfm_io/lib/python3.12/site-packages/sklearn/metrics/_classification.py:1469: UndefinedMetricWarning: Precision is ill-defined and being set to 0.0 due to no predicted samples. Use `zero_division` parameter to control this behavior.\n",
      "  _warn_prf(average, modifier, msg_start, len(result))\n",
      "/home/minici/anaconda3/envs/gfm_io/lib/python3.12/site-packages/sklearn/metrics/_classification.py:1469: UndefinedMetricWarning: Precision is ill-defined and being set to 0.0 due to no predicted samples. Use `zero_division` parameter to control this behavior.\n",
      "  _warn_prf(average, modifier, msg_start, len(result))\n",
      "/home/minici/anaconda3/envs/gfm_io/lib/python3.12/site-packages/sklearn/metrics/_classification.py:1469: UndefinedMetricWarning: Precision is ill-defined and being set to 0.0 due to no predicted samples. Use `zero_division` parameter to control this behavior.\n",
      "  _warn_prf(average, modifier, msg_start, len(result))\n",
      "/home/minici/anaconda3/envs/gfm_io/lib/python3.12/site-packages/sklearn/metrics/_classification.py:1469: UndefinedMetricWarning: Precision is ill-defined and being set to 0.0 due to no predicted samples. Use `zero_division` parameter to control this behavior.\n",
      "  _warn_prf(average, modifier, msg_start, len(result))\n",
      "/home/minici/anaconda3/envs/gfm_io/lib/python3.12/site-packages/sklearn/metrics/_classification.py:1469: UndefinedMetricWarning: Precision is ill-defined and being set to 0.0 due to no predicted samples. Use `zero_division` parameter to control this behavior.\n",
      "  _warn_prf(average, modifier, msg_start, len(result))\n",
      "/home/minici/anaconda3/envs/gfm_io/lib/python3.12/site-packages/sklearn/metrics/_classification.py:1469: UndefinedMetricWarning: Precision is ill-defined and being set to 0.0 due to no predicted samples. Use `zero_division` parameter to control this behavior.\n",
      "  _warn_prf(average, modifier, msg_start, len(result))\n",
      "/home/minici/anaconda3/envs/gfm_io/lib/python3.12/site-packages/sklearn/metrics/_classification.py:1469: UndefinedMetricWarning: Precision is ill-defined and being set to 0.0 due to no predicted samples. Use `zero_division` parameter to control this behavior.\n",
      "  _warn_prf(average, modifier, msg_start, len(result))\n",
      "/home/minici/anaconda3/envs/gfm_io/lib/python3.12/site-packages/sklearn/metrics/_classification.py:1469: UndefinedMetricWarning: Precision is ill-defined and being set to 0.0 due to no predicted samples. Use `zero_division` parameter to control this behavior.\n",
      "  _warn_prf(average, modifier, msg_start, len(result))\n",
      "/home/minici/anaconda3/envs/gfm_io/lib/python3.12/site-packages/sklearn/metrics/_classification.py:1469: UndefinedMetricWarning: Precision is ill-defined and being set to 0.0 due to no predicted samples. Use `zero_division` parameter to control this behavior.\n",
      "  _warn_prf(average, modifier, msg_start, len(result))\n",
      "/home/minici/anaconda3/envs/gfm_io/lib/python3.12/site-packages/sklearn/metrics/_classification.py:1469: UndefinedMetricWarning: Precision is ill-defined and being set to 0.0 due to no predicted samples. Use `zero_division` parameter to control this behavior.\n",
      "  _warn_prf(average, modifier, msg_start, len(result))\n",
      "/home/minici/anaconda3/envs/gfm_io/lib/python3.12/site-packages/sklearn/metrics/_classification.py:1469: UndefinedMetricWarning: Precision is ill-defined and being set to 0.0 due to no predicted samples. Use `zero_division` parameter to control this behavior.\n",
      "  _warn_prf(average, modifier, msg_start, len(result))\n"
     ]
    }
   ],
   "source": [
    "from sklearn.metrics import roc_curve\n",
    "\n",
    "test_rocauc_list = []\n",
    "for run_id in tqdm(range(num_splits), 'data split'):\n",
    "    # Since this is an unsupervised baseline, we merge training and validation\n",
    "    unsupervised_mask = np.logical_or(datasets['splits'][run_id]['train'], datasets['splits'][run_id]['val'])\n",
    "    # Select the best threshold according to the eval on train+val sets\n",
    "    model.eval()\n",
    "    with torch.no_grad():\n",
    "        test_pred = model(target_dataset).detach().cpu().numpy()\n",
    "        fpr, tpr, thresholds = roc_curve(datasets['labels'][unsupervised_mask], test_pred[unsupervised_mask])\n",
    "        best_threshold_idx = np.argmax(tpr-fpr)\n",
    "        best_threshold = thresholds[best_threshold_idx]\n",
    "    test_metrics = eval_pred(datasets['labels'], test_pred > best_threshold, datasets['splits'][run_id]['test'])\n",
    "    test_rocauc_list.append(test_metrics['f1_macro'])\n",
    "    # Compute test statistics\n",
    "    # test_metrics = eval_pred(datasets['labels'], predicted_labels_list[best_val_threshold],\n",
    "    #                          datasets['splits'][run_id]['test'])\n",
    "\n"
   ],
   "metadata": {
    "collapsed": false,
    "pycharm": {
     "name": "#%%\n"
    }
   }
  },
  {
   "cell_type": "code",
   "execution_count": 153,
   "outputs": [
    {
     "data": {
      "text/plain": "[0.31492911668484186,\n 0.3174375522887534,\n 0.3174375522887534,\n 0.3174375522887534,\n 0.3301876091355616,\n 0.3270739775249982,\n 0.3174375522887534,\n 0.3174375522887534,\n 0.3174375522887534,\n 0.3174375522887534,\n 0.36314552279970386,\n 0.33291922051697476,\n 0.333181425881845,\n 0.3356082953020542,\n 0.35121118355020486,\n 0.3174375522887534,\n 0.3174375522887534,\n 0.3174375522887534,\n 0.3174375522887534,\n 0.3174375522887534]"
     },
     "execution_count": 153,
     "metadata": {},
     "output_type": "execute_result"
    }
   ],
   "source": [
    "test_rocauc_list"
   ],
   "metadata": {
    "collapsed": false,
    "pycharm": {
     "name": "#%%\n"
    }
   }
  },
  {
   "cell_type": "code",
   "execution_count": 113,
   "outputs": [
    {
     "data": {
      "text/plain": "5711"
     },
     "execution_count": 113,
     "metadata": {},
     "output_type": "execute_result"
    }
   ],
   "source": [
    "datasets['graph'].number_of_nodes()"
   ],
   "metadata": {
    "collapsed": false,
    "pycharm": {
     "name": "#%%\n"
    }
   }
  },
  {
   "cell_type": "code",
   "execution_count": 114,
   "outputs": [
    {
     "data": {
      "text/plain": "509469"
     },
     "execution_count": 114,
     "metadata": {},
     "output_type": "execute_result"
    }
   ],
   "source": [
    "datasets['graph'].number_of_edges()"
   ],
   "metadata": {
    "collapsed": false,
    "pycharm": {
     "name": "#%%\n"
    }
   }
  },
  {
   "cell_type": "code",
   "execution_count": 115,
   "outputs": [
    {
     "data": {
      "text/plain": "3055.0"
     },
     "execution_count": 115,
     "metadata": {},
     "output_type": "execute_result"
    }
   ],
   "source": [
    "datasets['labels'].sum()"
   ],
   "metadata": {
    "collapsed": false,
    "pycharm": {
     "name": "#%%\n"
    }
   }
  },
  {
   "cell_type": "code",
   "execution_count": 116,
   "outputs": [
    {
     "data": {
      "text/plain": "0.5349325862370863"
     },
     "execution_count": 116,
     "metadata": {},
     "output_type": "execute_result"
    }
   ],
   "source": [
    "3055/5711"
   ],
   "metadata": {
    "collapsed": false,
    "pycharm": {
     "name": "#%%\n"
    }
   }
  },
  {
   "cell_type": "code",
   "execution_count": 112,
   "outputs": [
    {
     "data": {
      "text/plain": "<networkx.classes.graph.Graph at 0x7f8340536030>"
     },
     "execution_count": 112,
     "metadata": {},
     "output_type": "execute_result"
    }
   ],
   "source": [
    "3"
   ],
   "metadata": {
    "collapsed": false,
    "pycharm": {
     "name": "#%%\n"
    }
   }
  },
  {
   "cell_type": "code",
   "execution_count": null,
   "outputs": [],
   "source": [],
   "metadata": {
    "collapsed": false,
    "pycharm": {
     "name": "#%%\n"
    }
   }
  }
 ],
 "metadata": {
  "kernelspec": {
   "display_name": "Python 3",
   "language": "python",
   "name": "python3"
  },
  "language_info": {
   "codemirror_mode": {
    "name": "ipython",
    "version": 2
   },
   "file_extension": ".py",
   "mimetype": "text/x-python",
   "name": "python",
   "nbconvert_exporter": "python",
   "pygments_lexer": "ipython2",
   "version": "2.7.6"
  }
 },
 "nbformat": 4,
 "nbformat_minor": 0
}