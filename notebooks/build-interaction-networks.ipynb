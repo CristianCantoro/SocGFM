{
 "cells": [
  {
   "cell_type": "code",
   "execution_count": 1,
   "id": "cc58d9f0-9bfb-4175-8441-eecb1491a8a8",
   "metadata": {
    "pycharm": {
     "name": "#%%\n"
    }
   },
   "outputs": [],
   "source": [
    "import pandas as pd\n",
    "import numpy as np\n",
    "import networkx as nx\n",
    "import pathlib\n",
    "\n",
    "from tqdm.notebook import tqdm\n",
    "from scipy import sparse\n"
   ]
  },
  {
   "cell_type": "code",
   "execution_count": 2,
   "id": "7dde8538-b6d8-4cc7-81c8-d36f9faa3b66",
   "metadata": {
    "pycharm": {
     "name": "#%%\n"
    }
   },
   "outputs": [],
   "source": [
    "base_dir = pathlib.Path().cwd().parent\n",
    "data_dir = base_dir / 'data' / 'raw'\n",
    "processed_data_dir = base_dir / 'data' / 'processed'\n",
    "\n",
    "CONTROL_USERS_FILENAME = 'control_users.csv'\n",
    "IO_USERS_FILENAME = 'io_drivers_users.csv'\n"
   ]
  },
  {
   "cell_type": "code",
   "execution_count": 3,
   "id": "11420e6a-9c60-42b5-8ef3-3ebcb112e9fe",
   "metadata": {
    "pycharm": {
     "name": "#%%\n"
    }
   },
   "outputs": [],
   "source": [
    "control_df = pd.read_csv(processed_data_dir / CONTROL_USERS_FILENAME, sep=\",\", lineterminator='\\n', index_col=0)\n",
    "iodrivers_df = pd.read_csv(processed_data_dir / IO_USERS_FILENAME, sep=\",\", lineterminator='\\n', index_col=0)\n"
   ]
  },
  {
   "cell_type": "code",
   "execution_count": 4,
   "id": "7315bae4-dd73-41da-b8a9-8f6382879ffc",
   "metadata": {
    "pycharm": {
     "name": "#%%\n"
    }
   },
   "outputs": [
    {
     "data": {
      "text/plain": "      userid             tweetid  retweet_tweetid  retweet_userid  \\\n0  268401843  117387437608673280     1.173290e+17     370512955.0   \n1  268401843  117386921738641408     1.173868e+17     248639940.0   \n2  268401843  117386145578491904     1.173861e+17     251653606.0   \n3  268401843  117384105364172800     1.173833e+17      80274550.0   \n4  268401843  117384065665081344     1.173833e+17     251653606.0   \n\n                          hashtags                      urls  \\\n0  ['ElBaradei', 'Egypt', 'Ibyar']                        []   \n1                               []                        []   \n2                               []  ['http://t.co/ISFDoJMK']   \n3                 ['EgyPresident']  ['http://t.co/7FmSmmZ2']   \n4                               []                        []   \n\n            tweet_time                                         tweet_text  \n0  1316822320000000000   \"بنرددها جيل ورا جيل البرادعى ابن النيل .. من...  \n1  1316822197000000000   انا مقتنعة -معرفش ليه-ان كل اللي حصل عند البو...  \n2  1316822012000000000   مسلحون يهاجمون أحد مقاهي «البورصة» والشرطة تت...  \n3  1316821526000000000   لماذا أرفض حازم صلا أبو إسماعيل مع اني إسلامي...  \n4  1316821516000000000   انا ماكونتش عايزة اعمل شير للصورة دى بس اهو ب...  ",
      "text/html": "<div>\n<style scoped>\n    .dataframe tbody tr th:only-of-type {\n        vertical-align: middle;\n    }\n\n    .dataframe tbody tr th {\n        vertical-align: top;\n    }\n\n    .dataframe thead th {\n        text-align: right;\n    }\n</style>\n<table border=\"1\" class=\"dataframe\">\n  <thead>\n    <tr style=\"text-align: right;\">\n      <th></th>\n      <th>userid</th>\n      <th>tweetid</th>\n      <th>retweet_tweetid</th>\n      <th>retweet_userid</th>\n      <th>hashtags</th>\n      <th>urls</th>\n      <th>tweet_time</th>\n      <th>tweet_text</th>\n    </tr>\n  </thead>\n  <tbody>\n    <tr>\n      <th>0</th>\n      <td>268401843</td>\n      <td>117387437608673280</td>\n      <td>1.173290e+17</td>\n      <td>370512955.0</td>\n      <td>['ElBaradei', 'Egypt', 'Ibyar']</td>\n      <td>[]</td>\n      <td>1316822320000000000</td>\n      <td>\"بنرددها جيل ورا جيل البرادعى ابن النيل .. من...</td>\n    </tr>\n    <tr>\n      <th>1</th>\n      <td>268401843</td>\n      <td>117386921738641408</td>\n      <td>1.173868e+17</td>\n      <td>248639940.0</td>\n      <td>[]</td>\n      <td>[]</td>\n      <td>1316822197000000000</td>\n      <td>انا مقتنعة -معرفش ليه-ان كل اللي حصل عند البو...</td>\n    </tr>\n    <tr>\n      <th>2</th>\n      <td>268401843</td>\n      <td>117386145578491904</td>\n      <td>1.173861e+17</td>\n      <td>251653606.0</td>\n      <td>[]</td>\n      <td>['http://t.co/ISFDoJMK']</td>\n      <td>1316822012000000000</td>\n      <td>مسلحون يهاجمون أحد مقاهي «البورصة» والشرطة تت...</td>\n    </tr>\n    <tr>\n      <th>3</th>\n      <td>268401843</td>\n      <td>117384105364172800</td>\n      <td>1.173833e+17</td>\n      <td>80274550.0</td>\n      <td>['EgyPresident']</td>\n      <td>['http://t.co/7FmSmmZ2']</td>\n      <td>1316821526000000000</td>\n      <td>لماذا أرفض حازم صلا أبو إسماعيل مع اني إسلامي...</td>\n    </tr>\n    <tr>\n      <th>4</th>\n      <td>268401843</td>\n      <td>117384065665081344</td>\n      <td>1.173833e+17</td>\n      <td>251653606.0</td>\n      <td>[]</td>\n      <td>[]</td>\n      <td>1316821516000000000</td>\n      <td>انا ماكونتش عايزة اعمل شير للصورة دى بس اهو ب...</td>\n    </tr>\n  </tbody>\n</table>\n</div>"
     },
     "execution_count": 4,
     "metadata": {},
     "output_type": "execute_result"
    }
   ],
   "source": [
    "control_df.head()"
   ]
  },
  {
   "cell_type": "code",
   "execution_count": 5,
   "id": "cf0359e8-eb78-46ac-811d-0b07c9c0b234",
   "metadata": {
    "pycharm": {
     "name": "#%%\n"
    }
   },
   "outputs": [
    {
     "data": {
      "text/plain": "                userid              tweetid  retweet_tweetid  retweet_userid  \\\n0  1070186854861934592  1073994848330379264              NaN             NaN   \n1  1077206810615037953  1097812240177205248              NaN             NaN   \n2  1091348199980318721  1098392825715195905              NaN             NaN   \n3  1069965231982559234  1074602743879340032              NaN             NaN   \n4  1061578239813083136  1100236248579538944              NaN             NaN   \n\n      hashtags                  urls        tweet_time  \\\n0     ['يارب']                    []  2018-12-15 17:35   \n1           []                    []  2019-02-19 10:56   \n2           []                    []  2019-02-21 01:23   \n3  ['الضرائب']                    []  2018-12-17 09:50   \n4           []  ['https://du3a.org']  2019-02-26 03:28   \n\n                                          tweet_text  \n0  وَتَوَلَّى عَنْهُمْ وَقَالَ يَا أَسَفَى عَلَى ...  \n1  זה לא מה שאתם מסתכלים עליו שמשנה. זה מה שאתם ר...  \n2                       Lol😂 https://t.co/6mfLWN7aw5  \n3  قانون الضرائب غير مبرر إطلاقا لماذا يتم فرض #ا...  \n4  اللهم انا نسألك في هذا اليوم رحمة من عندك تهدى...  ",
      "text/html": "<div>\n<style scoped>\n    .dataframe tbody tr th:only-of-type {\n        vertical-align: middle;\n    }\n\n    .dataframe tbody tr th {\n        vertical-align: top;\n    }\n\n    .dataframe thead th {\n        text-align: right;\n    }\n</style>\n<table border=\"1\" class=\"dataframe\">\n  <thead>\n    <tr style=\"text-align: right;\">\n      <th></th>\n      <th>userid</th>\n      <th>tweetid</th>\n      <th>retweet_tweetid</th>\n      <th>retweet_userid</th>\n      <th>hashtags</th>\n      <th>urls</th>\n      <th>tweet_time</th>\n      <th>tweet_text</th>\n    </tr>\n  </thead>\n  <tbody>\n    <tr>\n      <th>0</th>\n      <td>1070186854861934592</td>\n      <td>1073994848330379264</td>\n      <td>NaN</td>\n      <td>NaN</td>\n      <td>['يارب']</td>\n      <td>[]</td>\n      <td>2018-12-15 17:35</td>\n      <td>وَتَوَلَّى عَنْهُمْ وَقَالَ يَا أَسَفَى عَلَى ...</td>\n    </tr>\n    <tr>\n      <th>1</th>\n      <td>1077206810615037953</td>\n      <td>1097812240177205248</td>\n      <td>NaN</td>\n      <td>NaN</td>\n      <td>[]</td>\n      <td>[]</td>\n      <td>2019-02-19 10:56</td>\n      <td>זה לא מה שאתם מסתכלים עליו שמשנה. זה מה שאתם ר...</td>\n    </tr>\n    <tr>\n      <th>2</th>\n      <td>1091348199980318721</td>\n      <td>1098392825715195905</td>\n      <td>NaN</td>\n      <td>NaN</td>\n      <td>[]</td>\n      <td>[]</td>\n      <td>2019-02-21 01:23</td>\n      <td>Lol😂 https://t.co/6mfLWN7aw5</td>\n    </tr>\n    <tr>\n      <th>3</th>\n      <td>1069965231982559234</td>\n      <td>1074602743879340032</td>\n      <td>NaN</td>\n      <td>NaN</td>\n      <td>['الضرائب']</td>\n      <td>[]</td>\n      <td>2018-12-17 09:50</td>\n      <td>قانون الضرائب غير مبرر إطلاقا لماذا يتم فرض #ا...</td>\n    </tr>\n    <tr>\n      <th>4</th>\n      <td>1061578239813083136</td>\n      <td>1100236248579538944</td>\n      <td>NaN</td>\n      <td>NaN</td>\n      <td>[]</td>\n      <td>['https://du3a.org']</td>\n      <td>2019-02-26 03:28</td>\n      <td>اللهم انا نسألك في هذا اليوم رحمة من عندك تهدى...</td>\n    </tr>\n  </tbody>\n</table>\n</div>"
     },
     "execution_count": 5,
     "metadata": {},
     "output_type": "execute_result"
    }
   ],
   "source": [
    "iodrivers_df.head()"
   ]
  },
  {
   "cell_type": "markdown",
   "id": "63ec9a46-69ae-4fa1-9867-76deac3990d5",
   "metadata": {
    "pycharm": {
     "name": "#%% md\n"
    }
   },
   "source": [
    "#### Step 1. Limit control tweets to the same time interval of the Information Campaign"
   ]
  },
  {
   "cell_type": "code",
   "execution_count": 6,
   "id": "97784ef2-6cfa-4c67-83aa-095dc28cfcb4",
   "metadata": {
    "pycharm": {
     "name": "#%%\n"
    }
   },
   "outputs": [
    {
     "name": "stdout",
     "output_type": "stream",
     "text": [
      "num raw control tweets: 382262\n",
      "num control tweets after limiting to IO time interval: 381637\n"
     ]
    }
   ],
   "source": [
    "iodrivers_df['tweet_time'] = pd.to_datetime(iodrivers_df.tweet_time)\n",
    "control_df['tweet_time'] = pd.to_datetime(control_df.tweet_time)\n",
    "\n",
    "io_start_time, io_end_time = iodrivers_df['tweet_time'].min(), iodrivers_df['tweet_time'].max()\n",
    "print(f'num raw control tweets: {len(control_df.index)}')\n",
    "\n",
    "control_df = control_df[control_df['tweet_time'] >= io_start_time]\n",
    "control_df = control_df[control_df['tweet_time'] <= io_end_time]\n",
    "print(f'num control tweets after limiting to IO time interval: {len(control_df.index)}')\n"
   ]
  },
  {
   "cell_type": "markdown",
   "id": "60f27904-3075-4073-97f9-5025e2091248",
   "metadata": {
    "pycharm": {
     "name": "#%% md\n"
    }
   },
   "source": [
    "#### Step 2. Print basic statistics"
   ]
  },
  {
   "cell_type": "code",
   "execution_count": null,
   "id": "a4936867-9faa-4dd4-902f-368b9b4f152f",
   "metadata": {
    "pycharm": {
     "name": "#%%\n",
     "is_executing": true
    }
   },
   "outputs": [],
   "source": [
    "print(f'[CONTROL] users: {control_df.userid.nunique()} tweets: {control_df.tweetid.nunique()}')\n",
    "print(f'[IO] users: {iodrivers_df.userid.nunique()} tweets: {iodrivers_df.tweetid.nunique()}')\n",
    "\n"
   ]
  },
  {
   "cell_type": "markdown",
   "id": "ae43bcd1-1755-489e-b4b3-dea55effb25e",
   "metadata": {
    "pycharm": {
     "name": "#%% md\n"
    }
   },
   "source": [
    "#### Step 3. Build retweet interaction network"
   ]
  },
  {
   "cell_type": "code",
   "execution_count": 8,
   "id": "86bc09dd-777f-4b88-9b85-361fc59fd739",
   "metadata": {
    "pycharm": {
     "name": "#%%\n"
    }
   },
   "outputs": [
    {
     "name": "stdout",
     "output_type": "stream",
     "text": [
      "num tweets with at least a retweet: 485559\n"
     ]
    }
   ],
   "source": [
    "# limit the set of tweets to those having at least 1 retweet\n",
    "retweet_id_set = list()\n",
    "retweet_id_set += iodrivers_df.retweet_tweetid.unique().tolist()\n",
    "retweet_id_set += control_df.retweet_tweetid.unique().tolist()\n",
    "retweet_id_set = list(set(retweet_id_set))\n",
    "print(f'num tweets with at least a retweet: {len(retweet_id_set)}')\n",
    "\n",
    "retweet_id_to_idx = {retweet_id_set[i]: i for i in range(len(retweet_id_set))}\n"
   ]
  },
  {
   "cell_type": "code",
   "execution_count": 9,
   "id": "ef3ff1ad-81ed-42df-9a79-e3a41d4e2150",
   "metadata": {
    "pycharm": {
     "name": "#%%\n"
    }
   },
   "outputs": [
    {
     "data": {
      "text/plain": "io drivers:   0%|          | 0/3658 [00:00<?, ?it/s]",
      "application/vnd.jupyter.widget-view+json": {
       "version_major": 2,
       "version_minor": 0,
       "model_id": "92825e05e14e4738b6c0cd40d7ab5e0d"
      }
     },
     "metadata": {},
     "output_type": "display_data"
    },
    {
     "data": {
      "text/plain": "control users:   0%|          | 0/10535 [00:00<?, ?it/s]",
      "application/vnd.jupyter.widget-view+json": {
       "version_major": 2,
       "version_minor": 0,
       "model_id": "e39285cfeae1404db80f0e25aca4aa58"
      }
     },
     "metadata": {},
     "output_type": "display_data"
    }
   ],
   "source": [
    "# Build one-hot encoding of user retweets history\n",
    "io_users_retweet_matrix = np.zeros(shape=(iodrivers_df.userid.nunique(), len(retweet_id_set)), dtype=int)\n",
    "control_users_retweet_matrix = np.zeros(shape=(control_df.userid.nunique(), len(retweet_id_set)), dtype=int)\n",
    "io_users_set, control_users_set = iodrivers_df.userid.unique(), control_df.userid.unique()\n",
    "\n",
    "# Populating io matrix\n",
    "for i in tqdm(range(len(io_users_set)), 'io drivers'):\n",
    "    user_id = io_users_set[i]\n",
    "    for retweet_id in iodrivers_df[iodrivers_df.userid == user_id].retweet_tweetid:\n",
    "        if not pd.isna(retweet_id):\n",
    "            io_users_retweet_matrix[i, retweet_id_to_idx[retweet_id]] = 1\n",
    "\n",
    "# Populating control matrix\n",
    "for i in tqdm(range(len(control_users_set)), 'control users'):\n",
    "    user_id = control_users_set[i]\n",
    "    for retweet_id in control_df[control_df.userid == user_id].retweet_tweetid:\n",
    "        if not pd.isna(retweet_id):\n",
    "            control_users_retweet_matrix[i, retweet_id_to_idx[retweet_id]] = 1\n",
    "            "
   ]
  },
  {
   "cell_type": "code",
   "execution_count": 10,
   "id": "a8dcbf5f-ff49-4d0a-819e-d58071251886",
   "metadata": {
    "pycharm": {
     "name": "#%%\n"
    }
   },
   "outputs": [
    {
     "name": "stdout",
     "output_type": "stream",
     "text": [
      "users having at least a retweet\n",
      "[IO] users: 3421\n",
      "[CONTROL] users: 8413\n"
     ]
    }
   ],
   "source": [
    "# convert to np.uint16 for operation efficiency\n",
    "io_users_retweet_matrix = io_users_retweet_matrix.astype(np.uint16)\n",
    "control_users_retweet_matrix = control_users_retweet_matrix.astype(np.uint16)\n",
    "# exclude users having zero retweets\n",
    "io_num_retweets = io_users_retweet_matrix.sum(1)\n",
    "control_num_retweets = control_users_retweet_matrix.sum(1)\n",
    "io_users_retweet_matrix = io_users_retweet_matrix[io_num_retweets > 0]\n",
    "control_users_retweet_matrix = control_users_retweet_matrix[control_num_retweets > 0]\n",
    "io_users_set = io_users_set[io_num_retweets > 0]\n",
    "control_users_set = control_users_set[control_num_retweets > 0]\n",
    "\n",
    "print('users having at least a retweet')\n",
    "print(f'[IO] users: {len(io_users_set)}')\n",
    "print(f'[CONTROL] users: {len(control_users_set)}')\n"
   ]
  },
  {
   "cell_type": "code",
   "execution_count": 11,
   "id": "66478660-00f0-4e28-b46e-e46b08b0a7f0",
   "metadata": {
    "pycharm": {
     "name": "#%%\n"
    }
   },
   "outputs": [
    {
     "name": "stdout",
     "output_type": "stream",
     "text": [
      "tweets having at least a retweet: 485557\n"
     ]
    }
   ],
   "source": [
    "user_retweet_matrix = np.vstack([control_users_retweet_matrix, io_users_retweet_matrix])\n",
    "# Exclude tweets having zero retweets\n",
    "num_tweet_was_retweeted = user_retweet_matrix.sum(0)\n",
    "user_retweet_matrix = user_retweet_matrix[:, num_tweet_was_retweeted > 0]\n",
    "num_tweet_was_retweeted = num_tweet_was_retweeted[num_tweet_was_retweeted > 0]\n",
    "print(f'tweets having at least a retweet: {user_retweet_matrix.shape[1]}')\n",
    "\n"
   ]
  },
  {
   "cell_type": "code",
   "execution_count": 12,
   "id": "9dddb4cd-cfba-4271-80c8-34e687e444b7",
   "metadata": {
    "pycharm": {
     "name": "#%%\n"
    }
   },
   "outputs": [
    {
     "data": {
      "text/plain": "  0%|          | 0/877443 [00:00<?, ?it/s]",
      "application/vnd.jupyter.widget-view+json": {
       "version_major": 2,
       "version_minor": 0,
       "model_id": "10af5ec3aa204ec4abc82848ed8914bf"
      }
     },
     "metadata": {},
     "output_type": "display_data"
    }
   ],
   "source": [
    "# Convert the matrix to sparse format for matrix multiplication efficiency\n",
    "row_indexes, col_indexes = np.where(user_retweet_matrix>0)\n",
    "values = np.ones(len(row_indexes))\n",
    "# Normalize the matrix using TF-IDF approach\n",
    "idf_retweet = np.log(user_retweet_matrix.shape[0]/ num_tweet_was_retweeted) + 1\n",
    "for i in tqdm(range(len(values))):\n",
    "    values[i] /= idf_retweet[col_indexes[i]]\n",
    "sparse_user_retweet_matrix = sparse.csr_matrix((values, (row_indexes, col_indexes)))\n"
   ]
  },
  {
   "cell_type": "code",
   "execution_count": 13,
   "id": "087d9bb9-3a73-4522-847e-6bc20cec38d9",
   "metadata": {
    "pycharm": {
     "name": "#%%\n"
    }
   },
   "outputs": [
    {
     "name": "stdout",
     "output_type": "stream",
     "text": [
      "nodes: 11834 edges: 370363\n"
     ]
    }
   ],
   "source": [
    "# Build user-user interaction network based on retweet behavioral trace\n",
    "shared_retweet_matrix = sparse_user_retweet_matrix @ sparse_user_retweet_matrix.T\n",
    "retweet_network = nx.from_scipy_sparse_array(shared_retweet_matrix)\n",
    "print(f'nodes: {retweet_network.number_of_nodes()} edges: {retweet_network.number_of_edges()}')\n"
   ]
  },
  {
   "cell_type": "code",
   "execution_count": 14,
   "id": "5ffeaf39-8a3e-4749-bc5c-8ef1bf784cb4",
   "metadata": {
    "pycharm": {
     "name": "#%%\n"
    }
   },
   "outputs": [
    {
     "name": "stdout",
     "output_type": "stream",
     "text": [
      "nodes: 5788 edges: 355322\n"
     ]
    }
   ],
   "source": [
    "# Extract largest connected component\n",
    "connected_components_ordered_list = sorted(nx.connected_components(retweet_network), key=len, reverse=True)\n",
    "retweet_network_lcc = nx.Graph(retweet_network.subgraph(connected_components_ordered_list[0]))\n",
    "retweet_network_lcc.remove_edges_from(nx.selfloop_edges(retweet_network_lcc))\n",
    "print(f'nodes: {retweet_network_lcc.number_of_nodes()} edges: {retweet_network_lcc.number_of_edges()}')\n"
   ]
  },
  {
   "cell_type": "code",
   "execution_count": 15,
   "id": "464a16ba-dd4f-4154-94c2-5a1487fd5b52",
   "metadata": {
    "pycharm": {
     "name": "#%%\n"
    }
   },
   "outputs": [
    {
     "name": "stdout",
     "output_type": "stream",
     "text": [
      "LCC contains 5788 nodes and 355322 edges.             3174/5788 nodes are IO drivers\n"
     ]
    }
   ],
   "source": [
    "# Extract node labels\n",
    "nodes_labels = np.ones(user_retweet_matrix.shape[0], dtype=int)\n",
    "nodes_labels[:control_users_retweet_matrix.shape[0]] = 0\n",
    "# Limit node labels to those nodes present in the largest connected component\n",
    "nodes_labels = nodes_labels[retweet_network_lcc.nodes()]\n",
    "print(f'LCC contains {retweet_network_lcc.number_of_nodes()} nodes and {retweet_network_lcc.number_of_edges()} edges. \\\n",
    "            {nodes_labels.sum()}/{retweet_network_lcc.number_of_nodes()} nodes are IO drivers')\n",
    "\n"
   ]
  },
  {
   "cell_type": "markdown",
   "id": "e8cdd28e-fb10-44ba-8997-26b76b2e0454",
   "metadata": {
    "pycharm": {
     "name": "#%% md\n"
    }
   },
   "source": [
    "#### Step 4. Save the obtained network on disk"
   ]
  },
  {
   "cell_type": "code",
   "execution_count": 17,
   "outputs": [],
   "source": [
    "nx.write_graphml(retweet_network_lcc, processed_data_dir / 'lcc_retweet.gml')\n",
    "np.save(processed_data_dir / 'lcc_retweet_labels.npy', nodes_labels)\n"
   ],
   "metadata": {
    "collapsed": false,
    "pycharm": {
     "name": "#%%\n"
    }
   }
  }
 ],
 "metadata": {
  "kernelspec": {
   "display_name": "Python 3 (ipykernel)",
   "language": "python",
   "name": "python3"
  },
  "language_info": {
   "codemirror_mode": {
    "name": "ipython",
    "version": 3
   },
   "file_extension": ".py",
   "mimetype": "text/x-python",
   "name": "python",
   "nbconvert_exporter": "python",
   "pygments_lexer": "ipython3",
   "version": "3.12.2"
  }
 },
 "nbformat": 4,
 "nbformat_minor": 5
}