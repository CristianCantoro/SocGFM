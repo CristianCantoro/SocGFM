{
 "cells": [
  {
   "cell_type": "code",
   "execution_count": 1,
   "outputs": [],
   "source": [
    "import pathlib\n",
    "\n",
    "import numpy as np\n",
    "import pandas as pd\n",
    "import sys\n",
    "sys.path.append('../SocGFM/src')\n",
    "\n",
    "from preprocessing_util import coRetweet\n"
   ],
   "metadata": {
    "collapsed": false,
    "pycharm": {
     "name": "#%%\n"
    }
   }
  },
  {
   "cell_type": "code",
   "execution_count": 2,
   "outputs": [
    {
     "name": "stderr",
     "output_type": "stream",
     "text": [
      "/tmp/ipykernel_2646833/1408084759.py:16: DtypeWarning: Columns (6) have mixed types. Specify dtype option on import or set low_memory=False.\n",
      "  io_df = pd.read_csv(data_dir / DATASET_NAME / filename_dict[DATASET_NAME][IO_FILE_IDX], sep=\",\")\n"
     ]
    }
   ],
   "source": [
    "# Script Hyper-Parameters\n",
    "DATASET_NAME = 'cuba'\n",
    "extract_largest_connected_component = True\n",
    "\n",
    "# Script constants\n",
    "CONTROL_FILE_IDX, IO_FILE_IDX = 0, 1\n",
    "filename_dict = {'UAE_sample': ['control_driver_tweets_uae_082019.jsonl', 'uae_082019_tweets_csv_unhashed.csv'],\n",
    "                 'cuba': ['control_driver_tweets_cuba_082020.jsonl', 'cuba_082020_tweets_csv_unhashed.csv']}\n",
    "\n",
    "# Basic definitions\n",
    "base_dir = pathlib.Path.cwd().parent / 'SocGFM'\n",
    "data_dir = base_dir / 'data' / 'raw'\n",
    "processed_data_dir = base_dir / 'data' / 'processed'\n",
    "\n",
    "# Read raw data\n",
    "io_df = pd.read_csv(data_dir / DATASET_NAME / filename_dict[DATASET_NAME][IO_FILE_IDX], sep=\",\")\n",
    "control_df = pd.read_json(data_dir / DATASET_NAME / filename_dict[DATASET_NAME][CONTROL_FILE_IDX], lines=True)\n",
    "\n",
    "# Build Co-Retweet\n",
    "control, treated = control_df.copy(), io_df.copy()\n",
    "control_column_names = ['id', 'user', 'retweeted_status']\n",
    "treated_column_names = ['userid', 'tweetid', 'retweet_tweetid']\n",
    "control = control[control_column_names]\n",
    "treated = treated[treated_column_names]\n",
    "coRetweet_network = coRetweet(control, treated)\n"
   ],
   "metadata": {
    "collapsed": false,
    "pycharm": {
     "name": "#%%\n"
    }
   }
  },
  {
   "cell_type": "markdown",
   "source": [
    "Restrict the analysis to users present in the coRT network"
   ],
   "metadata": {
    "collapsed": false,
    "pycharm": {
     "name": "#%% md\n"
    }
   }
  },
  {
   "cell_type": "code",
   "execution_count": 111,
   "outputs": [],
   "source": [
    "valid_user_ids = list(coRetweet_network.nodes())\n",
    "control_df['userid'] = control_df['user'].apply(lambda x: int(dict(x)['id']))  # Retrieve user ID\n",
    "filtered_control_df = control_df[control_df['userid'].astype(str).isin(valid_user_ids)]\n",
    "filtered_treated_df = io_df[io_df['userid'].astype(str).isin(valid_user_ids)]\n"
   ],
   "metadata": {
    "collapsed": false,
    "pycharm": {
     "name": "#%%\n"
    }
   }
  },
  {
   "cell_type": "code",
   "execution_count": 112,
   "outputs": [
    {
     "data": {
      "text/plain": "            id                                          full_text  \\\n0  24148603702  RT @amoleiro: coincido: la aclaratoria de fide...   \n1  24148595306  @yghome ¿Fidel estaba en directo en TV? me lo ...   \n2  24148518366  RT @mrperozo: RT @OrlandoOchoa: Así es \"@amole...   \n3  24143912305  RT @Lady_Liberty: Patriots! #FollowFriday #tco...   \n4  24143826652  RT @blogsdecuba: Castro recula: ‘Es el capital...   \n\n               source lang                                               user  \\\n0  Twitter Web Client   es  {'location': 'USA', 'profile_image_url': 'http...   \n1  Twitter Web Client   es  {'location': 'USA', 'profile_image_url': 'http...   \n2  Twitter Web Client   es  {'location': 'USA', 'profile_image_url': 'http...   \n3  Twitter Web Client   lv  {'location': 'USA', 'profile_image_url': 'http...   \n4  Twitter Web Client   es  {'location': 'USA', 'profile_image_url': 'http...   \n\n   geo  coordinates place  in_reply_to_status_id in_reply_to_screen_name  \\\n0  NaN          NaN  None                    NaN                    None   \n1  NaN          NaN  None                    NaN                  ggohom   \n2  NaN          NaN  None                    NaN                    None   \n3  NaN          NaN  None                    NaN                    None   \n4  NaN          NaN  None                    NaN                    None   \n\n   in_reply_to_user_id                created_at  \\\n0                  NaN 2010-09-10 23:59:56+00:00   \n1         71024346.000 2010-09-10 23:59:48+00:00   \n2                  NaN 2010-09-10 23:58:38+00:00   \n3                  NaN 2010-09-10 22:48:44+00:00   \n4                  NaN 2010-09-10 22:47:23+00:00   \n\n                                            entities  \\\n0  {'annotations': [{'start': 42, 'end': 46, 'pro...   \n1  {'hashtags': [{'text': 'Cuba', 'indices': [76,...   \n2  {'annotations': [{'start': 79, 'end': 83, 'pro...   \n3  {'hashtags': [{'text': 'FollowFriday', 'indice...   \n4  {'annotations': [{'start': 17, 'end': 22, 'pro...   \n\n                                    retweeted_status extended_entities  \\\n0  {'id': '24147670831', 'full_text': 'coincido: ...               NaN   \n1                                                NaN               NaN   \n2  {'id': '24148373806', 'full_text': 'RT @Orland...               NaN   \n3  {'id': '24141870726', 'full_text': 'Patriots! ...               NaN   \n4  {'id': '24143748382', 'full_text': 'Castro rec...               NaN   \n\n  context_annotations    userid  \n0                 NaN  41929478  \n1                 NaN  41929478  \n2                 NaN  41929478  \n3                 NaN  41929478  \n4                 NaN  41929478  ",
      "text/html": "<div>\n<style scoped>\n    .dataframe tbody tr th:only-of-type {\n        vertical-align: middle;\n    }\n\n    .dataframe tbody tr th {\n        vertical-align: top;\n    }\n\n    .dataframe thead th {\n        text-align: right;\n    }\n</style>\n<table border=\"1\" class=\"dataframe\">\n  <thead>\n    <tr style=\"text-align: right;\">\n      <th></th>\n      <th>id</th>\n      <th>full_text</th>\n      <th>source</th>\n      <th>lang</th>\n      <th>user</th>\n      <th>geo</th>\n      <th>coordinates</th>\n      <th>place</th>\n      <th>in_reply_to_status_id</th>\n      <th>in_reply_to_screen_name</th>\n      <th>in_reply_to_user_id</th>\n      <th>created_at</th>\n      <th>entities</th>\n      <th>retweeted_status</th>\n      <th>extended_entities</th>\n      <th>context_annotations</th>\n      <th>userid</th>\n    </tr>\n  </thead>\n  <tbody>\n    <tr>\n      <th>0</th>\n      <td>24148603702</td>\n      <td>RT @amoleiro: coincido: la aclaratoria de fide...</td>\n      <td>Twitter Web Client</td>\n      <td>es</td>\n      <td>{'location': 'USA', 'profile_image_url': 'http...</td>\n      <td>NaN</td>\n      <td>NaN</td>\n      <td>None</td>\n      <td>NaN</td>\n      <td>None</td>\n      <td>NaN</td>\n      <td>2010-09-10 23:59:56+00:00</td>\n      <td>{'annotations': [{'start': 42, 'end': 46, 'pro...</td>\n      <td>{'id': '24147670831', 'full_text': 'coincido: ...</td>\n      <td>NaN</td>\n      <td>NaN</td>\n      <td>41929478</td>\n    </tr>\n    <tr>\n      <th>1</th>\n      <td>24148595306</td>\n      <td>@yghome ¿Fidel estaba en directo en TV? me lo ...</td>\n      <td>Twitter Web Client</td>\n      <td>es</td>\n      <td>{'location': 'USA', 'profile_image_url': 'http...</td>\n      <td>NaN</td>\n      <td>NaN</td>\n      <td>None</td>\n      <td>NaN</td>\n      <td>ggohom</td>\n      <td>71024346.000</td>\n      <td>2010-09-10 23:59:48+00:00</td>\n      <td>{'hashtags': [{'text': 'Cuba', 'indices': [76,...</td>\n      <td>NaN</td>\n      <td>NaN</td>\n      <td>NaN</td>\n      <td>41929478</td>\n    </tr>\n    <tr>\n      <th>2</th>\n      <td>24148518366</td>\n      <td>RT @mrperozo: RT @OrlandoOchoa: Así es \"@amole...</td>\n      <td>Twitter Web Client</td>\n      <td>es</td>\n      <td>{'location': 'USA', 'profile_image_url': 'http...</td>\n      <td>NaN</td>\n      <td>NaN</td>\n      <td>None</td>\n      <td>NaN</td>\n      <td>None</td>\n      <td>NaN</td>\n      <td>2010-09-10 23:58:38+00:00</td>\n      <td>{'annotations': [{'start': 79, 'end': 83, 'pro...</td>\n      <td>{'id': '24148373806', 'full_text': 'RT @Orland...</td>\n      <td>NaN</td>\n      <td>NaN</td>\n      <td>41929478</td>\n    </tr>\n    <tr>\n      <th>3</th>\n      <td>24143912305</td>\n      <td>RT @Lady_Liberty: Patriots! #FollowFriday #tco...</td>\n      <td>Twitter Web Client</td>\n      <td>lv</td>\n      <td>{'location': 'USA', 'profile_image_url': 'http...</td>\n      <td>NaN</td>\n      <td>NaN</td>\n      <td>None</td>\n      <td>NaN</td>\n      <td>None</td>\n      <td>NaN</td>\n      <td>2010-09-10 22:48:44+00:00</td>\n      <td>{'hashtags': [{'text': 'FollowFriday', 'indice...</td>\n      <td>{'id': '24141870726', 'full_text': 'Patriots! ...</td>\n      <td>NaN</td>\n      <td>NaN</td>\n      <td>41929478</td>\n    </tr>\n    <tr>\n      <th>4</th>\n      <td>24143826652</td>\n      <td>RT @blogsdecuba: Castro recula: ‘Es el capital...</td>\n      <td>Twitter Web Client</td>\n      <td>es</td>\n      <td>{'location': 'USA', 'profile_image_url': 'http...</td>\n      <td>NaN</td>\n      <td>NaN</td>\n      <td>None</td>\n      <td>NaN</td>\n      <td>None</td>\n      <td>NaN</td>\n      <td>2010-09-10 22:47:23+00:00</td>\n      <td>{'annotations': [{'start': 17, 'end': 22, 'pro...</td>\n      <td>{'id': '24143748382', 'full_text': 'Castro rec...</td>\n      <td>NaN</td>\n      <td>NaN</td>\n      <td>41929478</td>\n    </tr>\n  </tbody>\n</table>\n</div>"
     },
     "execution_count": 112,
     "metadata": {},
     "output_type": "execute_result"
    }
   ],
   "source": [
    "filtered_control_df.head()"
   ],
   "metadata": {
    "collapsed": false,
    "pycharm": {
     "name": "#%%\n"
    }
   }
  },
  {
   "cell_type": "code",
   "execution_count": 113,
   "outputs": [
    {
     "data": {
      "text/plain": "              tweetid     userid           user_display_name user_screen_name  \\\n0  489569193772466176  543803256  Fernando Pérez Hernández🇨🇺  FernandoPerezHd   \n1  420612879717789696  543803256  Fernando Pérez Hernández🇨🇺  FernandoPerezHd   \n2  368409820048916481  543803256  Fernando Pérez Hernández🇨🇺  FernandoPerezHd   \n3  419160883110359040  543803256  Fernando Pérez Hernández🇨🇺  FernandoPerezHd   \n4  642077163173347329  543803256  Fernando Pérez Hernández🇨🇺  FernandoPerezHd   \n\n  user_reported_location                           user_profile_description  \\\n0             Cienfuegos  No soy Político ni pretendo convertirme en un ...   \n1             Cienfuegos  No soy Político ni pretendo convertirme en un ...   \n2             Cienfuegos  No soy Político ni pretendo convertirme en un ...   \n3             Cienfuegos  No soy Político ni pretendo convertirme en un ...   \n4             Cienfuegos  No soy Político ni pretendo convertirme en un ...   \n\n  user_profile_url  follower_count  following_count account_creation_date  \\\n0              NaN            3971             3540            2012-04-02   \n1              NaN            3971             3540            2012-04-02   \n2              NaN            3971             3540            2012-04-02   \n3              NaN            3971             3540            2012-04-02   \n4              NaN            3971             3540            2012-04-02   \n\n   ...        retweet_tweetid latitude longitude quote_count reply_count  \\\n0  ... 489568125386383360.000   absent    absent           0           0   \n1  ... 420611331008364544.000   absent    absent           0           0   \n2  ... 368408605067718656.000   absent    absent           0           0   \n3  ... 419158255345344512.000   absent    absent           0           0   \n4  ... 642069667062771712.000   absent    absent           0           0   \n\n   like_count  retweet_count                                     hashtags  \\\n0           0              0  ['Cuba', 'CubaVa', 'CubaSi', 'YoaniFraude']   \n1           0              0                 ['Cuba', 'CubaVa', 'CubaSi']   \n2           0              0                 ['Cuba', 'CubaVa', 'CubaSi']   \n3           0              0                 ['Cuba', 'CubaVa', 'CubaSi']   \n4           0              0    ['cuba', 'YoSoyCuba', 'PensandoAmericas']   \n\n                             urls  user_mentions  \n0   ['http://ln.is/bit.ly/0WlGy']    [587848359]  \n1  ['http://tinyurl.com/n3yqs5u']    [587848359]  \n2       ['http://bit.ly/1bDB6Lj']    [587848359]  \n3   ['http://ln.is/bit.ly/Z3ATI']    [587848359]  \n4       ['http://bit.ly/1Og4ZX3']    [602879083]  \n\n[5 rows x 30 columns]",
      "text/html": "<div>\n<style scoped>\n    .dataframe tbody tr th:only-of-type {\n        vertical-align: middle;\n    }\n\n    .dataframe tbody tr th {\n        vertical-align: top;\n    }\n\n    .dataframe thead th {\n        text-align: right;\n    }\n</style>\n<table border=\"1\" class=\"dataframe\">\n  <thead>\n    <tr style=\"text-align: right;\">\n      <th></th>\n      <th>tweetid</th>\n      <th>userid</th>\n      <th>user_display_name</th>\n      <th>user_screen_name</th>\n      <th>user_reported_location</th>\n      <th>user_profile_description</th>\n      <th>user_profile_url</th>\n      <th>follower_count</th>\n      <th>following_count</th>\n      <th>account_creation_date</th>\n      <th>...</th>\n      <th>retweet_tweetid</th>\n      <th>latitude</th>\n      <th>longitude</th>\n      <th>quote_count</th>\n      <th>reply_count</th>\n      <th>like_count</th>\n      <th>retweet_count</th>\n      <th>hashtags</th>\n      <th>urls</th>\n      <th>user_mentions</th>\n    </tr>\n  </thead>\n  <tbody>\n    <tr>\n      <th>0</th>\n      <td>489569193772466176</td>\n      <td>543803256</td>\n      <td>Fernando Pérez Hernández🇨🇺</td>\n      <td>FernandoPerezHd</td>\n      <td>Cienfuegos</td>\n      <td>No soy Político ni pretendo convertirme en un ...</td>\n      <td>NaN</td>\n      <td>3971</td>\n      <td>3540</td>\n      <td>2012-04-02</td>\n      <td>...</td>\n      <td>489568125386383360.000</td>\n      <td>absent</td>\n      <td>absent</td>\n      <td>0</td>\n      <td>0</td>\n      <td>0</td>\n      <td>0</td>\n      <td>['Cuba', 'CubaVa', 'CubaSi', 'YoaniFraude']</td>\n      <td>['http://ln.is/bit.ly/0WlGy']</td>\n      <td>[587848359]</td>\n    </tr>\n    <tr>\n      <th>1</th>\n      <td>420612879717789696</td>\n      <td>543803256</td>\n      <td>Fernando Pérez Hernández🇨🇺</td>\n      <td>FernandoPerezHd</td>\n      <td>Cienfuegos</td>\n      <td>No soy Político ni pretendo convertirme en un ...</td>\n      <td>NaN</td>\n      <td>3971</td>\n      <td>3540</td>\n      <td>2012-04-02</td>\n      <td>...</td>\n      <td>420611331008364544.000</td>\n      <td>absent</td>\n      <td>absent</td>\n      <td>0</td>\n      <td>0</td>\n      <td>0</td>\n      <td>0</td>\n      <td>['Cuba', 'CubaVa', 'CubaSi']</td>\n      <td>['http://tinyurl.com/n3yqs5u']</td>\n      <td>[587848359]</td>\n    </tr>\n    <tr>\n      <th>2</th>\n      <td>368409820048916481</td>\n      <td>543803256</td>\n      <td>Fernando Pérez Hernández🇨🇺</td>\n      <td>FernandoPerezHd</td>\n      <td>Cienfuegos</td>\n      <td>No soy Político ni pretendo convertirme en un ...</td>\n      <td>NaN</td>\n      <td>3971</td>\n      <td>3540</td>\n      <td>2012-04-02</td>\n      <td>...</td>\n      <td>368408605067718656.000</td>\n      <td>absent</td>\n      <td>absent</td>\n      <td>0</td>\n      <td>0</td>\n      <td>0</td>\n      <td>0</td>\n      <td>['Cuba', 'CubaVa', 'CubaSi']</td>\n      <td>['http://bit.ly/1bDB6Lj']</td>\n      <td>[587848359]</td>\n    </tr>\n    <tr>\n      <th>3</th>\n      <td>419160883110359040</td>\n      <td>543803256</td>\n      <td>Fernando Pérez Hernández🇨🇺</td>\n      <td>FernandoPerezHd</td>\n      <td>Cienfuegos</td>\n      <td>No soy Político ni pretendo convertirme en un ...</td>\n      <td>NaN</td>\n      <td>3971</td>\n      <td>3540</td>\n      <td>2012-04-02</td>\n      <td>...</td>\n      <td>419158255345344512.000</td>\n      <td>absent</td>\n      <td>absent</td>\n      <td>0</td>\n      <td>0</td>\n      <td>0</td>\n      <td>0</td>\n      <td>['Cuba', 'CubaVa', 'CubaSi']</td>\n      <td>['http://ln.is/bit.ly/Z3ATI']</td>\n      <td>[587848359]</td>\n    </tr>\n    <tr>\n      <th>4</th>\n      <td>642077163173347329</td>\n      <td>543803256</td>\n      <td>Fernando Pérez Hernández🇨🇺</td>\n      <td>FernandoPerezHd</td>\n      <td>Cienfuegos</td>\n      <td>No soy Político ni pretendo convertirme en un ...</td>\n      <td>NaN</td>\n      <td>3971</td>\n      <td>3540</td>\n      <td>2012-04-02</td>\n      <td>...</td>\n      <td>642069667062771712.000</td>\n      <td>absent</td>\n      <td>absent</td>\n      <td>0</td>\n      <td>0</td>\n      <td>0</td>\n      <td>0</td>\n      <td>['cuba', 'YoSoyCuba', 'PensandoAmericas']</td>\n      <td>['http://bit.ly/1Og4ZX3']</td>\n      <td>[602879083]</td>\n    </tr>\n  </tbody>\n</table>\n<p>5 rows × 30 columns</p>\n</div>"
     },
     "execution_count": 113,
     "metadata": {},
     "output_type": "execute_result"
    }
   ],
   "source": [
    "filtered_treated_df.head()"
   ],
   "metadata": {
    "collapsed": false,
    "pycharm": {
     "name": "#%%\n"
    }
   }
  },
  {
   "cell_type": "markdown",
   "source": [
    "Get some basic statistics"
   ],
   "metadata": {
    "collapsed": false,
    "pycharm": {
     "name": "#%% md\n"
    }
   }
  },
  {
   "cell_type": "code",
   "execution_count": 44,
   "outputs": [],
   "source": [
    "control_users_tweets = filtered_control_df.userid.unique()\n",
    "treated_users_tweets = filtered_treated_df.userid.unique()\n",
    "\n",
    "assert len(np.union1d(control_users_tweets, treated_users_tweets)) == len(valid_user_ids), len(valid_user_ids)-len(np.union1d(control_users_tweets, treated_users_tweets))\n"
   ],
   "metadata": {
    "collapsed": false,
    "pycharm": {
     "name": "#%%\n"
    }
   }
  },
  {
   "cell_type": "code",
   "execution_count": 61,
   "outputs": [],
   "source": [
    "control_users_tweets_stats = filtered_control_df.groupby('userid').count()['id']\n",
    "treated_users_tweets_stats = filtered_treated_df.groupby('userid').count()['tweetid']\n"
   ],
   "metadata": {
    "collapsed": false,
    "pycharm": {
     "name": "#%%\n"
    }
   }
  },
  {
   "cell_type": "code",
   "execution_count": 74,
   "outputs": [
    {
     "data": {
      "text/plain": "count    4377.000000\nmean       94.235549\nstd       155.071145\nmin        20.000000\n25%        48.000000\n50%        88.000000\n75%        99.000000\nmax      6399.000000\nName: id, dtype: float64"
     },
     "execution_count": 74,
     "metadata": {},
     "output_type": "execute_result"
    }
   ],
   "source": [
    "control_users_tweets_stats.describe()"
   ],
   "metadata": {
    "collapsed": false,
    "pycharm": {
     "name": "#%%\n"
    }
   }
  },
  {
   "cell_type": "code",
   "execution_count": 79,
   "outputs": [
    {
     "data": {
      "text/plain": "count       429.000000\nmean      11185.505828\nstd       26084.025503\nmin          28.000000\n25%         826.000000\n50%        3853.000000\n75%       10631.000000\nmax      269516.000000\nName: tweetid, dtype: float64"
     },
     "execution_count": 79,
     "metadata": {},
     "output_type": "execute_result"
    }
   ],
   "source": [
    "treated_users_tweets_stats.describe()"
   ],
   "metadata": {
    "collapsed": false,
    "pycharm": {
     "name": "#%%\n"
    }
   }
  },
  {
   "cell_type": "code",
   "execution_count": 86,
   "outputs": [
    {
     "name": "stderr",
     "output_type": "stream",
     "text": [
      "/tmp/ipykernel_776725/489325356.py:1: SettingWithCopyWarning: \n",
      "A value is trying to be set on a copy of a slice from a DataFrame.\n",
      "Try using .loc[row_indexer,col_indexer] = value instead\n",
      "\n",
      "See the caveats in the documentation: https://pandas.pydata.org/pandas-docs/stable/user_guide/indexing.html#returning-a-view-versus-a-copy\n",
      "  filtered_control_df['tweet_length'] = filtered_control_df['full_text'].apply(lambda x: len(x))\n",
      "/tmp/ipykernel_776725/489325356.py:2: SettingWithCopyWarning: \n",
      "A value is trying to be set on a copy of a slice from a DataFrame.\n",
      "Try using .loc[row_indexer,col_indexer] = value instead\n",
      "\n",
      "See the caveats in the documentation: https://pandas.pydata.org/pandas-docs/stable/user_guide/indexing.html#returning-a-view-versus-a-copy\n",
      "  filtered_treated_df['tweet_length'] = filtered_treated_df['tweet_text'].apply(lambda x: len(x))\n"
     ]
    }
   ],
   "source": [
    "filtered_control_df['tweet_length'] = filtered_control_df['full_text'].apply(lambda x: len(x))\n",
    "filtered_treated_df['tweet_length'] = filtered_treated_df['tweet_text'].apply(lambda x: len(x))\n"
   ],
   "metadata": {
    "collapsed": false,
    "pycharm": {
     "name": "#%%\n"
    }
   }
  },
  {
   "cell_type": "code",
   "execution_count": 91,
   "outputs": [
    {
     "data": {
      "text/plain": "count   4798582.000\nmean        134.328\nstd          43.131\nmin           1.000\n25%         136.000\n50%         140.000\n75%         140.000\nmax        1020.000\nName: tweet_length, dtype: float64"
     },
     "execution_count": 91,
     "metadata": {},
     "output_type": "execute_result"
    }
   ],
   "source": [
    "pd.set_option('display.float_format', lambda x: '%.3f' % x)\n",
    "filtered_treated_df['tweet_length'].describe()\n"
   ],
   "metadata": {
    "collapsed": false,
    "pycharm": {
     "name": "#%%\n"
    }
   }
  },
  {
   "cell_type": "code",
   "execution_count": 92,
   "outputs": [
    {
     "data": {
      "text/plain": "count   412469.000\nmean       122.225\nstd         38.091\nmin          1.000\n25%        108.000\n50%        139.000\n75%        140.000\nmax        986.000\nName: tweet_length, dtype: float64"
     },
     "execution_count": 92,
     "metadata": {},
     "output_type": "execute_result"
    }
   ],
   "source": [
    "filtered_control_df['tweet_length'].describe()\n"
   ],
   "metadata": {
    "collapsed": false,
    "pycharm": {
     "name": "#%%\n"
    }
   }
  },
  {
   "cell_type": "markdown",
   "source": [
    "#### Data Cleaning:\n",
    "- Removing mentions\n",
    "- Removing URLs, i.e., \"http:\" links\n",
    "- Removing Emojis\n",
    "- Removing hashtags keeping the text, i.e. the \"#\" sign\n"
   ],
   "metadata": {
    "collapsed": false,
    "pycharm": {
     "name": "#%% md\n"
    }
   }
  },
  {
   "cell_type": "code",
   "execution_count": 114,
   "outputs": [],
   "source": [
    "import re\n",
    "import emoji\n",
    "\n",
    "def cleaner(tweet):\n",
    "    tweet = re.sub(\"@[A-Za-z0-9]+\",\"\",tweet) #Remove @ sign\n",
    "    tweet = re.sub(r\"(?:\\@|http?\\://|https?\\://|www)\\S+\", \"\", tweet) #Remove http links\n",
    "    tweet = \" \".join(tweet.split())\n",
    "    tweet = emoji.replace_emoji(tweet, '') #Remove Emojis\n",
    "    tweet = tweet.replace(\"#\", \"\").replace(\"_\", \" \") #Remove hashtag sign but keep the text\n",
    "    return tweet\n"
   ],
   "metadata": {
    "collapsed": false,
    "pycharm": {
     "name": "#%%\n"
    }
   }
  },
  {
   "cell_type": "code",
   "execution_count": 115,
   "outputs": [
    {
     "name": "stderr",
     "output_type": "stream",
     "text": [
      "/tmp/ipykernel_776725/3447196453.py:1: SettingWithCopyWarning: \n",
      "A value is trying to be set on a copy of a slice from a DataFrame.\n",
      "Try using .loc[row_indexer,col_indexer] = value instead\n",
      "\n",
      "See the caveats in the documentation: https://pandas.pydata.org/pandas-docs/stable/user_guide/indexing.html#returning-a-view-versus-a-copy\n",
      "  filtered_control_df['full_text_cleaned'] = filtered_control_df['full_text'].apply(lambda x: cleaner(x))\n",
      "/tmp/ipykernel_776725/3447196453.py:2: SettingWithCopyWarning: \n",
      "A value is trying to be set on a copy of a slice from a DataFrame.\n",
      "Try using .loc[row_indexer,col_indexer] = value instead\n",
      "\n",
      "See the caveats in the documentation: https://pandas.pydata.org/pandas-docs/stable/user_guide/indexing.html#returning-a-view-versus-a-copy\n",
      "  filtered_treated_df['tweet_text_cleaned'] = filtered_treated_df['tweet_text'].apply(lambda x: cleaner(x))\n"
     ]
    }
   ],
   "source": [
    "filtered_control_df['full_text_cleaned'] = filtered_control_df['full_text'].apply(lambda x: cleaner(x))\n",
    "filtered_treated_df['tweet_text_cleaned'] = filtered_treated_df['tweet_text'].apply(lambda x: cleaner(x))\n"
   ],
   "metadata": {
    "collapsed": false,
    "pycharm": {
     "name": "#%%\n"
    }
   }
  },
  {
   "cell_type": "code",
   "execution_count": 116,
   "outputs": [
    {
     "data": {
      "text/plain": "            id                                          full_text  \\\n0  24148603702  RT @amoleiro: coincido: la aclaratoria de fide...   \n1  24148595306  @yghome ¿Fidel estaba en directo en TV? me lo ...   \n2  24148518366  RT @mrperozo: RT @OrlandoOchoa: Así es \"@amole...   \n3  24143912305  RT @Lady_Liberty: Patriots! #FollowFriday #tco...   \n4  24143826652  RT @blogsdecuba: Castro recula: ‘Es el capital...   \n\n               source lang                                               user  \\\n0  Twitter Web Client   es  {'location': 'USA', 'profile_image_url': 'http...   \n1  Twitter Web Client   es  {'location': 'USA', 'profile_image_url': 'http...   \n2  Twitter Web Client   es  {'location': 'USA', 'profile_image_url': 'http...   \n3  Twitter Web Client   lv  {'location': 'USA', 'profile_image_url': 'http...   \n4  Twitter Web Client   es  {'location': 'USA', 'profile_image_url': 'http...   \n\n   geo  coordinates place  in_reply_to_status_id in_reply_to_screen_name  \\\n0  NaN          NaN  None                    NaN                    None   \n1  NaN          NaN  None                    NaN                  ggohom   \n2  NaN          NaN  None                    NaN                    None   \n3  NaN          NaN  None                    NaN                    None   \n4  NaN          NaN  None                    NaN                    None   \n\n   in_reply_to_user_id                created_at  \\\n0                  NaN 2010-09-10 23:59:56+00:00   \n1         71024346.000 2010-09-10 23:59:48+00:00   \n2                  NaN 2010-09-10 23:58:38+00:00   \n3                  NaN 2010-09-10 22:48:44+00:00   \n4                  NaN 2010-09-10 22:47:23+00:00   \n\n                                            entities  \\\n0  {'annotations': [{'start': 42, 'end': 46, 'pro...   \n1  {'hashtags': [{'text': 'Cuba', 'indices': [76,...   \n2  {'annotations': [{'start': 79, 'end': 83, 'pro...   \n3  {'hashtags': [{'text': 'FollowFriday', 'indice...   \n4  {'annotations': [{'start': 17, 'end': 22, 'pro...   \n\n                                    retweeted_status extended_entities  \\\n0  {'id': '24147670831', 'full_text': 'coincido: ...               NaN   \n1                                                NaN               NaN   \n2  {'id': '24148373806', 'full_text': 'RT @Orland...               NaN   \n3  {'id': '24141870726', 'full_text': 'Patriots! ...               NaN   \n4  {'id': '24143748382', 'full_text': 'Castro rec...               NaN   \n\n  context_annotations    userid  \\\n0                 NaN  41929478   \n1                 NaN  41929478   \n2                 NaN  41929478   \n3                 NaN  41929478   \n4                 NaN  41929478   \n\n                                   full_text_cleaned  \n0  RT : coincido: la aclaratoria de fidel sobre e...  \n1  ¿Fidel estaba en directo en TV? me lo perdí, s...  \n2  RT : RT : Así es \": coincido: la aclaratoria d...  \n3        RT  Liberty: Patriots! FollowFriday tcot  D  \n4  RT : Castro recula: ‘Es el capitalismo el que ...  ",
      "text/html": "<div>\n<style scoped>\n    .dataframe tbody tr th:only-of-type {\n        vertical-align: middle;\n    }\n\n    .dataframe tbody tr th {\n        vertical-align: top;\n    }\n\n    .dataframe thead th {\n        text-align: right;\n    }\n</style>\n<table border=\"1\" class=\"dataframe\">\n  <thead>\n    <tr style=\"text-align: right;\">\n      <th></th>\n      <th>id</th>\n      <th>full_text</th>\n      <th>source</th>\n      <th>lang</th>\n      <th>user</th>\n      <th>geo</th>\n      <th>coordinates</th>\n      <th>place</th>\n      <th>in_reply_to_status_id</th>\n      <th>in_reply_to_screen_name</th>\n      <th>in_reply_to_user_id</th>\n      <th>created_at</th>\n      <th>entities</th>\n      <th>retweeted_status</th>\n      <th>extended_entities</th>\n      <th>context_annotations</th>\n      <th>userid</th>\n      <th>full_text_cleaned</th>\n    </tr>\n  </thead>\n  <tbody>\n    <tr>\n      <th>0</th>\n      <td>24148603702</td>\n      <td>RT @amoleiro: coincido: la aclaratoria de fide...</td>\n      <td>Twitter Web Client</td>\n      <td>es</td>\n      <td>{'location': 'USA', 'profile_image_url': 'http...</td>\n      <td>NaN</td>\n      <td>NaN</td>\n      <td>None</td>\n      <td>NaN</td>\n      <td>None</td>\n      <td>NaN</td>\n      <td>2010-09-10 23:59:56+00:00</td>\n      <td>{'annotations': [{'start': 42, 'end': 46, 'pro...</td>\n      <td>{'id': '24147670831', 'full_text': 'coincido: ...</td>\n      <td>NaN</td>\n      <td>NaN</td>\n      <td>41929478</td>\n      <td>RT : coincido: la aclaratoria de fidel sobre e...</td>\n    </tr>\n    <tr>\n      <th>1</th>\n      <td>24148595306</td>\n      <td>@yghome ¿Fidel estaba en directo en TV? me lo ...</td>\n      <td>Twitter Web Client</td>\n      <td>es</td>\n      <td>{'location': 'USA', 'profile_image_url': 'http...</td>\n      <td>NaN</td>\n      <td>NaN</td>\n      <td>None</td>\n      <td>NaN</td>\n      <td>ggohom</td>\n      <td>71024346.000</td>\n      <td>2010-09-10 23:59:48+00:00</td>\n      <td>{'hashtags': [{'text': 'Cuba', 'indices': [76,...</td>\n      <td>NaN</td>\n      <td>NaN</td>\n      <td>NaN</td>\n      <td>41929478</td>\n      <td>¿Fidel estaba en directo en TV? me lo perdí, s...</td>\n    </tr>\n    <tr>\n      <th>2</th>\n      <td>24148518366</td>\n      <td>RT @mrperozo: RT @OrlandoOchoa: Así es \"@amole...</td>\n      <td>Twitter Web Client</td>\n      <td>es</td>\n      <td>{'location': 'USA', 'profile_image_url': 'http...</td>\n      <td>NaN</td>\n      <td>NaN</td>\n      <td>None</td>\n      <td>NaN</td>\n      <td>None</td>\n      <td>NaN</td>\n      <td>2010-09-10 23:58:38+00:00</td>\n      <td>{'annotations': [{'start': 79, 'end': 83, 'pro...</td>\n      <td>{'id': '24148373806', 'full_text': 'RT @Orland...</td>\n      <td>NaN</td>\n      <td>NaN</td>\n      <td>41929478</td>\n      <td>RT : RT : Así es \": coincido: la aclaratoria d...</td>\n    </tr>\n    <tr>\n      <th>3</th>\n      <td>24143912305</td>\n      <td>RT @Lady_Liberty: Patriots! #FollowFriday #tco...</td>\n      <td>Twitter Web Client</td>\n      <td>lv</td>\n      <td>{'location': 'USA', 'profile_image_url': 'http...</td>\n      <td>NaN</td>\n      <td>NaN</td>\n      <td>None</td>\n      <td>NaN</td>\n      <td>None</td>\n      <td>NaN</td>\n      <td>2010-09-10 22:48:44+00:00</td>\n      <td>{'hashtags': [{'text': 'FollowFriday', 'indice...</td>\n      <td>{'id': '24141870726', 'full_text': 'Patriots! ...</td>\n      <td>NaN</td>\n      <td>NaN</td>\n      <td>41929478</td>\n      <td>RT  Liberty: Patriots! FollowFriday tcot  D</td>\n    </tr>\n    <tr>\n      <th>4</th>\n      <td>24143826652</td>\n      <td>RT @blogsdecuba: Castro recula: ‘Es el capital...</td>\n      <td>Twitter Web Client</td>\n      <td>es</td>\n      <td>{'location': 'USA', 'profile_image_url': 'http...</td>\n      <td>NaN</td>\n      <td>NaN</td>\n      <td>None</td>\n      <td>NaN</td>\n      <td>None</td>\n      <td>NaN</td>\n      <td>2010-09-10 22:47:23+00:00</td>\n      <td>{'annotations': [{'start': 17, 'end': 22, 'pro...</td>\n      <td>{'id': '24143748382', 'full_text': 'Castro rec...</td>\n      <td>NaN</td>\n      <td>NaN</td>\n      <td>41929478</td>\n      <td>RT : Castro recula: ‘Es el capitalismo el que ...</td>\n    </tr>\n  </tbody>\n</table>\n</div>"
     },
     "execution_count": 116,
     "metadata": {},
     "output_type": "execute_result"
    }
   ],
   "source": [
    "filtered_control_df.head()\n"
   ],
   "metadata": {
    "collapsed": false,
    "pycharm": {
     "name": "#%%\n"
    }
   }
  },
  {
   "cell_type": "code",
   "execution_count": 117,
   "outputs": [
    {
     "data": {
      "text/plain": "              tweetid     userid           user_display_name user_screen_name  \\\n0  489569193772466176  543803256  Fernando Pérez Hernández🇨🇺  FernandoPerezHd   \n1  420612879717789696  543803256  Fernando Pérez Hernández🇨🇺  FernandoPerezHd   \n2  368409820048916481  543803256  Fernando Pérez Hernández🇨🇺  FernandoPerezHd   \n3  419160883110359040  543803256  Fernando Pérez Hernández🇨🇺  FernandoPerezHd   \n4  642077163173347329  543803256  Fernando Pérez Hernández🇨🇺  FernandoPerezHd   \n\n  user_reported_location                           user_profile_description  \\\n0             Cienfuegos  No soy Político ni pretendo convertirme en un ...   \n1             Cienfuegos  No soy Político ni pretendo convertirme en un ...   \n2             Cienfuegos  No soy Político ni pretendo convertirme en un ...   \n3             Cienfuegos  No soy Político ni pretendo convertirme en un ...   \n4             Cienfuegos  No soy Político ni pretendo convertirme en un ...   \n\n  user_profile_url  follower_count  following_count account_creation_date  \\\n0              NaN            3971             3540            2012-04-02   \n1              NaN            3971             3540            2012-04-02   \n2              NaN            3971             3540            2012-04-02   \n3              NaN            3971             3540            2012-04-02   \n4              NaN            3971             3540            2012-04-02   \n\n   ... latitude longitude quote_count reply_count like_count  retweet_count  \\\n0  ...   absent    absent           0           0          0              0   \n1  ...   absent    absent           0           0          0              0   \n2  ...   absent    absent           0           0          0              0   \n3  ...   absent    absent           0           0          0              0   \n4  ...   absent    absent           0           0          0              0   \n\n                                      hashtags  \\\n0  ['Cuba', 'CubaVa', 'CubaSi', 'YoaniFraude']   \n1                 ['Cuba', 'CubaVa', 'CubaSi']   \n2                 ['Cuba', 'CubaVa', 'CubaSi']   \n3                 ['Cuba', 'CubaVa', 'CubaSi']   \n4    ['cuba', 'YoSoyCuba', 'PensandoAmericas']   \n\n                             urls  user_mentions  \\\n0   ['http://ln.is/bit.ly/0WlGy']    [587848359]   \n1  ['http://tinyurl.com/n3yqs5u']    [587848359]   \n2       ['http://bit.ly/1bDB6Lj']    [587848359]   \n3   ['http://ln.is/bit.ly/Z3ATI']    [587848359]   \n4       ['http://bit.ly/1Og4ZX3']    [602879083]   \n\n                                  tweet_text_cleaned  \n0  RT : Cuba CubaVa Alemania expulsa al jefe de I...  \n1  RT : Cuba CubaVa 2014… más revolución, más fem...  \n2  RT : Cuba CubaVa Presidente checo anuncia posi...  \n3  RT : Cuba CubaVa Participa en el tuitazo mundi...  \n4  RT : cuba YoSoyCuba Expondrá Esterio Sergura e...  \n\n[5 rows x 31 columns]",
      "text/html": "<div>\n<style scoped>\n    .dataframe tbody tr th:only-of-type {\n        vertical-align: middle;\n    }\n\n    .dataframe tbody tr th {\n        vertical-align: top;\n    }\n\n    .dataframe thead th {\n        text-align: right;\n    }\n</style>\n<table border=\"1\" class=\"dataframe\">\n  <thead>\n    <tr style=\"text-align: right;\">\n      <th></th>\n      <th>tweetid</th>\n      <th>userid</th>\n      <th>user_display_name</th>\n      <th>user_screen_name</th>\n      <th>user_reported_location</th>\n      <th>user_profile_description</th>\n      <th>user_profile_url</th>\n      <th>follower_count</th>\n      <th>following_count</th>\n      <th>account_creation_date</th>\n      <th>...</th>\n      <th>latitude</th>\n      <th>longitude</th>\n      <th>quote_count</th>\n      <th>reply_count</th>\n      <th>like_count</th>\n      <th>retweet_count</th>\n      <th>hashtags</th>\n      <th>urls</th>\n      <th>user_mentions</th>\n      <th>tweet_text_cleaned</th>\n    </tr>\n  </thead>\n  <tbody>\n    <tr>\n      <th>0</th>\n      <td>489569193772466176</td>\n      <td>543803256</td>\n      <td>Fernando Pérez Hernández🇨🇺</td>\n      <td>FernandoPerezHd</td>\n      <td>Cienfuegos</td>\n      <td>No soy Político ni pretendo convertirme en un ...</td>\n      <td>NaN</td>\n      <td>3971</td>\n      <td>3540</td>\n      <td>2012-04-02</td>\n      <td>...</td>\n      <td>absent</td>\n      <td>absent</td>\n      <td>0</td>\n      <td>0</td>\n      <td>0</td>\n      <td>0</td>\n      <td>['Cuba', 'CubaVa', 'CubaSi', 'YoaniFraude']</td>\n      <td>['http://ln.is/bit.ly/0WlGy']</td>\n      <td>[587848359]</td>\n      <td>RT : Cuba CubaVa Alemania expulsa al jefe de I...</td>\n    </tr>\n    <tr>\n      <th>1</th>\n      <td>420612879717789696</td>\n      <td>543803256</td>\n      <td>Fernando Pérez Hernández🇨🇺</td>\n      <td>FernandoPerezHd</td>\n      <td>Cienfuegos</td>\n      <td>No soy Político ni pretendo convertirme en un ...</td>\n      <td>NaN</td>\n      <td>3971</td>\n      <td>3540</td>\n      <td>2012-04-02</td>\n      <td>...</td>\n      <td>absent</td>\n      <td>absent</td>\n      <td>0</td>\n      <td>0</td>\n      <td>0</td>\n      <td>0</td>\n      <td>['Cuba', 'CubaVa', 'CubaSi']</td>\n      <td>['http://tinyurl.com/n3yqs5u']</td>\n      <td>[587848359]</td>\n      <td>RT : Cuba CubaVa 2014… más revolución, más fem...</td>\n    </tr>\n    <tr>\n      <th>2</th>\n      <td>368409820048916481</td>\n      <td>543803256</td>\n      <td>Fernando Pérez Hernández🇨🇺</td>\n      <td>FernandoPerezHd</td>\n      <td>Cienfuegos</td>\n      <td>No soy Político ni pretendo convertirme en un ...</td>\n      <td>NaN</td>\n      <td>3971</td>\n      <td>3540</td>\n      <td>2012-04-02</td>\n      <td>...</td>\n      <td>absent</td>\n      <td>absent</td>\n      <td>0</td>\n      <td>0</td>\n      <td>0</td>\n      <td>0</td>\n      <td>['Cuba', 'CubaVa', 'CubaSi']</td>\n      <td>['http://bit.ly/1bDB6Lj']</td>\n      <td>[587848359]</td>\n      <td>RT : Cuba CubaVa Presidente checo anuncia posi...</td>\n    </tr>\n    <tr>\n      <th>3</th>\n      <td>419160883110359040</td>\n      <td>543803256</td>\n      <td>Fernando Pérez Hernández🇨🇺</td>\n      <td>FernandoPerezHd</td>\n      <td>Cienfuegos</td>\n      <td>No soy Político ni pretendo convertirme en un ...</td>\n      <td>NaN</td>\n      <td>3971</td>\n      <td>3540</td>\n      <td>2012-04-02</td>\n      <td>...</td>\n      <td>absent</td>\n      <td>absent</td>\n      <td>0</td>\n      <td>0</td>\n      <td>0</td>\n      <td>0</td>\n      <td>['Cuba', 'CubaVa', 'CubaSi']</td>\n      <td>['http://ln.is/bit.ly/Z3ATI']</td>\n      <td>[587848359]</td>\n      <td>RT : Cuba CubaVa Participa en el tuitazo mundi...</td>\n    </tr>\n    <tr>\n      <th>4</th>\n      <td>642077163173347329</td>\n      <td>543803256</td>\n      <td>Fernando Pérez Hernández🇨🇺</td>\n      <td>FernandoPerezHd</td>\n      <td>Cienfuegos</td>\n      <td>No soy Político ni pretendo convertirme en un ...</td>\n      <td>NaN</td>\n      <td>3971</td>\n      <td>3540</td>\n      <td>2012-04-02</td>\n      <td>...</td>\n      <td>absent</td>\n      <td>absent</td>\n      <td>0</td>\n      <td>0</td>\n      <td>0</td>\n      <td>0</td>\n      <td>['cuba', 'YoSoyCuba', 'PensandoAmericas']</td>\n      <td>['http://bit.ly/1Og4ZX3']</td>\n      <td>[602879083]</td>\n      <td>RT : cuba YoSoyCuba Expondrá Esterio Sergura e...</td>\n    </tr>\n  </tbody>\n</table>\n<p>5 rows × 31 columns</p>\n</div>"
     },
     "execution_count": 117,
     "metadata": {},
     "output_type": "execute_result"
    }
   ],
   "source": [
    "filtered_treated_df.head()\n"
   ],
   "metadata": {
    "collapsed": false,
    "pycharm": {
     "name": "#%%\n"
    }
   }
  },
  {
   "cell_type": "code",
   "execution_count": 122,
   "outputs": [
    {
     "name": "stderr",
     "output_type": "stream",
     "text": [
      "/tmp/ipykernel_776725/2726823249.py:2: SettingWithCopyWarning: \n",
      "A value is trying to be set on a copy of a slice from a DataFrame.\n",
      "Try using .loc[row_indexer,col_indexer] = value instead\n",
      "\n",
      "See the caveats in the documentation: https://pandas.pydata.org/pandas-docs/stable/user_guide/indexing.html#returning-a-view-versus-a-copy\n",
      "  filtered_control_df['tweet_length_cleaned'] = filtered_control_df['full_text_cleaned'].apply(lambda x: len(x))\n",
      "/tmp/ipykernel_776725/2726823249.py:3: SettingWithCopyWarning: \n",
      "A value is trying to be set on a copy of a slice from a DataFrame.\n",
      "Try using .loc[row_indexer,col_indexer] = value instead\n",
      "\n",
      "See the caveats in the documentation: https://pandas.pydata.org/pandas-docs/stable/user_guide/indexing.html#returning-a-view-versus-a-copy\n",
      "  filtered_treated_df['tweet_length_cleaned'] = filtered_treated_df['tweet_text_cleaned'].apply(lambda x: len(x))\n"
     ]
    }
   ],
   "source": [
    "# Remove tweets with length < 5\n",
    "filtered_control_df['tweet_length_cleaned'] = filtered_control_df['full_text_cleaned'].apply(lambda x: len(x))\n",
    "filtered_treated_df['tweet_length_cleaned'] = filtered_treated_df['tweet_text_cleaned'].apply(lambda x: len(x))\n",
    "\n",
    "filtered_control_df_after_cleaning = filtered_control_df[filtered_control_df['tweet_length_cleaned'] > 5]\n",
    "filtered_treated_df_after_cleaning = filtered_treated_df[filtered_treated_df['tweet_length_cleaned'] > 5]\n"
   ],
   "metadata": {
    "collapsed": false,
    "pycharm": {
     "name": "#%%\n"
    }
   }
  },
  {
   "cell_type": "code",
   "execution_count": 123,
   "outputs": [],
   "source": [
    "control_users_tweets = filtered_control_df_after_cleaning.userid.unique()\n",
    "treated_users_tweets = filtered_treated_df_after_cleaning.userid.unique()\n",
    "\n",
    "assert len(np.union1d(control_users_tweets, treated_users_tweets)) == len(valid_user_ids), len(valid_user_ids)-len(np.union1d(control_users_tweets, treated_users_tweets))\n"
   ],
   "metadata": {
    "collapsed": false,
    "pycharm": {
     "name": "#%%\n"
    }
   }
  },
  {
   "cell_type": "code",
   "execution_count": 129,
   "outputs": [
    {
     "data": {
      "text/plain": "count   4377.000\nmean      93.077\nstd      154.417\nmin       18.000\n25%       47.000\n50%       85.000\n75%       99.000\nmax     6396.000\nName: id, dtype: float64"
     },
     "execution_count": 129,
     "metadata": {},
     "output_type": "execute_result"
    }
   ],
   "source": [
    "filtered_control_df_after_cleaning.groupby('userid').count()['id'].describe()\n"
   ],
   "metadata": {
    "collapsed": false,
    "pycharm": {
     "name": "#%%\n"
    }
   }
  },
  {
   "cell_type": "code",
   "execution_count": 130,
   "outputs": [
    {
     "data": {
      "text/plain": "count      429.000\nmean     11082.014\nstd      25913.050\nmin         28.000\n25%        812.000\n50%       3785.000\n75%      10577.000\nmax     268616.000\nName: tweetid, dtype: float64"
     },
     "execution_count": 130,
     "metadata": {},
     "output_type": "execute_result"
    }
   ],
   "source": [
    "filtered_treated_df_after_cleaning.groupby('userid').count()['tweetid'].describe()\n"
   ],
   "metadata": {
    "collapsed": false,
    "pycharm": {
     "name": "#%%\n"
    }
   }
  },
  {
   "cell_type": "code",
   "execution_count": 126,
   "outputs": [
    {
     "data": {
      "text/plain": "count   407396.000\nmean        93.929\nstd         35.519\nmin          6.000\n25%         70.000\n50%        102.000\n75%        124.000\nmax        482.000\nName: tweet_length_cleaned, dtype: float64"
     },
     "execution_count": 126,
     "metadata": {},
     "output_type": "execute_result"
    }
   ],
   "source": [
    "filtered_control_df_after_cleaning['tweet_length_cleaned'].describe()\n"
   ],
   "metadata": {
    "collapsed": false,
    "pycharm": {
     "name": "#%%\n"
    }
   }
  },
  {
   "cell_type": "code",
   "execution_count": 127,
   "outputs": [
    {
     "data": {
      "text/plain": "count   4754184.000\nmean        100.104\nstd          41.242\nmin           6.000\n25%          81.000\n50%         110.000\n75%         123.000\nmax         380.000\nName: tweet_length_cleaned, dtype: float64"
     },
     "execution_count": 127,
     "metadata": {},
     "output_type": "execute_result"
    }
   ],
   "source": [
    "filtered_treated_df_after_cleaning['tweet_length_cleaned'].describe()"
   ],
   "metadata": {
    "collapsed": false,
    "pycharm": {
     "name": "#%%\n"
    }
   }
  },
  {
   "cell_type": "markdown",
   "source": [
    "#### Analysis by language"
   ],
   "metadata": {
    "collapsed": false,
    "pycharm": {
     "name": "#%% md\n"
    }
   }
  },
  {
   "cell_type": "code",
   "execution_count": 162,
   "outputs": [
    {
     "data": {
      "text/plain": "                  count  perc\ntweet_language               \nes              4353175 0.935\nen               157291 0.034\nund               89701 0.019\npt                26498 0.006\nit                 6771 0.001\nfr                 4046 0.001\nde                 2883 0.001\nca                 2707 0.001\nru                 1596 0.000\nbn                 1297 0.000\nro                 1135 0.000\nin                  994 0.000\ntl                  876 0.000\ncs                  742 0.000\nar                  725 0.000\nda                  589 0.000\nhu                  469 0.000\neu                  453 0.000\nht                  445 0.000\net                  416 0.000\npl                  355 0.000\ntr                  318 0.000\nsk                  309 0.000\nlt                  301 0.000\nvi                  242 0.000\ncy                  224 0.000\nja                  215 0.000\nnl                  210 0.000\nsl                  161 0.000\nkn                  155 0.000\nfi                  144 0.000\nlv                  119 0.000\nid                  109 0.000\nzh                  103 0.000\nsv                   79 0.000\nno                   77 0.000\nis                   54 0.000\nbs                   38 0.000\nuk                   28 0.000\nhi                   28 0.000\nbg                   25 0.000\nko                   21 0.000\nhr                   18 0.000\nfa                   17 0.000\nur                   10 0.000\nth                    7 0.000\nel                    5 0.000\nta                    4 0.000\nsr                    2 0.000\nte                    1 0.000\niw                    1 0.000\ngu                    1 0.000",
      "text/html": "<div>\n<style scoped>\n    .dataframe tbody tr th:only-of-type {\n        vertical-align: middle;\n    }\n\n    .dataframe tbody tr th {\n        vertical-align: top;\n    }\n\n    .dataframe thead th {\n        text-align: right;\n    }\n</style>\n<table border=\"1\" class=\"dataframe\">\n  <thead>\n    <tr style=\"text-align: right;\">\n      <th></th>\n      <th>count</th>\n      <th>perc</th>\n    </tr>\n    <tr>\n      <th>tweet_language</th>\n      <th></th>\n      <th></th>\n    </tr>\n  </thead>\n  <tbody>\n    <tr>\n      <th>es</th>\n      <td>4353175</td>\n      <td>0.935</td>\n    </tr>\n    <tr>\n      <th>en</th>\n      <td>157291</td>\n      <td>0.034</td>\n    </tr>\n    <tr>\n      <th>und</th>\n      <td>89701</td>\n      <td>0.019</td>\n    </tr>\n    <tr>\n      <th>pt</th>\n      <td>26498</td>\n      <td>0.006</td>\n    </tr>\n    <tr>\n      <th>it</th>\n      <td>6771</td>\n      <td>0.001</td>\n    </tr>\n    <tr>\n      <th>fr</th>\n      <td>4046</td>\n      <td>0.001</td>\n    </tr>\n    <tr>\n      <th>de</th>\n      <td>2883</td>\n      <td>0.001</td>\n    </tr>\n    <tr>\n      <th>ca</th>\n      <td>2707</td>\n      <td>0.001</td>\n    </tr>\n    <tr>\n      <th>ru</th>\n      <td>1596</td>\n      <td>0.000</td>\n    </tr>\n    <tr>\n      <th>bn</th>\n      <td>1297</td>\n      <td>0.000</td>\n    </tr>\n    <tr>\n      <th>ro</th>\n      <td>1135</td>\n      <td>0.000</td>\n    </tr>\n    <tr>\n      <th>in</th>\n      <td>994</td>\n      <td>0.000</td>\n    </tr>\n    <tr>\n      <th>tl</th>\n      <td>876</td>\n      <td>0.000</td>\n    </tr>\n    <tr>\n      <th>cs</th>\n      <td>742</td>\n      <td>0.000</td>\n    </tr>\n    <tr>\n      <th>ar</th>\n      <td>725</td>\n      <td>0.000</td>\n    </tr>\n    <tr>\n      <th>da</th>\n      <td>589</td>\n      <td>0.000</td>\n    </tr>\n    <tr>\n      <th>hu</th>\n      <td>469</td>\n      <td>0.000</td>\n    </tr>\n    <tr>\n      <th>eu</th>\n      <td>453</td>\n      <td>0.000</td>\n    </tr>\n    <tr>\n      <th>ht</th>\n      <td>445</td>\n      <td>0.000</td>\n    </tr>\n    <tr>\n      <th>et</th>\n      <td>416</td>\n      <td>0.000</td>\n    </tr>\n    <tr>\n      <th>pl</th>\n      <td>355</td>\n      <td>0.000</td>\n    </tr>\n    <tr>\n      <th>tr</th>\n      <td>318</td>\n      <td>0.000</td>\n    </tr>\n    <tr>\n      <th>sk</th>\n      <td>309</td>\n      <td>0.000</td>\n    </tr>\n    <tr>\n      <th>lt</th>\n      <td>301</td>\n      <td>0.000</td>\n    </tr>\n    <tr>\n      <th>vi</th>\n      <td>242</td>\n      <td>0.000</td>\n    </tr>\n    <tr>\n      <th>cy</th>\n      <td>224</td>\n      <td>0.000</td>\n    </tr>\n    <tr>\n      <th>ja</th>\n      <td>215</td>\n      <td>0.000</td>\n    </tr>\n    <tr>\n      <th>nl</th>\n      <td>210</td>\n      <td>0.000</td>\n    </tr>\n    <tr>\n      <th>sl</th>\n      <td>161</td>\n      <td>0.000</td>\n    </tr>\n    <tr>\n      <th>kn</th>\n      <td>155</td>\n      <td>0.000</td>\n    </tr>\n    <tr>\n      <th>fi</th>\n      <td>144</td>\n      <td>0.000</td>\n    </tr>\n    <tr>\n      <th>lv</th>\n      <td>119</td>\n      <td>0.000</td>\n    </tr>\n    <tr>\n      <th>id</th>\n      <td>109</td>\n      <td>0.000</td>\n    </tr>\n    <tr>\n      <th>zh</th>\n      <td>103</td>\n      <td>0.000</td>\n    </tr>\n    <tr>\n      <th>sv</th>\n      <td>79</td>\n      <td>0.000</td>\n    </tr>\n    <tr>\n      <th>no</th>\n      <td>77</td>\n      <td>0.000</td>\n    </tr>\n    <tr>\n      <th>is</th>\n      <td>54</td>\n      <td>0.000</td>\n    </tr>\n    <tr>\n      <th>bs</th>\n      <td>38</td>\n      <td>0.000</td>\n    </tr>\n    <tr>\n      <th>uk</th>\n      <td>28</td>\n      <td>0.000</td>\n    </tr>\n    <tr>\n      <th>hi</th>\n      <td>28</td>\n      <td>0.000</td>\n    </tr>\n    <tr>\n      <th>bg</th>\n      <td>25</td>\n      <td>0.000</td>\n    </tr>\n    <tr>\n      <th>ko</th>\n      <td>21</td>\n      <td>0.000</td>\n    </tr>\n    <tr>\n      <th>hr</th>\n      <td>18</td>\n      <td>0.000</td>\n    </tr>\n    <tr>\n      <th>fa</th>\n      <td>17</td>\n      <td>0.000</td>\n    </tr>\n    <tr>\n      <th>ur</th>\n      <td>10</td>\n      <td>0.000</td>\n    </tr>\n    <tr>\n      <th>th</th>\n      <td>7</td>\n      <td>0.000</td>\n    </tr>\n    <tr>\n      <th>el</th>\n      <td>5</td>\n      <td>0.000</td>\n    </tr>\n    <tr>\n      <th>ta</th>\n      <td>4</td>\n      <td>0.000</td>\n    </tr>\n    <tr>\n      <th>sr</th>\n      <td>2</td>\n      <td>0.000</td>\n    </tr>\n    <tr>\n      <th>te</th>\n      <td>1</td>\n      <td>0.000</td>\n    </tr>\n    <tr>\n      <th>iw</th>\n      <td>1</td>\n      <td>0.000</td>\n    </tr>\n    <tr>\n      <th>gu</th>\n      <td>1</td>\n      <td>0.000</td>\n    </tr>\n  </tbody>\n</table>\n</div>"
     },
     "execution_count": 162,
     "metadata": {},
     "output_type": "execute_result"
    }
   ],
   "source": [
    "abs_occurrence_lang = filtered_treated_df_after_cleaning['tweet_language'].value_counts()\n",
    "rel_perc_lang = abs_occurrence_lang / filtered_treated_df_after_cleaning['tweet_language'].value_counts().sum()\n",
    "rel_perc_lang = rel_perc_lang.rename('perc')\n",
    "pd.concat([abs_occurrence_lang, rel_perc_lang], axis=1)\n"
   ],
   "metadata": {
    "collapsed": false,
    "pycharm": {
     "name": "#%%\n"
    }
   }
  },
  {
   "cell_type": "code",
   "execution_count": 163,
   "outputs": [
    {
     "data": {
      "text/plain": "       count  perc\nlang              \nes    330795 0.812\nen     47215 0.116\nund    11685 0.029\npt      5477 0.013\nth      1808 0.004\nko      1764 0.004\nca      1353 0.003\nfr      1273 0.003\nin      1166 0.003\nja      1111 0.003\nit       763 0.002\nar       625 0.002\ntl       314 0.001\nde       314 0.001\net       185 0.000\ntr       183 0.000\nht       177 0.000\nro       147 0.000\neu       139 0.000\nnl        96 0.000\nvi        94 0.000\nda        90 0.000\ncy        79 0.000\nru        76 0.000\nfi        62 0.000\ncs        61 0.000\npl        59 0.000\nsv        56 0.000\nlt        44 0.000\nhu        32 0.000\nno        32 0.000\nzh        23 0.000\nsl        22 0.000\nlv        13 0.000\nis        12 0.000\nhi        10 0.000\nel         9 0.000\nbn         8 0.000\nuk         5 0.000\nfa         5 0.000\niw         5 0.000\nne         4 0.000\nur         2 0.000\nsr         1 0.000\nbg         1 0.000\nkn         1 0.000",
      "text/html": "<div>\n<style scoped>\n    .dataframe tbody tr th:only-of-type {\n        vertical-align: middle;\n    }\n\n    .dataframe tbody tr th {\n        vertical-align: top;\n    }\n\n    .dataframe thead th {\n        text-align: right;\n    }\n</style>\n<table border=\"1\" class=\"dataframe\">\n  <thead>\n    <tr style=\"text-align: right;\">\n      <th></th>\n      <th>count</th>\n      <th>perc</th>\n    </tr>\n    <tr>\n      <th>lang</th>\n      <th></th>\n      <th></th>\n    </tr>\n  </thead>\n  <tbody>\n    <tr>\n      <th>es</th>\n      <td>330795</td>\n      <td>0.812</td>\n    </tr>\n    <tr>\n      <th>en</th>\n      <td>47215</td>\n      <td>0.116</td>\n    </tr>\n    <tr>\n      <th>und</th>\n      <td>11685</td>\n      <td>0.029</td>\n    </tr>\n    <tr>\n      <th>pt</th>\n      <td>5477</td>\n      <td>0.013</td>\n    </tr>\n    <tr>\n      <th>th</th>\n      <td>1808</td>\n      <td>0.004</td>\n    </tr>\n    <tr>\n      <th>ko</th>\n      <td>1764</td>\n      <td>0.004</td>\n    </tr>\n    <tr>\n      <th>ca</th>\n      <td>1353</td>\n      <td>0.003</td>\n    </tr>\n    <tr>\n      <th>fr</th>\n      <td>1273</td>\n      <td>0.003</td>\n    </tr>\n    <tr>\n      <th>in</th>\n      <td>1166</td>\n      <td>0.003</td>\n    </tr>\n    <tr>\n      <th>ja</th>\n      <td>1111</td>\n      <td>0.003</td>\n    </tr>\n    <tr>\n      <th>it</th>\n      <td>763</td>\n      <td>0.002</td>\n    </tr>\n    <tr>\n      <th>ar</th>\n      <td>625</td>\n      <td>0.002</td>\n    </tr>\n    <tr>\n      <th>tl</th>\n      <td>314</td>\n      <td>0.001</td>\n    </tr>\n    <tr>\n      <th>de</th>\n      <td>314</td>\n      <td>0.001</td>\n    </tr>\n    <tr>\n      <th>et</th>\n      <td>185</td>\n      <td>0.000</td>\n    </tr>\n    <tr>\n      <th>tr</th>\n      <td>183</td>\n      <td>0.000</td>\n    </tr>\n    <tr>\n      <th>ht</th>\n      <td>177</td>\n      <td>0.000</td>\n    </tr>\n    <tr>\n      <th>ro</th>\n      <td>147</td>\n      <td>0.000</td>\n    </tr>\n    <tr>\n      <th>eu</th>\n      <td>139</td>\n      <td>0.000</td>\n    </tr>\n    <tr>\n      <th>nl</th>\n      <td>96</td>\n      <td>0.000</td>\n    </tr>\n    <tr>\n      <th>vi</th>\n      <td>94</td>\n      <td>0.000</td>\n    </tr>\n    <tr>\n      <th>da</th>\n      <td>90</td>\n      <td>0.000</td>\n    </tr>\n    <tr>\n      <th>cy</th>\n      <td>79</td>\n      <td>0.000</td>\n    </tr>\n    <tr>\n      <th>ru</th>\n      <td>76</td>\n      <td>0.000</td>\n    </tr>\n    <tr>\n      <th>fi</th>\n      <td>62</td>\n      <td>0.000</td>\n    </tr>\n    <tr>\n      <th>cs</th>\n      <td>61</td>\n      <td>0.000</td>\n    </tr>\n    <tr>\n      <th>pl</th>\n      <td>59</td>\n      <td>0.000</td>\n    </tr>\n    <tr>\n      <th>sv</th>\n      <td>56</td>\n      <td>0.000</td>\n    </tr>\n    <tr>\n      <th>lt</th>\n      <td>44</td>\n      <td>0.000</td>\n    </tr>\n    <tr>\n      <th>hu</th>\n      <td>32</td>\n      <td>0.000</td>\n    </tr>\n    <tr>\n      <th>no</th>\n      <td>32</td>\n      <td>0.000</td>\n    </tr>\n    <tr>\n      <th>zh</th>\n      <td>23</td>\n      <td>0.000</td>\n    </tr>\n    <tr>\n      <th>sl</th>\n      <td>22</td>\n      <td>0.000</td>\n    </tr>\n    <tr>\n      <th>lv</th>\n      <td>13</td>\n      <td>0.000</td>\n    </tr>\n    <tr>\n      <th>is</th>\n      <td>12</td>\n      <td>0.000</td>\n    </tr>\n    <tr>\n      <th>hi</th>\n      <td>10</td>\n      <td>0.000</td>\n    </tr>\n    <tr>\n      <th>el</th>\n      <td>9</td>\n      <td>0.000</td>\n    </tr>\n    <tr>\n      <th>bn</th>\n      <td>8</td>\n      <td>0.000</td>\n    </tr>\n    <tr>\n      <th>uk</th>\n      <td>5</td>\n      <td>0.000</td>\n    </tr>\n    <tr>\n      <th>fa</th>\n      <td>5</td>\n      <td>0.000</td>\n    </tr>\n    <tr>\n      <th>iw</th>\n      <td>5</td>\n      <td>0.000</td>\n    </tr>\n    <tr>\n      <th>ne</th>\n      <td>4</td>\n      <td>0.000</td>\n    </tr>\n    <tr>\n      <th>ur</th>\n      <td>2</td>\n      <td>0.000</td>\n    </tr>\n    <tr>\n      <th>sr</th>\n      <td>1</td>\n      <td>0.000</td>\n    </tr>\n    <tr>\n      <th>bg</th>\n      <td>1</td>\n      <td>0.000</td>\n    </tr>\n    <tr>\n      <th>kn</th>\n      <td>1</td>\n      <td>0.000</td>\n    </tr>\n  </tbody>\n</table>\n</div>"
     },
     "execution_count": 163,
     "metadata": {},
     "output_type": "execute_result"
    }
   ],
   "source": [
    "abs_occurrence_lang = filtered_control_df_after_cleaning['lang'].value_counts()\n",
    "rel_perc_lang = abs_occurrence_lang / filtered_control_df_after_cleaning['lang'].value_counts().sum()\n",
    "rel_perc_lang = rel_perc_lang.rename('perc')\n",
    "pd.concat([abs_occurrence_lang, rel_perc_lang], axis=1)\n"
   ],
   "metadata": {
    "collapsed": false,
    "pycharm": {
     "name": "#%%\n"
    }
   }
  },
  {
   "cell_type": "markdown",
   "source": [
    "# Using XLM-Roberta to embed each tweet"
   ],
   "metadata": {
    "collapsed": false,
    "pycharm": {
     "name": "#%% md\n"
    }
   }
  },
  {
   "cell_type": "code",
   "execution_count": 168,
   "outputs": [],
   "source": [
    "from tqdm.notebook import tqdm"
   ],
   "metadata": {
    "collapsed": false,
    "pycharm": {
     "name": "#%%\n"
    }
   }
  },
  {
   "cell_type": "code",
   "execution_count": 175,
   "outputs": [],
   "source": [
    "treated_users_embeddings = []\n",
    "tweet_text_colname = \"full_text_cleaned\"  # \"tweet_text_cleaned\"\n",
    "for userid in control_users_tweets:\n",
    "    tweets_text = filtered_control_df_after_cleaning[filtered_control_df_after_cleaning['userid'] == userid][tweet_text_colname]\n",
    "    break\n"
   ],
   "metadata": {
    "collapsed": false,
    "pycharm": {
     "name": "#%%\n"
    }
   }
  },
  {
   "cell_type": "code",
   "execution_count": 197,
   "outputs": [
    {
     "data": {
      "text/plain": "XLMRobertaModel(\n  (embeddings): XLMRobertaEmbeddings(\n    (word_embeddings): Embedding(250002, 1024, padding_idx=1)\n    (position_embeddings): Embedding(514, 1024, padding_idx=1)\n    (token_type_embeddings): Embedding(1, 1024)\n    (LayerNorm): LayerNorm((1024,), eps=1e-05, elementwise_affine=True)\n    (dropout): Dropout(p=0.1, inplace=False)\n  )\n  (encoder): XLMRobertaEncoder(\n    (layer): ModuleList(\n      (0-23): 24 x XLMRobertaLayer(\n        (attention): XLMRobertaAttention(\n          (self): XLMRobertaSelfAttention(\n            (query): Linear(in_features=1024, out_features=1024, bias=True)\n            (key): Linear(in_features=1024, out_features=1024, bias=True)\n            (value): Linear(in_features=1024, out_features=1024, bias=True)\n            (dropout): Dropout(p=0.1, inplace=False)\n          )\n          (output): XLMRobertaSelfOutput(\n            (dense): Linear(in_features=1024, out_features=1024, bias=True)\n            (LayerNorm): LayerNorm((1024,), eps=1e-05, elementwise_affine=True)\n            (dropout): Dropout(p=0.1, inplace=False)\n          )\n        )\n        (intermediate): XLMRobertaIntermediate(\n          (dense): Linear(in_features=1024, out_features=4096, bias=True)\n          (intermediate_act_fn): GELUActivation()\n        )\n        (output): XLMRobertaOutput(\n          (dense): Linear(in_features=4096, out_features=1024, bias=True)\n          (LayerNorm): LayerNorm((1024,), eps=1e-05, elementwise_affine=True)\n          (dropout): Dropout(p=0.1, inplace=False)\n        )\n      )\n    )\n  )\n  (pooler): XLMRobertaPooler(\n    (dense): Linear(in_features=1024, out_features=1024, bias=True)\n    (activation): Tanh()\n  )\n)"
     },
     "execution_count": 197,
     "metadata": {},
     "output_type": "execute_result"
    }
   ],
   "source": [
    "import os\n",
    "os.environ['CUDA_VISIBLE_DEVICES'] = '2'\n",
    "import torch\n",
    "from transformers import AutoTokenizer, XLMRobertaModel\n",
    "\n",
    "tokenizer = AutoTokenizer.from_pretrained(\"xlm-roberta-large\")\n",
    "model = XLMRobertaModel.from_pretrained(\"xlm-roberta-large\")\n",
    "device = torch.device('cuda' if torch.cuda.is_available() else 'cpu')\n",
    "model.to(device)\n"
   ],
   "metadata": {
    "collapsed": false,
    "pycharm": {
     "name": "#%%\n"
    }
   }
  },
  {
   "cell_type": "code",
   "execution_count": 199,
   "outputs": [],
   "source": [
    "# Function to get [CLS] token embedding for a given text\n",
    "def get_cls_embedding(text, tokenizer, model, device):\n",
    "    # Tokenize input text\n",
    "    sentence = torch.tensor([tokenizer.encode(text)]).to(device)\n",
    "    # Get model output\n",
    "    with torch.no_grad():\n",
    "        output = model(sentence)\n",
    "    # Extract last layer token embeddings\n",
    "    hidden_states = output[-1]\n",
    "    # Extract [CLS] token embeddings\n",
    "    return hidden_states[0]\n",
    "\n",
    "sample_text = filtered_control_df_after_cleaning['full_text_cleaned'].iloc[0]\n",
    "output = get_cls_embedding(sample_text, tokenizer, model, device)\n"
   ],
   "metadata": {
    "collapsed": false,
    "pycharm": {
     "name": "#%%\n"
    }
   }
  },
  {
   "cell_type": "code",
   "execution_count": null,
   "outputs": [],
   "source": [
    "user_tweets_embeddings = []\n",
    "for tweet_text\n"
   ],
   "metadata": {
    "collapsed": false,
    "pycharm": {
     "name": "#%%\n"
    }
   }
  },
  {
   "cell_type": "code",
   "execution_count": null,
   "outputs": [],
   "source": [],
   "metadata": {
    "collapsed": false,
    "pycharm": {
     "name": "#%%\n"
    }
   }
  },
  {
   "cell_type": "code",
   "execution_count": 201,
   "outputs": [
    {
     "data": {
      "text/plain": "torch.Size([1024])"
     },
     "execution_count": 201,
     "metadata": {},
     "output_type": "execute_result"
    }
   ],
   "source": [
    "output.shape"
   ],
   "metadata": {
    "collapsed": false,
    "pycharm": {
     "name": "#%%\n"
    }
   }
  },
  {
   "cell_type": "code",
   "execution_count": 195,
   "outputs": [
    {
     "data": {
      "text/plain": "torch.Size([1024])"
     },
     "execution_count": 195,
     "metadata": {},
     "output_type": "execute_result"
    }
   ],
   "source": [
    "embedding_output.shape"
   ],
   "metadata": {
    "collapsed": false,
    "pycharm": {
     "name": "#%%\n"
    }
   }
  },
  {
   "cell_type": "code",
   "execution_count": 191,
   "outputs": [
    {
     "data": {
      "text/plain": "SequenceClassifierOutput(loss=None, logits=tensor([[ 0.5563, -0.8087]], device='cuda:0', grad_fn=<AddmmBackward0>), hidden_states=None, attentions=None)"
     },
     "execution_count": 191,
     "metadata": {},
     "output_type": "execute_result"
    }
   ],
   "source": [
    "output"
   ],
   "metadata": {
    "collapsed": false,
    "pycharm": {
     "name": "#%%\n"
    }
   }
  },
  {
   "cell_type": "code",
   "execution_count": null,
   "outputs": [],
   "source": [],
   "metadata": {
    "collapsed": false,
    "pycharm": {
     "name": "#%%\n"
    }
   }
  }
 ],
 "metadata": {
  "kernelspec": {
   "display_name": "Python 3",
   "language": "python",
   "name": "python3"
  },
  "language_info": {
   "codemirror_mode": {
    "name": "ipython",
    "version": 2
   },
   "file_extension": ".py",
   "mimetype": "text/x-python",
   "name": "python",
   "nbconvert_exporter": "python",
   "pygments_lexer": "ipython2",
   "version": "2.7.6"
  }
 },
 "nbformat": 4,
 "nbformat_minor": 0
}