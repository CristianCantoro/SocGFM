{
 "cells": [
  {
   "cell_type": "code",
   "execution_count": 59,
   "id": "b395b90f-5894-4949-bbf6-b0cb8e2ca559",
   "metadata": {
    "pycharm": {
     "name": "#%%\n"
    }
   },
   "outputs": [],
   "source": [
    "import networkx as nx\n",
    "import numpy as np\n",
    "import scipy.sparse as sp\n",
    "from sklearn.linear_model import LogisticRegression\n",
    "from sklearn.decomposition import TruncatedSVD\n",
    "from sklearn import metrics\n",
    "from tqdm.notebook import tqdm\n"
   ]
  },
  {
   "cell_type": "code",
   "execution_count": 63,
   "id": "9092be47-3d77-41d3-b11e-8e8234960578",
   "metadata": {
    "pycharm": {
     "name": "#%%\n"
    }
   },
   "outputs": [
    {
     "data": {
      "application/vnd.jupyter.widget-view+json": {
       "model_id": "7a26d73bef514ccabff6cad8ea0146bb",
       "version_major": 2,
       "version_minor": 0
      },
      "text/plain": [
       "  0%|          | 0/100 [00:00<?, ?it/s]"
      ]
     },
     "metadata": {},
     "output_type": "display_data"
    }
   ],
   "source": [
    "# Simulate N graphs\n",
    "NUM_GRAPHS = 101\n",
    "MIN_NUM_NODES, MAX_NUM_NODES = 50, 100\n",
    "MIN_EDGE_PER_NODE, MAX_EDGE_PER_NODE = 2, 5\n",
    "hidden_dim = 32  # dimensionality of SVD\n",
    "top_percentile = 90  # centrality percentile over which the node label is equal to 1\n",
    "\n",
    "x_train = None\n",
    "y_train = None\n",
    "for i in tqdm(range(NUM_GRAPHS-1)):\n",
    "    # Step 1. Generate the graph\n",
    "    num_nodes = np.random.randint(low=MIN_NUM_NODES, high=MAX_NUM_NODES)\n",
    "    num_edges_per_node = np.random.randint(low=MIN_EDGE_PER_NODE, high=MAX_EDGE_PER_NODE)\n",
    "    graph = nx.barabasi_albert_graph(n=num_nodes,\n",
    "                                     m=num_edges_per_node, seed=i)\n",
    "    # Step 2. Compute Singular Value Decomposition of the adjacency matrix\n",
    "    adj_matrix = nx.to_numpy_array(graph)\n",
    "    row, col = np.where(adj_matrix == 1.)\n",
    "    sparse_adj_matrix = sp.coo_matrix((np.ones(row.shape[0]), (row, col)), shape=(num_nodes, num_nodes))\n",
    "    svd = TruncatedSVD(n_components=hidden_dim, n_iter=128)\n",
    "    svd.fit(sparse_adj_matrix)\n",
    "    svd_embeddings = svd.components_.T\n",
    "    # Step 3. Label each node according to its eigenvector centrality\n",
    "    eigenvector_centrality_dict = nx.eigenvector_centrality(graph)\n",
    "    eigenvector_centrality_list = [-1]*graph.number_of_nodes()\n",
    "    for node_id in eigenvector_centrality_dict:\n",
    "        eigenvector_centrality_list[node_id] = eigenvector_centrality_dict[node_id]\n",
    "    eigenvector_centrality_list = np.array(eigenvector_centrality_list)\n",
    "    \n",
    "    top_percentile_value = np.percentile(eigenvector_centrality_list, top_percentile)\n",
    "    y_graph_label = (eigenvector_centrality_list > top_percentile_value).astype(int)\n",
    "    if i == 0:\n",
    "        x_train = np.copy(svd_embeddings)\n",
    "        y_train = np.copy(y_graph_label)\n",
    "    else:\n",
    "        x_train = np.vstack([x_train, np.copy(svd_embeddings)])\n",
    "        y_train = np.concatenate([y_train, np.copy(y_graph_label)])\n"
   ]
  },
  {
   "cell_type": "code",
   "execution_count": 75,
   "id": "88fa3ee1-5ad7-43d2-a70a-6f9a08b40edb",
   "metadata": {
    "pycharm": {
     "name": "#%%\n"
    }
   },
   "outputs": [],
   "source": [
    "# Step 1. Generate a test graph\n",
    "num_nodes = np.random.randint(low=MIN_NUM_NODES, high=MAX_NUM_NODES)\n",
    "num_edges_per_node = np.random.randint(low=MIN_EDGE_PER_NODE, high=MAX_EDGE_PER_NODE)\n",
    "test_graph = nx.barabasi_albert_graph(n=num_nodes,\n",
    "                                      m=num_edges_per_node, seed=NUM_GRAPHS)\n",
    "# Step 2. Compute Singular Value Decomposition of the adjacency matrix\n",
    "adj_matrix = nx.to_numpy_array(test_graph)\n",
    "row, col = np.where(adj_matrix == 1.)\n",
    "sparse_adj_matrix = sp.coo_matrix((np.ones(row.shape[0]), (row, col)), shape=(num_nodes, num_nodes))\n",
    "svd = TruncatedSVD(n_components=hidden_dim, n_iter=128)\n",
    "svd.fit(sparse_adj_matrix)\n",
    "test_svd_embeddings = svd.components_.T\n",
    "# Step 3. Label each node according to its eigenvector centrality\n",
    "eigenvector_centrality_dict = nx.eigenvector_centrality(test_graph)\n",
    "eigenvector_centrality_list = [-1]*test_graph.number_of_nodes()\n",
    "for node_id in eigenvector_centrality_dict:\n",
    "    eigenvector_centrality_list[node_id] = eigenvector_centrality_dict[node_id]\n",
    "eigenvector_centrality_list = np.array(eigenvector_centrality_list)\n",
    "top_percentile_value = np.percentile(eigenvector_centrality_list, top_percentile)\n",
    "y_test_graph_label = (eigenvector_centrality_list > top_percentile_value).astype(int)\n"
   ]
  },
  {
   "cell_type": "code",
   "execution_count": 76,
   "id": "0eb4da0f-a7e8-47e2-9dce-978672abf866",
   "metadata": {
    "pycharm": {
     "name": "#%%\n"
    }
   },
   "outputs": [
    {
     "name": "stdout",
     "output_type": "stream",
     "text": [
      "Result on test set:\n",
      "{'f1_macro': 0.791969037252056, 'f1_micro': 0.9418604651162791, 'accuracy': 0.9418604651162791, 'precision': 1.0, 'roc_auc': 1.0}\n"
     ]
    }
   ],
   "source": [
    "# Step 1. Train a model on training graphs\n",
    "classification_model = LogisticRegression()\n",
    "classification_model.fit(x_train, y_train)\n",
    "\n",
    "# Step 2. Make predictions on test graph\n",
    "y_logits = classification_model.predict_proba(test_svd_embeddings)[:, 1]\n",
    "y_pred = classification_model.predict(test_svd_embeddings)\n",
    "\n",
    "# Step 3. Evaluate predictions\n",
    "test_metrics_dict = {'f1_macro': metrics.f1_score(y_test_graph_label,\n",
    "                                                  y_pred, average='macro'),\n",
    "                     'f1_micro': metrics.f1_score(y_test_graph_label,\n",
    "                                                  y_pred, average='micro'),\n",
    "                     'accuracy': metrics.accuracy_score(y_test_graph_label,\n",
    "                                                        y_pred),\n",
    "                     'precision': metrics.precision_score(y_test_graph_label,\n",
    "                                                          y_pred),\n",
    "                     'roc_auc': metrics.roc_auc_score(y_test_graph_label,\n",
    "                                                          y_logits)}\n",
    "\n",
    "print('Result on test set:')\n",
    "print(test_metrics_dict)\n"
   ]
  },
  {
   "cell_type": "code",
   "execution_count": null,
   "id": "7c8deecc-16e5-42de-a044-49efb22795db",
   "metadata": {
    "pycharm": {
     "name": "#%%\n"
    }
   },
   "outputs": [],
   "source": []
  }
 ],
 "metadata": {
  "kernelspec": {
   "display_name": "Python 3 (ipykernel)",
   "language": "python",
   "name": "python3"
  },
  "language_info": {
   "codemirror_mode": {
    "name": "ipython",
    "version": 3
   },
   "file_extension": ".py",
   "mimetype": "text/x-python",
   "name": "python",
   "nbconvert_exporter": "python",
   "pygments_lexer": "ipython3",
   "version": "3.12.2"
  }
 },
 "nbformat": 4,
 "nbformat_minor": 5
}