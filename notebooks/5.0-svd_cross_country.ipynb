{
 "cells": [
  {
   "cell_type": "code",
   "execution_count": 1,
   "outputs": [],
   "source": [
    "import sys\n",
    "sys.path.append('../src')\n",
    "\n",
    "import os\n",
    "import networkx as nx\n",
    "import numpy as np\n",
    "import scipy.sparse as sp\n",
    "from tqdm.notebook import tqdm\n",
    "from sklearn.decomposition import TruncatedSVD\n",
    "from sklearn.model_selection import train_test_split\n",
    "from sklearn.metrics import roc_auc_score\n",
    "\n",
    "from my_utils import set_seed, setup_env\n",
    "from data_loader import create_data_loader\n",
    "from model_eval import eval_pred\n"
   ],
   "metadata": {
    "collapsed": false,
    "pycharm": {
     "name": "#%%\n"
    }
   }
  },
  {
   "cell_type": "code",
   "execution_count": 2,
   "outputs": [],
   "source": [
    "# Hyper parameters\n",
    "seed = 0\n",
    "device_id = '1'\n",
    "dataset_name = 'UAE_sample'\n",
    "num_splits = 20\n",
    "train_few_shot_samples = 10\n",
    "val_few_shot_samples = 10\n",
    "test_perc = 0.2\n",
    "overwrite_data = False\n"
   ],
   "metadata": {
    "collapsed": false,
    "pycharm": {
     "name": "#%%\n"
    }
   }
  },
  {
   "cell_type": "code",
   "execution_count": 3,
   "outputs": [
    {
     "name": "stdout",
     "output_type": "stream",
     "text": [
      "[ Using Seed : 0 ]\n",
      "/mnt/nas/minici/SocGFM/data/processed/UAE_sample/seed_0_num_splits_20/train_10_val_10_test_0.2\n"
     ]
    }
   ],
   "source": [
    "# set seed for reproducibility\n",
    "set_seed(seed)\n",
    "# set device\n",
    "os.environ['CUDA_VISIBLE_DEVICES'] = device_id\n",
    "device, base_dir, interim_data_dir, data_dir = setup_env(device_id, dataset_name, seed, num_splits,\n",
    "                                                         train_few_shot_samples, val_few_shot_samples,\n",
    "                                                          test_perc)\n",
    "print(data_dir)\n",
    "# Create data loader for datasets\n",
    "datasets = create_data_loader(dataset_name, base_dir, data_dir,\n",
    "                              hyper_params={'overwrite_data': overwrite_data,\n",
    "                                            'train_few_shot_samples': train_few_shot_samples,\n",
    "                                            'val_few_shot_samples': val_few_shot_samples,\n",
    "                                            'test_perc': test_perc,\n",
    "                                            'seed': seed,\n",
    "                                            'num_splits': num_splits,\n",
    "                                            },\n",
    "                              device=device)\n",
    "# Remap nodeIDs\n",
    "node_ids_list = list(datasets['graph'].nodes())\n",
    "# Relabel each node from 0 to N-1\n",
    "node_remapping = {node_ids_list[i]: i for i in range(len(node_ids_list))}\n",
    "datasets['graph'] = nx.relabel_nodes(datasets['graph'], node_remapping)\n"
   ],
   "metadata": {
    "collapsed": false,
    "pycharm": {
     "name": "#%%\n"
    }
   }
  },
  {
   "cell_type": "markdown",
   "source": [
    "# Load pre-training dataset"
   ],
   "metadata": {
    "collapsed": false,
    "pycharm": {
     "name": "#%% md\n"
    }
   }
  },
  {
   "cell_type": "code",
   "execution_count": 4,
   "outputs": [
    {
     "name": "stdout",
     "output_type": "stream",
     "text": [
      "/mnt/nas/minici/SocGFM/data/processed/cuba\n"
     ]
    }
   ],
   "source": [
    "# Hyper parameters\n",
    "PRETRAINING_DATASET_NAME = 'cuba'\n",
    "hidden_dim = 64\n",
    "# Constants\n",
    "GRAPH_FILENAME, USER_LABELS_FILENAME = 'fused_network.gml', 'fused_network_node_labels.npy'\n",
    "NODE_FEATURES = 'svd_node_features.npy'\n",
    "\n",
    "pretraining_data_dir = base_dir / 'data' / 'processed' / PRETRAINING_DATASET_NAME\n",
    "print(pretraining_data_dir)\n",
    "\n",
    "# Read network and user labels\n",
    "pretraining_dataset = nx.read_graphml(pretraining_data_dir / GRAPH_FILENAME)\n",
    "pretraining_user_labels = np.load(pretraining_data_dir / USER_LABELS_FILENAME)\n",
    "# Remap nodeIDs\n",
    "node_ids_list = list(pretraining_dataset.nodes())\n",
    "# Relabel each node from 0 to N-1\n",
    "node_remapping = {node_ids_list[i]: i for i in range(len(node_ids_list))}\n",
    "pretraining_dataset = nx.relabel_nodes(pretraining_dataset, node_remapping)\n"
   ],
   "metadata": {
    "collapsed": false,
    "pycharm": {
     "name": "#%%\n"
    }
   }
  },
  {
   "cell_type": "code",
   "execution_count": 5,
   "outputs": [],
   "source": [
    "def get_svd_features(graph, saving_path, hidden_dim):\n",
    "    if saving_path.exists():\n",
    "        return np.load(saving_path)\n",
    "    else:\n",
    "        # Step 2. Compute Singular Value Decomposition of the adjacency matrix\n",
    "        num_nodes = graph.number_of_nodes()\n",
    "        adj_matrix = nx.to_numpy_array(graph)\n",
    "        row, col = np.where(adj_matrix == 1.)\n",
    "        sparse_adj_matrix = sp.coo_matrix((np.ones(row.shape[0]), (row, col)), shape=(num_nodes, num_nodes))\n",
    "        svd = TruncatedSVD(n_components=hidden_dim, n_iter=128)\n",
    "        svd.fit(sparse_adj_matrix)\n",
    "        node_features = svd.components_.T\n",
    "        np.save(file=saving_path, arr=node_features)\n",
    "        return node_features\n",
    "\n",
    "pretraining_svd_embeddings = get_svd_features(pretraining_dataset, pretraining_data_dir / NODE_FEATURES, hidden_dim)\n"
   ],
   "metadata": {
    "collapsed": false,
    "pycharm": {
     "name": "#%%\n"
    }
   }
  },
  {
   "cell_type": "code",
   "execution_count": 52,
   "outputs": [
    {
     "data": {
      "text/plain": "  0%|          | 0/3 [00:00<?, ?it/s]",
      "application/vnd.jupyter.widget-view+json": {
       "version_major": 2,
       "version_minor": 0,
       "model_id": "2794d82ff5cb4cf786a36b65bd228c4d"
      }
     },
     "metadata": {},
     "output_type": "display_data"
    },
    {
     "name": "stdout",
     "output_type": "stream",
     "text": [
      "centrality  0\n",
      "centrality  1\n",
      "centrality  2\n"
     ]
    }
   ],
   "source": [
    "# Alternative feature extractor based on node centrality\n",
    "centrality_fn = [nx.degree_centrality, nx.eigenvector_centrality, nx.pagerank]\n",
    "pretraining_node_embeddings = np.full(shape=(pretraining_dataset.number_of_nodes(), len(centrality_fn)), fill_value=None)\n",
    "for i in tqdm(range(len(centrality_fn))):\n",
    "    print('centrality ', i)\n",
    "    centrality_stats = centrality_fn[i](pretraining_dataset)\n",
    "    for nodeid in centrality_stats:\n",
    "        pretraining_node_embeddings[nodeid, i] = centrality_stats[nodeid]\n",
    "np.save(file=pretraining_data_dir / 'centrality_node_features.npy', arr=pretraining_node_embeddings)\n"
   ],
   "metadata": {
    "collapsed": false,
    "pycharm": {
     "name": "#%%\n"
    }
   }
  },
  {
   "cell_type": "markdown",
   "source": [
    "# Train a Random Forest on the pretraining dataset"
   ],
   "metadata": {
    "collapsed": false,
    "pycharm": {
     "name": "#%% md\n"
    }
   }
  },
  {
   "cell_type": "code",
   "execution_count": 9,
   "outputs": [
    {
     "name": "stdout",
     "output_type": "stream",
     "text": [
      "{'n_estimators': [200, 288, 377, 466, 555, 644, 733, 822, 911, 1000], 'max_features': ['log2', 'sqrt'], 'max_depth': [10, 20, 30, 40, 50, 60, 70, 80, 90, 100, 110, None], 'min_samples_split': [2, 5, 10], 'min_samples_leaf': [1, 2, 4], 'bootstrap': [True, False]}\n",
      "Fitting 4 folds for each of 100 candidates, totalling 400 fits\n"
     ]
    },
    {
     "data": {
      "text/plain": "RandomizedSearchCV(cv=4, estimator=RandomForestClassifier(), n_iter=100,\n                   n_jobs=-1,\n                   param_distributions={'bootstrap': [True, False],\n                                        'max_depth': [10, 20, 30, 40, 50, 60,\n                                                      70, 80, 90, 100, 110,\n                                                      None],\n                                        'max_features': ['log2', 'sqrt'],\n                                        'min_samples_leaf': [1, 2, 4],\n                                        'min_samples_split': [2, 5, 10],\n                                        'n_estimators': [200, 288, 377, 466,\n                                                         555, 644, 733, 822,\n                                                         911, 1000]},\n                   random_state=0, scoring='roc_auc', verbose=2)",
      "text/html": "<style>#sk-container-id-2 {color: black;}#sk-container-id-2 pre{padding: 0;}#sk-container-id-2 div.sk-toggleable {background-color: white;}#sk-container-id-2 label.sk-toggleable__label {cursor: pointer;display: block;width: 100%;margin-bottom: 0;padding: 0.3em;box-sizing: border-box;text-align: center;}#sk-container-id-2 label.sk-toggleable__label-arrow:before {content: \"▸\";float: left;margin-right: 0.25em;color: #696969;}#sk-container-id-2 label.sk-toggleable__label-arrow:hover:before {color: black;}#sk-container-id-2 div.sk-estimator:hover label.sk-toggleable__label-arrow:before {color: black;}#sk-container-id-2 div.sk-toggleable__content {max-height: 0;max-width: 0;overflow: hidden;text-align: left;background-color: #f0f8ff;}#sk-container-id-2 div.sk-toggleable__content pre {margin: 0.2em;color: black;border-radius: 0.25em;background-color: #f0f8ff;}#sk-container-id-2 input.sk-toggleable__control:checked~div.sk-toggleable__content {max-height: 200px;max-width: 100%;overflow: auto;}#sk-container-id-2 input.sk-toggleable__control:checked~label.sk-toggleable__label-arrow:before {content: \"▾\";}#sk-container-id-2 div.sk-estimator input.sk-toggleable__control:checked~label.sk-toggleable__label {background-color: #d4ebff;}#sk-container-id-2 div.sk-label input.sk-toggleable__control:checked~label.sk-toggleable__label {background-color: #d4ebff;}#sk-container-id-2 input.sk-hidden--visually {border: 0;clip: rect(1px 1px 1px 1px);clip: rect(1px, 1px, 1px, 1px);height: 1px;margin: -1px;overflow: hidden;padding: 0;position: absolute;width: 1px;}#sk-container-id-2 div.sk-estimator {font-family: monospace;background-color: #f0f8ff;border: 1px dotted black;border-radius: 0.25em;box-sizing: border-box;margin-bottom: 0.5em;}#sk-container-id-2 div.sk-estimator:hover {background-color: #d4ebff;}#sk-container-id-2 div.sk-parallel-item::after {content: \"\";width: 100%;border-bottom: 1px solid gray;flex-grow: 1;}#sk-container-id-2 div.sk-label:hover label.sk-toggleable__label {background-color: #d4ebff;}#sk-container-id-2 div.sk-serial::before {content: \"\";position: absolute;border-left: 1px solid gray;box-sizing: border-box;top: 0;bottom: 0;left: 50%;z-index: 0;}#sk-container-id-2 div.sk-serial {display: flex;flex-direction: column;align-items: center;background-color: white;padding-right: 0.2em;padding-left: 0.2em;position: relative;}#sk-container-id-2 div.sk-item {position: relative;z-index: 1;}#sk-container-id-2 div.sk-parallel {display: flex;align-items: stretch;justify-content: center;background-color: white;position: relative;}#sk-container-id-2 div.sk-item::before, #sk-container-id-2 div.sk-parallel-item::before {content: \"\";position: absolute;border-left: 1px solid gray;box-sizing: border-box;top: 0;bottom: 0;left: 50%;z-index: -1;}#sk-container-id-2 div.sk-parallel-item {display: flex;flex-direction: column;z-index: 1;position: relative;background-color: white;}#sk-container-id-2 div.sk-parallel-item:first-child::after {align-self: flex-end;width: 50%;}#sk-container-id-2 div.sk-parallel-item:last-child::after {align-self: flex-start;width: 50%;}#sk-container-id-2 div.sk-parallel-item:only-child::after {width: 0;}#sk-container-id-2 div.sk-dashed-wrapped {border: 1px dashed gray;margin: 0 0.4em 0.5em 0.4em;box-sizing: border-box;padding-bottom: 0.4em;background-color: white;}#sk-container-id-2 div.sk-label label {font-family: monospace;font-weight: bold;display: inline-block;line-height: 1.2em;}#sk-container-id-2 div.sk-label-container {text-align: center;}#sk-container-id-2 div.sk-container {/* jupyter's `normalize.less` sets `[hidden] { display: none; }` but bootstrap.min.css set `[hidden] { display: none !important; }` so we also need the `!important` here to be able to override the default hidden behavior on the sphinx rendered scikit-learn.org. See: https://github.com/scikit-learn/scikit-learn/issues/21755 */display: inline-block !important;position: relative;}#sk-container-id-2 div.sk-text-repr-fallback {display: none;}</style><div id=\"sk-container-id-2\" class=\"sk-top-container\"><div class=\"sk-text-repr-fallback\"><pre>RandomizedSearchCV(cv=4, estimator=RandomForestClassifier(), n_iter=100,\n                   n_jobs=-1,\n                   param_distributions={&#x27;bootstrap&#x27;: [True, False],\n                                        &#x27;max_depth&#x27;: [10, 20, 30, 40, 50, 60,\n                                                      70, 80, 90, 100, 110,\n                                                      None],\n                                        &#x27;max_features&#x27;: [&#x27;log2&#x27;, &#x27;sqrt&#x27;],\n                                        &#x27;min_samples_leaf&#x27;: [1, 2, 4],\n                                        &#x27;min_samples_split&#x27;: [2, 5, 10],\n                                        &#x27;n_estimators&#x27;: [200, 288, 377, 466,\n                                                         555, 644, 733, 822,\n                                                         911, 1000]},\n                   random_state=0, scoring=&#x27;roc_auc&#x27;, verbose=2)</pre><b>In a Jupyter environment, please rerun this cell to show the HTML representation or trust the notebook. <br />On GitHub, the HTML representation is unable to render, please try loading this page with nbviewer.org.</b></div><div class=\"sk-container\" hidden><div class=\"sk-item sk-dashed-wrapped\"><div class=\"sk-label-container\"><div class=\"sk-label sk-toggleable\"><input class=\"sk-toggleable__control sk-hidden--visually\" id=\"sk-estimator-id-4\" type=\"checkbox\" ><label for=\"sk-estimator-id-4\" class=\"sk-toggleable__label sk-toggleable__label-arrow\">RandomizedSearchCV</label><div class=\"sk-toggleable__content\"><pre>RandomizedSearchCV(cv=4, estimator=RandomForestClassifier(), n_iter=100,\n                   n_jobs=-1,\n                   param_distributions={&#x27;bootstrap&#x27;: [True, False],\n                                        &#x27;max_depth&#x27;: [10, 20, 30, 40, 50, 60,\n                                                      70, 80, 90, 100, 110,\n                                                      None],\n                                        &#x27;max_features&#x27;: [&#x27;log2&#x27;, &#x27;sqrt&#x27;],\n                                        &#x27;min_samples_leaf&#x27;: [1, 2, 4],\n                                        &#x27;min_samples_split&#x27;: [2, 5, 10],\n                                        &#x27;n_estimators&#x27;: [200, 288, 377, 466,\n                                                         555, 644, 733, 822,\n                                                         911, 1000]},\n                   random_state=0, scoring=&#x27;roc_auc&#x27;, verbose=2)</pre></div></div></div><div class=\"sk-parallel\"><div class=\"sk-parallel-item\"><div class=\"sk-item\"><div class=\"sk-label-container\"><div class=\"sk-label sk-toggleable\"><input class=\"sk-toggleable__control sk-hidden--visually\" id=\"sk-estimator-id-5\" type=\"checkbox\" ><label for=\"sk-estimator-id-5\" class=\"sk-toggleable__label sk-toggleable__label-arrow\">estimator: RandomForestClassifier</label><div class=\"sk-toggleable__content\"><pre>RandomForestClassifier()</pre></div></div></div><div class=\"sk-serial\"><div class=\"sk-item\"><div class=\"sk-estimator sk-toggleable\"><input class=\"sk-toggleable__control sk-hidden--visually\" id=\"sk-estimator-id-6\" type=\"checkbox\" ><label for=\"sk-estimator-id-6\" class=\"sk-toggleable__label sk-toggleable__label-arrow\">RandomForestClassifier</label><div class=\"sk-toggleable__content\"><pre>RandomForestClassifier()</pre></div></div></div></div></div></div></div></div></div></div>"
     },
     "execution_count": 9,
     "metadata": {},
     "output_type": "execute_result"
    }
   ],
   "source": [
    "from sklearn.ensemble import RandomForestClassifier\n",
    "from sklearn.model_selection import RandomizedSearchCV\n",
    "\n",
    "# Number of trees in random forest\n",
    "n_estimators = [int(x) for x in np.linspace(start = 200, stop = 1000, num = 10)]\n",
    "# Number of features to consider at every split\n",
    "max_features = ['log2', 'sqrt']\n",
    "# Maximum number of levels in tree\n",
    "max_depth = [int(x) for x in np.linspace(10, 110, num = 11)]\n",
    "max_depth.append(None)\n",
    "# Minimum number of samples required to split a node\n",
    "min_samples_split = [2, 5, 10]\n",
    "# Minimum number of samples required at each leaf node\n",
    "min_samples_leaf = [1, 2, 4]\n",
    "# Method of selecting samples for training each tree\n",
    "bootstrap = [True, False]\n",
    "# Create the random grid\n",
    "random_grid = {'n_estimators': n_estimators,\n",
    "               'max_features': max_features,\n",
    "               'max_depth': max_depth,\n",
    "               'min_samples_split': min_samples_split,\n",
    "               'min_samples_leaf': min_samples_leaf,\n",
    "               'bootstrap': bootstrap}\n",
    "print(random_grid)\n",
    "\n",
    "# Use the random grid to search for best hyperparameters\n",
    "# First create the base model to tune\n",
    "rf = RandomForestClassifier()\n",
    "# Random search of parameters, using 4 fold cross validation,\n",
    "# search across 100 different combinations, and use all available cores\n",
    "rf_random = RandomizedSearchCV(estimator = rf, param_distributions = random_grid, n_iter = 100, cv = 4, verbose=2, random_state=seed, n_jobs = -1,\n",
    "                               scoring = 'roc_auc', refit=True)\n",
    "# Fit the random search model\n",
    "rf_random.fit(pretraining_svd_embeddings, pretraining_user_labels)\n"
   ],
   "metadata": {
    "collapsed": false,
    "pycharm": {
     "name": "#%%\n"
    }
   }
  },
  {
   "cell_type": "code",
   "execution_count": 66,
   "outputs": [
    {
     "data": {
      "text/plain": "RandomForestClassifier()",
      "text/html": "<style>#sk-container-id-11 {color: black;}#sk-container-id-11 pre{padding: 0;}#sk-container-id-11 div.sk-toggleable {background-color: white;}#sk-container-id-11 label.sk-toggleable__label {cursor: pointer;display: block;width: 100%;margin-bottom: 0;padding: 0.3em;box-sizing: border-box;text-align: center;}#sk-container-id-11 label.sk-toggleable__label-arrow:before {content: \"▸\";float: left;margin-right: 0.25em;color: #696969;}#sk-container-id-11 label.sk-toggleable__label-arrow:hover:before {color: black;}#sk-container-id-11 div.sk-estimator:hover label.sk-toggleable__label-arrow:before {color: black;}#sk-container-id-11 div.sk-toggleable__content {max-height: 0;max-width: 0;overflow: hidden;text-align: left;background-color: #f0f8ff;}#sk-container-id-11 div.sk-toggleable__content pre {margin: 0.2em;color: black;border-radius: 0.25em;background-color: #f0f8ff;}#sk-container-id-11 input.sk-toggleable__control:checked~div.sk-toggleable__content {max-height: 200px;max-width: 100%;overflow: auto;}#sk-container-id-11 input.sk-toggleable__control:checked~label.sk-toggleable__label-arrow:before {content: \"▾\";}#sk-container-id-11 div.sk-estimator input.sk-toggleable__control:checked~label.sk-toggleable__label {background-color: #d4ebff;}#sk-container-id-11 div.sk-label input.sk-toggleable__control:checked~label.sk-toggleable__label {background-color: #d4ebff;}#sk-container-id-11 input.sk-hidden--visually {border: 0;clip: rect(1px 1px 1px 1px);clip: rect(1px, 1px, 1px, 1px);height: 1px;margin: -1px;overflow: hidden;padding: 0;position: absolute;width: 1px;}#sk-container-id-11 div.sk-estimator {font-family: monospace;background-color: #f0f8ff;border: 1px dotted black;border-radius: 0.25em;box-sizing: border-box;margin-bottom: 0.5em;}#sk-container-id-11 div.sk-estimator:hover {background-color: #d4ebff;}#sk-container-id-11 div.sk-parallel-item::after {content: \"\";width: 100%;border-bottom: 1px solid gray;flex-grow: 1;}#sk-container-id-11 div.sk-label:hover label.sk-toggleable__label {background-color: #d4ebff;}#sk-container-id-11 div.sk-serial::before {content: \"\";position: absolute;border-left: 1px solid gray;box-sizing: border-box;top: 0;bottom: 0;left: 50%;z-index: 0;}#sk-container-id-11 div.sk-serial {display: flex;flex-direction: column;align-items: center;background-color: white;padding-right: 0.2em;padding-left: 0.2em;position: relative;}#sk-container-id-11 div.sk-item {position: relative;z-index: 1;}#sk-container-id-11 div.sk-parallel {display: flex;align-items: stretch;justify-content: center;background-color: white;position: relative;}#sk-container-id-11 div.sk-item::before, #sk-container-id-11 div.sk-parallel-item::before {content: \"\";position: absolute;border-left: 1px solid gray;box-sizing: border-box;top: 0;bottom: 0;left: 50%;z-index: -1;}#sk-container-id-11 div.sk-parallel-item {display: flex;flex-direction: column;z-index: 1;position: relative;background-color: white;}#sk-container-id-11 div.sk-parallel-item:first-child::after {align-self: flex-end;width: 50%;}#sk-container-id-11 div.sk-parallel-item:last-child::after {align-self: flex-start;width: 50%;}#sk-container-id-11 div.sk-parallel-item:only-child::after {width: 0;}#sk-container-id-11 div.sk-dashed-wrapped {border: 1px dashed gray;margin: 0 0.4em 0.5em 0.4em;box-sizing: border-box;padding-bottom: 0.4em;background-color: white;}#sk-container-id-11 div.sk-label label {font-family: monospace;font-weight: bold;display: inline-block;line-height: 1.2em;}#sk-container-id-11 div.sk-label-container {text-align: center;}#sk-container-id-11 div.sk-container {/* jupyter's `normalize.less` sets `[hidden] { display: none; }` but bootstrap.min.css set `[hidden] { display: none !important; }` so we also need the `!important` here to be able to override the default hidden behavior on the sphinx rendered scikit-learn.org. See: https://github.com/scikit-learn/scikit-learn/issues/21755 */display: inline-block !important;position: relative;}#sk-container-id-11 div.sk-text-repr-fallback {display: none;}</style><div id=\"sk-container-id-11\" class=\"sk-top-container\"><div class=\"sk-text-repr-fallback\"><pre>RandomForestClassifier()</pre><b>In a Jupyter environment, please rerun this cell to show the HTML representation or trust the notebook. <br />On GitHub, the HTML representation is unable to render, please try loading this page with nbviewer.org.</b></div><div class=\"sk-container\" hidden><div class=\"sk-item\"><div class=\"sk-estimator sk-toggleable\"><input class=\"sk-toggleable__control sk-hidden--visually\" id=\"sk-estimator-id-15\" type=\"checkbox\" checked><label for=\"sk-estimator-id-15\" class=\"sk-toggleable__label sk-toggleable__label-arrow\">RandomForestClassifier</label><div class=\"sk-toggleable__content\"><pre>RandomForestClassifier()</pre></div></div></div></div></div>"
     },
     "execution_count": 66,
     "metadata": {},
     "output_type": "execute_result"
    }
   ],
   "source": [
    "from sklearn.preprocessing import RobustScaler\n",
    "\n",
    "SCALING=False\n",
    "if SCALING:\n",
    "    scaled_pretraining_svd_embeddings = RobustScaler().fit_transform(pretraining_node_embeddings)\n",
    "else:\n",
    "    scaled_pretraining_svd_embeddings = np.copy(pretraining_node_embeddings)\n",
    "rf_random = RandomForestClassifier()\n",
    "# rf_random.fit(scaled_pretraining_svd_embeddings, pretraining_user_labels)\n",
    "rf_random.fit(scaled_target_svd_embeddings, datasets['labels'])\n"
   ],
   "metadata": {
    "collapsed": false,
    "pycharm": {
     "name": "#%%\n"
    }
   }
  },
  {
   "cell_type": "markdown",
   "source": [
    "## Test this trained RandomForest on another country"
   ],
   "metadata": {
    "collapsed": false,
    "pycharm": {
     "name": "#%% md\n"
    }
   }
  },
  {
   "cell_type": "markdown",
   "source": [
    "#### Extract SVD features from target country"
   ],
   "metadata": {
    "collapsed": false,
    "pycharm": {
     "name": "#%% md\n"
    }
   }
  },
  {
   "cell_type": "code",
   "execution_count": 59,
   "outputs": [],
   "source": [
    "SCALING=False\n",
    "target_svd_embeddings = get_svd_features(datasets['graph'], data_dir.parent.parent / NODE_FEATURES, hidden_dim)\n",
    "if SCALING:\n",
    "    scaled_target_svd_embeddings = RobustScaler().fit_transform(target_svd_embeddings)\n",
    "else:\n",
    "    scaled_target_svd_embeddings = np.copy(target_svd_embeddings)\n"
   ],
   "metadata": {
    "collapsed": false,
    "pycharm": {
     "name": "#%%\n"
    }
   }
  },
  {
   "cell_type": "code",
   "execution_count": 54,
   "outputs": [
    {
     "data": {
      "text/plain": "  0%|          | 0/3 [00:00<?, ?it/s]",
      "application/vnd.jupyter.widget-view+json": {
       "version_major": 2,
       "version_minor": 0,
       "model_id": "198aebb0ae984c15812d3a9c17edefac"
      }
     },
     "metadata": {},
     "output_type": "display_data"
    },
    {
     "name": "stdout",
     "output_type": "stream",
     "text": [
      "centrality  0\n",
      "centrality  1\n",
      "centrality  2\n"
     ]
    }
   ],
   "source": [
    "# Alternative feature extractor based on node centrality\n",
    "centrality_fn = [nx.degree_centrality, nx.eigenvector_centrality, nx.pagerank]\n",
    "target_node_embeddings = np.full(shape=(datasets['graph'].number_of_nodes(), len(centrality_fn)), fill_value=None)\n",
    "for i in tqdm(range(len(centrality_fn))):\n",
    "    print('centrality ', i)\n",
    "    centrality_stats = centrality_fn[i](datasets['graph'])\n",
    "    for nodeid in centrality_stats:\n",
    "        target_node_embeddings[nodeid, i] = centrality_stats[nodeid]\n",
    "np.save(file=data_dir.parent.parent / 'centrality_node_features.npy', arr=target_node_embeddings)\n"
   ],
   "metadata": {
    "collapsed": false,
    "pycharm": {
     "name": "#%%\n"
    }
   }
  },
  {
   "cell_type": "code",
   "execution_count": 60,
   "outputs": [],
   "source": [
    "SCALING=False\n",
    "if SCALING:\n",
    "    scaled_target_svd_embeddings = RobustScaler().fit_transform(target_node_embeddings)\n",
    "else:\n",
    "    scaled_target_svd_embeddings = np.copy(target_node_embeddings)\n",
    "\n"
   ],
   "metadata": {
    "collapsed": false,
    "pycharm": {
     "name": "#%%\n"
    }
   }
  },
  {
   "cell_type": "code",
   "execution_count": 67,
   "outputs": [
    {
     "data": {
      "text/plain": "data split:   0%|          | 0/20 [00:00<?, ?it/s]",
      "application/vnd.jupyter.widget-view+json": {
       "version_major": 2,
       "version_minor": 0,
       "model_id": "07e16f8b549b4594bca45c32df0915b0"
      }
     },
     "metadata": {},
     "output_type": "display_data"
    }
   ],
   "source": [
    "from model_eval import eval_pred, TestLogMetrics\n",
    "\n",
    "test_logger = TestLogMetrics(num_splits, ['accuracy', 'precision', 'f1_macro', 'f1_micro'])\n",
    "for run_id in tqdm(range(num_splits), 'data split'):\n",
    "    # Since this is an unsupervised baseline, we merge training and validation\n",
    "    # unsupervised_mask = np.logical_or(datasets['splits'][run_id]['train'], datasets['splits'][run_id]['val'])\n",
    "    # Select the best threshold according to the eval on train+val sets\n",
    "    # best_val_threshold = get_best_threshold(datasets['labels'], predicted_labels_list, unsupervised_mask, metric_to_optimize)\n",
    "    # val_metrics = eval_pred(datasets['labels'], predicted_labels_list[best_val_threshold], unsupervised_mask)\n",
    "    # Compute test statistics\n",
    "    test_metrics = eval_pred(pretraining_user_labels, rf_random.predict(scaled_pretraining_svd_embeddings), np.full(len(pretraining_user_labels), True))\n",
    "    # test_metrics = eval_pred(datasets['labels'], rf_random.predict(scaled_target_svd_embeddings), datasets['splits'][run_id]['test'])\n",
    "\n",
    "    for metric_name in test_metrics:\n",
    "        test_logger.update(metric_name, run_id, test_metrics[metric_name])\n"
   ],
   "metadata": {
    "collapsed": false,
    "pycharm": {
     "name": "#%%\n"
    }
   }
  },
  {
   "cell_type": "code",
   "execution_count": 68,
   "outputs": [
    {
     "name": "stdout",
     "output_type": "stream",
     "text": [
      "Test accuracy: 0.4747+-0.0\n",
      "Test precision: 0.0641+-0.0\n",
      "Test f1_macro: 0.373+-0.0\n",
      "Test f1_micro: 0.4747+-0.0\n"
     ]
    }
   ],
   "source": [
    "for metric_name in test_logger.test_metrics_dict:\n",
    "    avg_val, std_val = test_logger.get_metric_stats(metric_name)\n",
    "    print(f'Test {metric_name}: {avg_val}+-{std_val}')\n"
   ],
   "metadata": {
    "collapsed": false,
    "pycharm": {
     "name": "#%%\n"
    }
   }
  },
  {
   "cell_type": "markdown",
   "source": [
    "# Repeat by using a GNN"
   ],
   "metadata": {
    "collapsed": false,
    "pycharm": {
     "name": "#%% md\n"
    }
   }
  },
  {
   "cell_type": "markdown",
   "source": [
    "## Train a GCN on the pretraining dataset"
   ],
   "metadata": {
    "collapsed": false,
    "pycharm": {
     "name": "#%% md\n"
    }
   }
  },
  {
   "cell_type": "code",
   "execution_count": null,
   "outputs": [],
   "source": [
    "import torch\n",
    "from torch_geometric.data import Data\n",
    "\n",
    "edge_index = torch.tensor([[0, 1],\n",
    "                           [1, 0],\n",
    "                           [1, 2],\n",
    "                           [2, 1]], dtype=torch.long)\n",
    "x = torch.tensor([[-1], [0], [1]], dtype=torch.float)\n",
    "\n",
    "data = Data(x=x, edge_index=edge_index.t().contiguous())\n",
    "data.validate(raise_on_error=True)"
   ],
   "metadata": {
    "collapsed": false,
    "pycharm": {
     "name": "#%%\n"
    }
   }
  },
  {
   "cell_type": "code",
   "execution_count": null,
   "outputs": [],
   "source": [
    "import torch\n",
    "import torch.nn.functional as F\n",
    "from torch_geometric.nn import GCNConv\n",
    "\n",
    "class GCN(torch.nn.Module):\n",
    "    def __init__(self, num_node_features, hidden_dim, dropout_perc=0.2):\n",
    "        super().__init__()\n",
    "        self.conv1 = GCNConv(num_node_features, hidden_dim)\n",
    "        self.conv2 = GCNConv(hidden_dim, 1)\n",
    "        self.output_activation = torch.nn.Sigmoid()\n",
    "        self.dropout = nn.Dropout(dropout_perc)\n",
    "\n",
    "    def forward(self, data):\n",
    "        x, edge_index = data.x, data.edge_index\n",
    "\n",
    "        x = self.conv1(x, edge_index)\n",
    "        x = F.relu(x)\n",
    "        x = self.dropout(x)\n",
    "        x = self.conv2(x, edge_index)\n",
    "\n",
    "        return self.output_activation(x)"
   ],
   "metadata": {
    "collapsed": false,
    "pycharm": {
     "name": "#%%\n"
    }
   }
  },
  {
   "cell_type": "code",
   "execution_count": null,
   "outputs": [],
   "source": [],
   "metadata": {
    "collapsed": false,
    "pycharm": {
     "name": "#%%\n"
    }
   }
  },
  {
   "cell_type": "code",
   "execution_count": null,
   "outputs": [],
   "source": [],
   "metadata": {
    "collapsed": false,
    "pycharm": {
     "name": "#%%\n"
    }
   }
  },
  {
   "cell_type": "markdown",
   "source": [
    "## Train a multi-layer perceptron on the pre-training dataset"
   ],
   "metadata": {
    "collapsed": false,
    "pycharm": {
     "name": "#%% md\n"
    }
   }
  },
  {
   "cell_type": "code",
   "execution_count": 96,
   "outputs": [],
   "source": [
    "import torch\n",
    "import torch.nn as nn\n",
    "\n",
    "class MyNet(nn.Module):\n",
    "    def __init__(self, hidden_dimension, dropout_perc=0.2, with_batch_norm=False, *args, **kwargs):\n",
    "        super().__init__(*args, **kwargs)\n",
    "        if with_batch_norm:\n",
    "            self.layers = nn.Sequential(\n",
    "                    nn.Linear(hidden_dimension, hidden_dimension),\n",
    "                    nn.BatchNorm1d(hidden_dimension),\n",
    "                    nn.ReLU(),\n",
    "                    nn.Dropout(dropout_perc),\n",
    "                    nn.Linear(hidden_dimension, hidden_dimension),\n",
    "                    nn.BatchNorm1d(hidden_dimension),\n",
    "                    nn.ReLU(),\n",
    "                    nn.Dropout(dropout_perc),\n",
    "                    nn.Linear(hidden_dimension, 1),\n",
    "                    )\n",
    "        else:\n",
    "            self.layers = nn.Sequential(\n",
    "                    nn.Linear(hidden_dimension, hidden_dimension),\n",
    "                    nn.ReLU(),\n",
    "                    nn.Dropout(dropout_perc),\n",
    "                    nn.Linear(hidden_dimension, hidden_dimension),\n",
    "                    nn.ReLU(),\n",
    "                    nn.Dropout(dropout_perc),\n",
    "                    nn.Linear(hidden_dimension, 1),\n",
    "                    )\n",
    "    def forward(self, x):\n",
    "        return self.layers(x)\n"
   ],
   "metadata": {
    "collapsed": false,
    "pycharm": {
     "name": "#%%\n"
    }
   }
  },
  {
   "cell_type": "code",
   "execution_count": 114,
   "outputs": [],
   "source": [
    "pretraining_torch_embeddings = torch.Tensor(pretraining_svd_embeddings).float().to(device)\n",
    "pretraining_torch_labels = torch.Tensor(pretraining_user_labels).float().to(device)\n",
    "\n",
    "from torch.utils.data import Dataset, DataLoader\n",
    "class MyDataset(Dataset):\n",
    "    def __init__(self, features, labels, transform=None):\n",
    "        self.features = features\n",
    "        self.labels = labels\n",
    "        self.transform = transform\n",
    "\n",
    "    def __len__(self):\n",
    "        return len(self.labels)\n",
    "\n",
    "    def __getitem__(self, idx):\n",
    "        if torch.is_tensor(idx):\n",
    "            idx = idx.tolist()\n",
    "        sample = self.features[idx]\n",
    "        sample_labels = self.labels[idx]\n",
    "        if self.transform:\n",
    "            sample = self.transform(sample)\n",
    "        return {'x': sample, 'y': sample_labels}\n",
    "\n"
   ],
   "metadata": {
    "collapsed": false,
    "pycharm": {
     "name": "#%%\n"
    }
   }
  },
  {
   "cell_type": "code",
   "execution_count": 115,
   "outputs": [],
   "source": [
    "# Pretraining hyperparameters\n",
    "num_epochs = 1000\n",
    "batch_size = 1024\n",
    "learning_rate = 1e-3\n",
    "with_batch_norm = True\n",
    "dropout_perc = 0.2\n",
    "val_perc = 0.15\n",
    "VAL_METRIC = 'f1_macro'\n",
    "early_stopping = 10\n",
    "\n",
    "# Create model\n",
    "model = MyNet(hidden_dimension=hidden_dim, dropout_perc=dropout_perc, with_batch_norm=with_batch_norm)\n",
    "model.to(device)\n",
    "optimizer = torch.optim.Adam(model.parameters(), lr=learning_rate)\n",
    "weight = torch.Tensor([pretraining_torch_embeddings.shape[0] / (pretraining_user_labels.sum() * 2)]).float().to(device)\n",
    "loss = torch.nn.BCEWithLogitsLoss(pos_weight = weight)\n",
    "\n",
    "# Create dataloaders\n",
    "train_dataset = MyDataset(pretraining_torch_embeddings, pretraining_torch_labels)\n",
    "train_loader = DataLoader(train_dataset, batch_size=batch_size, shuffle=True, num_workers=0)\n",
    "# Create validation\n",
    "_, val_idxs = train_test_split(range(len(pretraining_user_labels)), test_size=val_perc, random_state=seed, stratify=pretraining_user_labels)\n",
    "val_mask = np.full(shape=pretraining_user_labels.shape, fill_value=False)\n",
    "val_mask[val_idxs] = True\n"
   ],
   "metadata": {
    "collapsed": false,
    "pycharm": {
     "name": "#%%\n"
    }
   }
  },
  {
   "cell_type": "code",
   "execution_count": 116,
   "outputs": [
    {
     "name": "stdout",
     "output_type": "stream",
     "text": [
      "[Epoch: -1] val: 0.32\n",
      "[Epoch: 0] tr: 1.03 val: 0.66\n",
      "[Epoch: 1] tr: 0.96 val: 0.66\n",
      "[Epoch: 2] tr: 0.9 val: 0.66\n",
      "[Epoch: 3] tr: 0.85 val: 0.67\n",
      "[Epoch: 4] tr: 0.81 val: 0.69\n",
      "[Epoch: 5] tr: 0.8 val: 0.73\n",
      "[Epoch: 6] tr: 0.79 val: 0.73\n",
      "[Epoch: 7] tr: 0.78 val: 0.73\n",
      "[Epoch: 8] tr: 0.78 val: 0.73\n",
      "[Epoch: 9] tr: 0.78 val: 0.73\n",
      "[Epoch: 10] tr: 0.78 val: 0.73\n",
      "[Epoch: 11] tr: 0.78 val: 0.73\n",
      "[Epoch: 12] tr: 0.78 val: 0.73\n",
      "[Epoch: 13] tr: 0.77 val: 0.73\n",
      "[Epoch: 14] tr: 0.78 val: 0.73\n",
      "[Epoch: 15] tr: 0.78 val: 0.73\n",
      "[Epoch: 16] tr: 0.78 val: 0.73\n",
      "Early stopping.\n"
     ]
    }
   ],
   "source": [
    "training_loss_list, val_metric_list = [], []\n",
    "best_val_metric = -np.inf\n",
    "early_stopping_count = 0\n",
    "\n",
    "model.eval()\n",
    "with torch.no_grad():\n",
    "    val_pred = torch.nn.Sigmoid()(model(pretraining_torch_embeddings)).detach().cpu().numpy()\n",
    "    val_metrics = roc_auc_score(pretraining_user_labels[val_mask], val_pred[val_mask])\n",
    "print(f'[Epoch: -1] val: {round(val_metrics, 2)}')\n",
    "\n",
    "# Model training loop\n",
    "for epoch in range(num_epochs):\n",
    "    if early_stopping_count > early_stopping:\n",
    "        print('Early stopping.')\n",
    "        break\n",
    "    model.train()\n",
    "    tr_loss = 0\n",
    "    for batch_idx, sample in enumerate(train_loader):\n",
    "        optimizer.zero_grad()\n",
    "        y_pred = model(sample['x']).flatten()\n",
    "        loss_val = loss(y_pred, sample['y'])\n",
    "        tr_loss += loss_val.item()\n",
    "        loss_val.backward()\n",
    "        optimizer.step()\n",
    "    training_loss_list.append(tr_loss / batch_idx)\n",
    "    # Validation step\n",
    "    model.eval()\n",
    "    with torch.no_grad():\n",
    "        val_pred = torch.nn.Sigmoid()(model(pretraining_torch_embeddings)).detach().cpu().numpy()\n",
    "        val_metrics = roc_auc_score(pretraining_user_labels[val_mask], val_pred[val_mask])\n",
    "        val_metric_list.append(val_metrics)\n",
    "        if val_metrics > best_val_metric:\n",
    "            best_val_metric = val_metrics\n",
    "            early_stopping_count = 0\n",
    "        else:\n",
    "            early_stopping_count += 1\n",
    "    print(f'[Epoch: {epoch}] tr: {round(training_loss_list[-1], 2)} val: {round(val_metric_list[-1], 2)}')\n"
   ],
   "metadata": {
    "collapsed": false,
    "pycharm": {
     "name": "#%%\n"
    }
   }
  },
  {
   "cell_type": "markdown",
   "source": [
    "# Test the trained model on a different dataset"
   ],
   "metadata": {
    "collapsed": false,
    "pycharm": {
     "name": "#%% md\n"
    }
   }
  },
  {
   "cell_type": "markdown",
   "source": [
    "#### Compute SVD features for the new graph"
   ],
   "metadata": {
    "collapsed": false,
    "pycharm": {
     "name": "#%% md\n"
    }
   }
  },
  {
   "cell_type": "code",
   "execution_count": 125,
   "outputs": [
    {
     "name": "stdout",
     "output_type": "stream",
     "text": [
      "/mnt/nas/minici/SocGFM/data/processed/UAE_sample\n"
     ]
    }
   ],
   "source": [
    "# Hyper parameters\n",
    "TEST_DATASET_NAME = 'UAE_sample'\n",
    "hidden_dim = 64\n",
    "# Constants\n",
    "GRAPH_FILENAME, USER_LABELS_FILENAME = 'fused_network.gml', 'fused_network_node_labels.npy'\n",
    "\n",
    "test_dataset_data_dir = base_dir / 'data' / 'processed' / TEST_DATASET_NAME\n",
    "print(test_dataset_data_dir)\n",
    "\n",
    "# Read network and user labels\n",
    "test_dataset = nx.read_graphml(test_dataset_data_dir / GRAPH_FILENAME)\n",
    "test_user_labels = np.load(test_dataset_data_dir / USER_LABELS_FILENAME)\n",
    "# Remap nodeIDs\n",
    "node_ids_list = list(test_dataset.nodes())\n",
    "# Relabel each node from 0 to N-1\n",
    "node_remapping = {node_ids_list[i]: i for i in range(len(node_ids_list))}\n",
    "test_dataset = nx.relabel_nodes(test_dataset, node_remapping)\n"
   ],
   "metadata": {
    "collapsed": false,
    "pycharm": {
     "name": "#%%\n"
    }
   }
  },
  {
   "cell_type": "code",
   "execution_count": 129,
   "outputs": [],
   "source": [
    "# Step 2. Compute Singular Value Decomposition of the adjacency matrix\n",
    "num_nodes = test_dataset.number_of_nodes()\n",
    "adj_matrix = nx.to_numpy_array(test_dataset)\n",
    "row, col = np.where(adj_matrix == 1.)\n",
    "sparse_adj_matrix = sp.coo_matrix((np.ones(row.shape[0]), (row, col)), shape=(num_nodes, num_nodes))\n",
    "svd = TruncatedSVD(n_components=hidden_dim, n_iter=128)\n",
    "svd.fit(sparse_adj_matrix)\n",
    "test_dataset_svd_embeddings = svd.components_.T\n",
    "test_dataset_torch_embeddings = torch.Tensor(test_dataset_svd_embeddings).float().to(device)\n"
   ],
   "metadata": {
    "collapsed": false,
    "pycharm": {
     "name": "#%%\n"
    }
   }
  },
  {
   "cell_type": "code",
   "execution_count": 131,
   "outputs": [
    {
     "data": {
      "text/plain": "data split:   0%|          | 0/20 [00:00<?, ?it/s]",
      "application/vnd.jupyter.widget-view+json": {
       "version_major": 2,
       "version_minor": 0,
       "model_id": "e682d10d4e5548fe9cb609f9050d67fc"
      }
     },
     "metadata": {},
     "output_type": "display_data"
    }
   ],
   "source": [
    "test_rocauc_list = []\n",
    "for run_id in tqdm(range(num_splits), 'data split'):\n",
    "    # Since this is an unsupervised baseline, we merge training and validation\n",
    "    unsupervised_mask = np.logical_or(datasets['splits'][run_id]['train'], datasets['splits'][run_id]['val'])\n",
    "    # Select the best threshold according to the eval on train+val sets\n",
    "    # best_val_threshold = get_best_threshold(datasets['labels'],\n",
    "    #                                         predicted_labels_list, unsupervised_mask, metric_to_optimize)\n",
    "    test_pred = torch.nn.Sigmoid()(model(test_dataset_torch_embeddings)).detach().cpu().numpy()\n",
    "    test_rocauc_list.append(roc_auc_score(test_user_labels, test_pred))\n",
    "    # Compute test statistics\n",
    "    # test_metrics = eval_pred(datasets['labels'], predicted_labels_list[best_val_threshold],\n",
    "    #                          datasets['splits'][run_id]['test'])\n",
    "\n"
   ],
   "metadata": {
    "collapsed": false,
    "pycharm": {
     "name": "#%%\n"
    }
   }
  },
  {
   "cell_type": "code",
   "execution_count": 132,
   "outputs": [
    {
     "data": {
      "text/plain": "[0.5464945502139491,\n 0.5464945502139491,\n 0.5464945502139491,\n 0.5464945502139491,\n 0.5464945502139491,\n 0.5464945502139491,\n 0.5464945502139491,\n 0.5464945502139491,\n 0.5464945502139491,\n 0.5464945502139491,\n 0.5464945502139491,\n 0.5464945502139491,\n 0.5464945502139491,\n 0.5464945502139491,\n 0.5464945502139491,\n 0.5464945502139491,\n 0.5464945502139491,\n 0.5464945502139491,\n 0.5464945502139491,\n 0.5464945502139491]"
     },
     "execution_count": 132,
     "metadata": {},
     "output_type": "execute_result"
    }
   ],
   "source": [
    "test_rocauc_list"
   ],
   "metadata": {
    "collapsed": false,
    "pycharm": {
     "name": "#%%\n"
    }
   }
  },
  {
   "cell_type": "code",
   "execution_count": null,
   "outputs": [],
   "source": [],
   "metadata": {
    "collapsed": false,
    "pycharm": {
     "name": "#%%\n"
    }
   }
  }
 ],
 "metadata": {
  "kernelspec": {
   "display_name": "Python 3",
   "language": "python",
   "name": "python3"
  },
  "language_info": {
   "codemirror_mode": {
    "name": "ipython",
    "version": 2
   },
   "file_extension": ".py",
   "mimetype": "text/x-python",
   "name": "python",
   "nbconvert_exporter": "python",
   "pygments_lexer": "ipython2",
   "version": "2.7.6"
  }
 },
 "nbformat": 4,
 "nbformat_minor": 0
}